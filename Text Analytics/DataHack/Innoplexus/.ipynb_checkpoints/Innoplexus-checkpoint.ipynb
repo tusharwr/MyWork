{
 "cells": [
  {
   "cell_type": "markdown",
   "metadata": {},
   "source": [
    "# Innoplexus Online Hiring Hackathon: Sentiment Analysis"
   ]
  },
  {
   "cell_type": "markdown",
   "metadata": {},
   "source": [
    "- https://datahack.analyticsvidhya.com/contest/innoplexus-online-hiring-hackathon/"
   ]
  },
  {
   "cell_type": "markdown",
   "metadata": {},
   "source": [
    "# Problem Statement"
   ]
  },
  {
   "cell_type": "markdown",
   "metadata": {},
   "source": [
    "## Sentiment Analysis for drugs/medicines"
   ]
  },
  {
   "cell_type": "markdown",
   "metadata": {},
   "source": [
    "Nowadays the narrative of a brand is not only built and controlled by the company that owns the brand. For this reason, companies are constantly looking out across Blogs, Forums, and other social media platforms, etc for checking the sentiment for their various products and also competitor products to learn how their brand resonates in the market. This kind of analysis helps them as part of their post-launch market research. This is relevant for a lot of industries including pharma and their drugs.\n",
    " \n",
    "\n",
    "The challenge is that the language used in this type of content is not strictly grammatically correct. Some use sarcasm. Others cover several topics with different sentiments in one post. Other users post comments and reply and thereby indicating his/her sentiment around the topic.\n",
    "\n",
    "Sentiment can be clubbed into 3 major buckets - Positive, Negative and Neutral Sentiments.\n",
    "\n",
    " \n",
    "\n",
    "You are provided with data containing samples of text. This text can contain one or more drug mentions. Each row contains a unique combination of the text and the drug mention. Note that the same text can also have different sentiment for a different drug.\n",
    "\n",
    "Given the text and drug name, the task is to predict the sentiment for texts contained in the test dataset. Given below is an example of text from the dataset:\n",
    "\n",
    " \n",
    "\n",
    "Example:\n",
    "\n",
    "*Stelara is still fairly new to Crohn's treatment. This is why you might not get a lot of replies. I've done some research, but most of the \"time to work\" answers are from Psoriasis boards. For Psoriasis, it seems to be about 4-12 weeks to reach a strong therapeutic level. The good news is, Stelara seems to be getting rave reviews from Crohn's patients. It seems to be the best med to come along since Remicade. I hope you have good success with it. My daughter was diagnosed Feb. 19/07, (13 yrs. old at the time of diagnosis), with Crohn's of the Terminal Illium. Has used Prednisone and Pentasa. Started Imuran (02/09), had an abdominal abscess (12/08). 2cm of Stricture. Started ​Remicade in Feb. 2014, along with 100mgs. of Imuran.*\n",
    "\n",
    "For Stelara the above text is ​positive​ while for Remicade the above text is ​negative​."
   ]
  },
  {
   "cell_type": "markdown",
   "metadata": {},
   "source": [
    "*TRAIN DATA*  \n",
    "unique_hash - \tUnique ID  \n",
    "text\t    -   text pertaining to the drugs  \n",
    "drug\t    -   drug name for which the sentiment is provided  \n",
    "sentiment\t-   (Target) 0-positive, 1-negative, 2-neutral  "
   ]
  },
  {
   "cell_type": "markdown",
   "metadata": {},
   "source": [
    "# Tokenization\n",
    "- http://feedproxy.google.com/~r/AnalyticsVidhya/~3/HijRs9SFo-8/?utm_source=feedburner&utm_medium=email"
   ]
  },
  {
   "cell_type": "code",
   "execution_count": 363,
   "metadata": {},
   "outputs": [],
   "source": [
    "# more common imports\n",
    "import pandas as pd\n",
    "import numpy as np\n",
    "from collections import Counter\n",
    "import re\n",
    "\n",
    "# languange processing imports\n",
    "import nltk\n",
    "from gensim.corpora import Dictionary\n",
    "# preprocessing imports\n",
    "from sklearn.preprocessing import LabelEncoder\n",
    "\n",
    "# model imports\n",
    "from gensim.models.ldamulticore import LdaMulticore\n",
    "from gensim.models.word2vec import Word2Vec\n",
    "from sklearn.ensemble import RandomForestClassifier, AdaBoostClassifier\n",
    "from sklearn.linear_model import LogisticRegression\n",
    "# hyperparameter training imports\n",
    "from sklearn.model_selection import GridSearchCV\n",
    "from sklearn.decomposition import LatentDirichletAllocation\n",
    "\n",
    "# visualization imports\n",
    "from IPython.display import display\n",
    "import seaborn as sns\n",
    "import matplotlib.pyplot as plt\n",
    "import matplotlib.image as mpimg\n",
    "import base64\n",
    "import io\n",
    "%matplotlib inline\n",
    "sns.set()  # defines the style of the plots to be seaborn style\n",
    "\n",
    "##pretty print\n",
    "import pprint as pp\n",
    "\n",
    "# import spacy library for text cleaning\n",
    "import spacy"
   ]
  },
  {
   "cell_type": "code",
   "execution_count": 364,
   "metadata": {},
   "outputs": [],
   "source": [
    "pd.set_option('max_colwidth', -1)"
   ]
  },
  {
   "cell_type": "code",
   "execution_count": 365,
   "metadata": {},
   "outputs": [
    {
     "name": "stdout",
     "output_type": "stream",
     "text": [
      "(5279, 4)\n"
     ]
    },
    {
     "data": {
      "text/html": [
       "<div>\n",
       "<style scoped>\n",
       "    .dataframe tbody tr th:only-of-type {\n",
       "        vertical-align: middle;\n",
       "    }\n",
       "\n",
       "    .dataframe tbody tr th {\n",
       "        vertical-align: top;\n",
       "    }\n",
       "\n",
       "    .dataframe thead th {\n",
       "        text-align: right;\n",
       "    }\n",
       "</style>\n",
       "<table border=\"1\" class=\"dataframe\">\n",
       "  <thead>\n",
       "    <tr style=\"text-align: right;\">\n",
       "      <th></th>\n",
       "      <th>unique_hash</th>\n",
       "      <th>text</th>\n",
       "      <th>drug</th>\n",
       "      <th>sentiment</th>\n",
       "    </tr>\n",
       "  </thead>\n",
       "  <tbody>\n",
       "    <tr>\n",
       "      <th>0</th>\n",
       "      <td>2e180be4c9214c1f5ab51fd8cc32bc80c9f612e0</td>\n",
       "      <td>Autoimmune diseases tend to come in clusters. As for Gilenya – if you feel good, don’t think about it, it won’t change anything but waste your time and energy. I’m taking Tysabri and feel amazing, no symptoms (other than dodgy color vision, but I’ve had it since always, so, don’t know) and I don’t know if it will last a month, a year, a decade, ive just decided to enjoy the ride, no point in worrying.</td>\n",
       "      <td>gilenya</td>\n",
       "      <td>2</td>\n",
       "    </tr>\n",
       "    <tr>\n",
       "      <th>1</th>\n",
       "      <td>9eba8f80e7e20f3a2f48685530748fbfa95943e4</td>\n",
       "      <td>I can completely understand why you’d want to try it. But, results reported in lectures don’t always stand up to the scrutiny of peer-review during publication. There so much still to do before this is convincing. I hope that it does work out, I really do. And if you’re aware of and happy with the risks, then that’s great. I just think it’s important to present this in a balanced way, and to understand why we don’t move straight from the first show of promise in an animal study to using drugs on humans. There’s still a lot of animal data to gather, and human data to gather before anyone can tell if it’s safe or effective. I can’t tell you how many times animal studies don’t follow through to humans, but it’s one of the major attrition points in drug development. You’ve been through some of the unpredictability issues with Cladribine/Gilenya, where there was an interaction that wasn’t predicted. But once people try it, the doctors can see patterns and work out what’s going on. Clemastine/metformin is very exciting, and given what you’ve said about your current condition and your personal risk tolerance it makes sense to try it. It definitely wouldn’t be for everyone.</td>\n",
       "      <td>gilenya</td>\n",
       "      <td>2</td>\n",
       "    </tr>\n",
       "    <tr>\n",
       "      <th>2</th>\n",
       "      <td>fe809672251f6bd0d986e00380f48d047c7e7b76</td>\n",
       "      <td>Interesting that it only targets S1P-1/5 receptors rather than 1-5 like Fingolimod. Hoping to soon see what the AEs and SAEs were Yes. I'm not sure what this means, exactly:  Quote Nine patients reported serious adverse events (2 mg: 3/29 [10.3%], 1.25 mg: 1/43 [2.3%], 0.5 mg: 4/29 [13.8%], and 0.25 mg: 1/50 [2.0%]; no serious adverse event was reported for more than 1 patient and no new safety signals occurred compared with the BOLD Study. If there were 9 patients reporting SAEs, how can it be stated that \"no serious adverse event was reported for more than 1 patient...\"? Maybe I haven't read this right, or maybe there's a misprint. I'm very pleased that something is being developed for SPMS, and it's encouraging that siponimod doesn't linger for very long in the body.</td>\n",
       "      <td>fingolimod</td>\n",
       "      <td>2</td>\n",
       "    </tr>\n",
       "    <tr>\n",
       "      <th>3</th>\n",
       "      <td>bd22104dfa9ec80db4099523e03fae7a52735eb6</td>\n",
       "      <td>Very interesting, grand merci. Now I wonder where lemtrada and ocrevus sales would go, if they prove anti-cd20 are induction</td>\n",
       "      <td>ocrevus</td>\n",
       "      <td>2</td>\n",
       "    </tr>\n",
       "    <tr>\n",
       "      <th>4</th>\n",
       "      <td>b227688381f9b25e5b65109dd00f7f895e838249</td>\n",
       "      <td>Hi everybody, My latest MRI results for Brain and Cervical Cord are in and my next Neurologist appointment is in the next couple of weeks. There’re no new lesions in Brain/Cord and I’ve had no relapses while I was on Gilenya. This was a good sign. But there was one line in the cervical cord review that concerned me. It goes : “Lesions at C2-3 and T2 now show hypointensity on the post gadolinium T1 images only. This could represent artifact or early axonal loss.” That was bothersome to read. What are the kind of symptoms from C2-C3 lesion should I be aware of ? Would it result in change of my DMT ? Thanks.</td>\n",
       "      <td>gilenya</td>\n",
       "      <td>1</td>\n",
       "    </tr>\n",
       "  </tbody>\n",
       "</table>\n",
       "</div>"
      ],
      "text/plain": [
       "                                unique_hash  \\\n",
       "0  2e180be4c9214c1f5ab51fd8cc32bc80c9f612e0   \n",
       "1  9eba8f80e7e20f3a2f48685530748fbfa95943e4   \n",
       "2  fe809672251f6bd0d986e00380f48d047c7e7b76   \n",
       "3  bd22104dfa9ec80db4099523e03fae7a52735eb6   \n",
       "4  b227688381f9b25e5b65109dd00f7f895e838249   \n",
       "\n",
       "                                                                                                                                                                                                                                                                                                                                                                                                                                                                                                                                                                                                                                                                                                                                                                                                                                                                                                                                                                                                                                                                                                                                                                                                                               text  \\\n",
       "0  Autoimmune diseases tend to come in clusters. As for Gilenya – if you feel good, don’t think about it, it won’t change anything but waste your time and energy. I’m taking Tysabri and feel amazing, no symptoms (other than dodgy color vision, but I’ve had it since always, so, don’t know) and I don’t know if it will last a month, a year, a decade, ive just decided to enjoy the ride, no point in worrying.                                                                                                                                                                                                                                                                                                                                                                                                                                                                                                                                                                                                                                                                                                                                                                                                               \n",
       "1  I can completely understand why you’d want to try it. But, results reported in lectures don’t always stand up to the scrutiny of peer-review during publication. There so much still to do before this is convincing. I hope that it does work out, I really do. And if you’re aware of and happy with the risks, then that’s great. I just think it’s important to present this in a balanced way, and to understand why we don’t move straight from the first show of promise in an animal study to using drugs on humans. There’s still a lot of animal data to gather, and human data to gather before anyone can tell if it’s safe or effective. I can’t tell you how many times animal studies don’t follow through to humans, but it’s one of the major attrition points in drug development. You’ve been through some of the unpredictability issues with Cladribine/Gilenya, where there was an interaction that wasn’t predicted. But once people try it, the doctors can see patterns and work out what’s going on. Clemastine/metformin is very exciting, and given what you’ve said about your current condition and your personal risk tolerance it makes sense to try it. It definitely wouldn’t be for everyone.   \n",
       "2  Interesting that it only targets S1P-1/5 receptors rather than 1-5 like Fingolimod. Hoping to soon see what the AEs and SAEs were Yes. I'm not sure what this means, exactly:  Quote Nine patients reported serious adverse events (2 mg: 3/29 [10.3%], 1.25 mg: 1/43 [2.3%], 0.5 mg: 4/29 [13.8%], and 0.25 mg: 1/50 [2.0%]; no serious adverse event was reported for more than 1 patient and no new safety signals occurred compared with the BOLD Study. If there were 9 patients reporting SAEs, how can it be stated that \"no serious adverse event was reported for more than 1 patient...\"? Maybe I haven't read this right, or maybe there's a misprint. I'm very pleased that something is being developed for SPMS, and it's encouraging that siponimod doesn't linger for very long in the body.                                                                                                                                                                                                                                                                                                                                                                                                                       \n",
       "3  Very interesting, grand merci. Now I wonder where lemtrada and ocrevus sales would go, if they prove anti-cd20 are induction                                                                                                                                                                                                                                                                                                                                                                                                                                                                                                                                                                                                                                                                                                                                                                                                                                                                                                                                                                                                                                                                                                       \n",
       "4  Hi everybody, My latest MRI results for Brain and Cervical Cord are in and my next Neurologist appointment is in the next couple of weeks. There’re no new lesions in Brain/Cord and I’ve had no relapses while I was on Gilenya. This was a good sign. But there was one line in the cervical cord review that concerned me. It goes : “Lesions at C2-3 and T2 now show hypointensity on the post gadolinium T1 images only. This could represent artifact or early axonal loss.” That was bothersome to read. What are the kind of symptoms from C2-C3 lesion should I be aware of ? Would it result in change of my DMT ? Thanks.                                                                                                                                                                                                                                                                                                                                                                                                                                                                                                                                                                                               \n",
       "\n",
       "         drug  sentiment  \n",
       "0  gilenya     2          \n",
       "1  gilenya     2          \n",
       "2  fingolimod  2          \n",
       "3  ocrevus     2          \n",
       "4  gilenya     1          "
      ]
     },
     "execution_count": 365,
     "metadata": {},
     "output_type": "execute_result"
    }
   ],
   "source": [
    "data_train = pd.read_csv('train.csv')\n",
    "print(data_train.shape)\n",
    "data_train.head()"
   ]
  },
  {
   "cell_type": "markdown",
   "metadata": {},
   "source": [
    "# 1- Feature Inspection  "
   ]
  },
  {
   "cell_type": "code",
   "execution_count": 366,
   "metadata": {},
   "outputs": [
    {
     "data": {
      "text/plain": [
       "unique_hash    0\n",
       "text           0\n",
       "drug           0\n",
       "sentiment      0\n",
       "dtype: int64"
      ]
     },
     "execution_count": 366,
     "metadata": {},
     "output_type": "execute_result"
    }
   ],
   "source": [
    "# check if there's missing data\n",
    "data_train.isnull().sum()"
   ]
  },
  {
   "cell_type": "code",
   "execution_count": 367,
   "metadata": {},
   "outputs": [
    {
     "data": {
      "text/plain": [
       "102"
      ]
     },
     "execution_count": 367,
     "metadata": {},
     "output_type": "execute_result"
    }
   ],
   "source": [
    "len(data_train.drug.value_counts().index)"
   ]
  },
  {
   "cell_type": "markdown",
   "metadata": {},
   "source": [
    "### Inspect Sentiment variable"
   ]
  },
  {
   "cell_type": "code",
   "execution_count": 368,
   "metadata": {},
   "outputs": [
    {
     "data": {
      "text/plain": [
       "2    3825\n",
       "1    837 \n",
       "0    617 \n",
       "Name: sentiment, dtype: int64"
      ]
     },
     "execution_count": 368,
     "metadata": {},
     "output_type": "execute_result"
    }
   ],
   "source": [
    "data_train.sentiment.value_counts()"
   ]
  },
  {
   "cell_type": "markdown",
   "metadata": {},
   "source": [
    "### Inspect text variable"
   ]
  },
  {
   "cell_type": "code",
   "execution_count": 369,
   "metadata": {},
   "outputs": [
    {
     "name": "stdout",
     "output_type": "stream",
     "text": [
      "The average number of words in a document is: 344.986550483046.\n",
      "The minimum number of words in a document is: 2.\n",
      "The maximum number of words in a document is: 19890.\n"
     ]
    }
   ],
   "source": [
    "document_lengths = np.array(list(map(len, data_train.text.str.split(' '))))\n",
    "\n",
    "print(\"The average number of words in a document is: {}.\".format(np.mean(document_lengths)))\n",
    "print(\"The minimum number of words in a document is: {}.\".format(min(document_lengths)))\n",
    "print(\"The maximum number of words in a document is: {}.\".format(max(document_lengths)))"
   ]
  },
  {
   "cell_type": "markdown",
   "metadata": {},
   "source": [
    "Note how there's actually a document with just two words. That is going to be interesting to classify. Let's dig in a little bit deeper and see the distribution of the number of words in a document."
   ]
  },
  {
   "cell_type": "code",
   "execution_count": 370,
   "metadata": {},
   "outputs": [
    {
     "data": {
      "text/plain": [
       "array([ 76, 206, 135, ...,   9, 117,  95])"
      ]
     },
     "execution_count": 370,
     "metadata": {},
     "output_type": "execute_result"
    }
   ],
   "source": [
    "document_lengths"
   ]
  },
  {
   "cell_type": "code",
   "execution_count": 371,
   "metadata": {},
   "outputs": [
    {
     "name": "stderr",
     "output_type": "stream",
     "text": [
      "C:\\Users\\tshrs\\Anaconda3\\lib\\site-packages\\scipy\\stats\\stats.py:1713: FutureWarning: Using a non-tuple sequence for multidimensional indexing is deprecated; use `arr[tuple(seq)]` instead of `arr[seq]`. In the future this will be interpreted as an array index, `arr[np.array(seq)]`, which will result either in an error or a different result.\n",
      "  return np.add.reduce(sorted[indexer] * weights, axis=axis) / sumval\n"
     ]
    },
    {
     "data": {
      "image/png": "[encoded data removed]",
      "text/plain": [
       "<Figure size 1080x432 with 1 Axes>"
      ]
     },
     "metadata": {},
     "output_type": "display_data"
    }
   ],
   "source": [
    "fig, ax = plt.subplots(figsize=(15,6))\n",
    "\n",
    "ax.set_title(\"Distribution of number of words\", fontsize=16)\n",
    "ax.set_xlabel(\"Number of words\")\n",
    "sns.distplot(document_lengths, bins=50, ax=ax);\n"
   ]
  },
  {
   "cell_type": "code",
   "execution_count": 372,
   "metadata": {},
   "outputs": [
    {
     "name": "stdout",
     "output_type": "stream",
     "text": [
      "There are 738 documents with over 500 words.\n"
     ]
    }
   ],
   "source": [
    "print(\"There are {} documents with over 500 words.\".format(sum(document_lengths > 500)))\n",
    "\n",
    "shorter_documents = document_lengths[document_lengths <= 500]"
   ]
  },
  {
   "cell_type": "code",
   "execution_count": 373,
   "metadata": {},
   "outputs": [
    {
     "data": {
      "image/png": "[encoded data removed]",
      "text/plain": [
       "<Figure size 1080x432 with 1 Axes>"
      ]
     },
     "metadata": {},
     "output_type": "display_data"
    }
   ],
   "source": [
    "fig, ax = plt.subplots(figsize=(15,6))\n",
    "\n",
    "ax.set_title(\"Distribution of number of words\", fontsize=16)\n",
    "ax.set_xlabel(\"Number of words\")\n",
    "sns.distplot(shorter_documents, bins=50, ax=ax);"
   ]
  },
  {
   "cell_type": "markdown",
   "metadata": {},
   "source": [
    "This makes it a bit clearer. The shorter documents will probably be harder to classify since we'll have less words to cling to. LDA for example tries to find topics in documents, but if the documents are so short, perhaps it will find it hard to really find a topic in a two-word document.\n",
    "Apparently there's actually quite some short documents. Let's just have a quick peek at some of these documents."
   ]
  },
  {
   "cell_type": "code",
   "execution_count": 374,
   "metadata": {},
   "outputs": [
    {
     "name": "stdout",
     "output_type": "stream",
     "text": [
      "There are 11 documents with tops 5 words.\n"
     ]
    }
   ],
   "source": [
    "print(\"There are {} documents with tops 5 words.\".format(sum(document_lengths <= 5)))"
   ]
  },
  {
   "cell_type": "code",
   "execution_count": 375,
   "metadata": {},
   "outputs": [
    {
     "data": {
      "text/html": [
       "<div>\n",
       "<style scoped>\n",
       "    .dataframe tbody tr th:only-of-type {\n",
       "        vertical-align: middle;\n",
       "    }\n",
       "\n",
       "    .dataframe tbody tr th {\n",
       "        vertical-align: top;\n",
       "    }\n",
       "\n",
       "    .dataframe thead th {\n",
       "        text-align: right;\n",
       "    }\n",
       "</style>\n",
       "<table border=\"1\" class=\"dataframe\">\n",
       "  <thead>\n",
       "    <tr style=\"text-align: right;\">\n",
       "      <th></th>\n",
       "      <th>unique_hash</th>\n",
       "      <th>text</th>\n",
       "      <th>drug</th>\n",
       "      <th>sentiment</th>\n",
       "    </tr>\n",
       "  </thead>\n",
       "  <tbody>\n",
       "    <tr>\n",
       "      <th>2301</th>\n",
       "      <td>6df111aa3032069076b12f81bd87a9d72dc795ad</td>\n",
       "      <td>Sandy</td>\n",
       "      <td>opdivo</td>\n",
       "      <td>2</td>\n",
       "    </tr>\n",
       "    <tr>\n",
       "      <th>3525</th>\n",
       "      <td>65fb06982b3518557c8244b947fb36ae33b15534</td>\n",
       "      <td>Chuck</td>\n",
       "      <td>opdivo</td>\n",
       "      <td>2</td>\n",
       "    </tr>\n",
       "  </tbody>\n",
       "</table>\n",
       "</div>"
      ],
      "text/plain": [
       "                                   unique_hash    text    drug  sentiment\n",
       "2301  6df111aa3032069076b12f81bd87a9d72dc795ad   Sandy  opdivo  2        \n",
       "3525  65fb06982b3518557c8244b947fb36ae33b15534   Chuck  opdivo  2        "
      ]
     },
     "execution_count": 375,
     "metadata": {},
     "output_type": "execute_result"
    }
   ],
   "source": [
    "data_train[document_lengths == 2]"
   ]
  },
  {
   "cell_type": "code",
   "execution_count": 376,
   "metadata": {},
   "outputs": [
    {
     "data": {
      "text/html": [
       "<div>\n",
       "<style scoped>\n",
       "    .dataframe tbody tr th:only-of-type {\n",
       "        vertical-align: middle;\n",
       "    }\n",
       "\n",
       "    .dataframe tbody tr th {\n",
       "        vertical-align: top;\n",
       "    }\n",
       "\n",
       "    .dataframe thead th {\n",
       "        text-align: right;\n",
       "    }\n",
       "</style>\n",
       "<table border=\"1\" class=\"dataframe\">\n",
       "  <thead>\n",
       "    <tr style=\"text-align: right;\">\n",
       "      <th></th>\n",
       "      <th>unique_hash</th>\n",
       "      <th>text</th>\n",
       "      <th>drug</th>\n",
       "      <th>sentiment</th>\n",
       "    </tr>\n",
       "  </thead>\n",
       "  <tbody>\n",
       "    <tr>\n",
       "      <th>285</th>\n",
       "      <td>b99f30b5a448c9063469f2c8b1fa0221ab570532</td>\n",
       "      <td>Apologies it's Gilenya</td>\n",
       "      <td>gilenya</td>\n",
       "      <td>2</td>\n",
       "    </tr>\n",
       "    <tr>\n",
       "      <th>1973</th>\n",
       "      <td>ae868203b1cebf2c75722bc38c1f7611ad706ab0</td>\n",
       "      <td>Be well......</td>\n",
       "      <td>tarceva</td>\n",
       "      <td>1</td>\n",
       "    </tr>\n",
       "    <tr>\n",
       "      <th>3446</th>\n",
       "      <td>f57ddcc186c8557ad4201bb252244bba749f23cf</td>\n",
       "      <td>Any advice?</td>\n",
       "      <td>opdivo</td>\n",
       "      <td>2</td>\n",
       "    </tr>\n",
       "  </tbody>\n",
       "</table>\n",
       "</div>"
      ],
      "text/plain": [
       "                                   unique_hash                    text  \\\n",
       "285   b99f30b5a448c9063469f2c8b1fa0221ab570532  Apologies it's Gilenya   \n",
       "1973  ae868203b1cebf2c75722bc38c1f7611ad706ab0   Be well......           \n",
       "3446  f57ddcc186c8557ad4201bb252244bba749f23cf   Any advice?             \n",
       "\n",
       "         drug  sentiment  \n",
       "285   gilenya  2          \n",
       "1973  tarceva  1          \n",
       "3446  opdivo   2          "
      ]
     },
     "execution_count": 376,
     "metadata": {},
     "output_type": "execute_result"
    }
   ],
   "source": [
    "data_train[document_lengths == 3]"
   ]
  },
  {
   "cell_type": "code",
   "execution_count": 377,
   "metadata": {},
   "outputs": [
    {
     "data": {
      "text/html": [
       "<div>\n",
       "<style scoped>\n",
       "    .dataframe tbody tr th:only-of-type {\n",
       "        vertical-align: middle;\n",
       "    }\n",
       "\n",
       "    .dataframe tbody tr th {\n",
       "        vertical-align: top;\n",
       "    }\n",
       "\n",
       "    .dataframe thead th {\n",
       "        text-align: right;\n",
       "    }\n",
       "</style>\n",
       "<table border=\"1\" class=\"dataframe\">\n",
       "  <thead>\n",
       "    <tr style=\"text-align: right;\">\n",
       "      <th></th>\n",
       "      <th>unique_hash</th>\n",
       "      <th>text</th>\n",
       "      <th>drug</th>\n",
       "      <th>sentiment</th>\n",
       "    </tr>\n",
       "  </thead>\n",
       "  <tbody>\n",
       "    <tr>\n",
       "      <th>1270</th>\n",
       "      <td>e0cb10f541366d9cd194af5abbe4e2ff3da468dc</td>\n",
       "      <td>Sorry should read ozurdex</td>\n",
       "      <td>ozurdex</td>\n",
       "      <td>2</td>\n",
       "    </tr>\n",
       "    <tr>\n",
       "      <th>2782</th>\n",
       "      <td>f9ea8531605bc0ddd0d1cdee05aba8a2bdb5322c</td>\n",
       "      <td>Keytruda Carboplatin and Alimta</td>\n",
       "      <td>keytruda</td>\n",
       "      <td>2</td>\n",
       "    </tr>\n",
       "    <tr>\n",
       "      <th>3720</th>\n",
       "      <td>c40d519b9b37c577ff6b385d3c639ef483525f07</td>\n",
       "      <td>There is hope!</td>\n",
       "      <td>opdivo</td>\n",
       "      <td>2</td>\n",
       "    </tr>\n",
       "    <tr>\n",
       "      <th>4158</th>\n",
       "      <td>9a52142fc09639e7670adbf6ab2d1610f0777463</td>\n",
       "      <td>Birmingham, AL: Exploring Ocrevus</td>\n",
       "      <td>ocrevus</td>\n",
       "      <td>2</td>\n",
       "    </tr>\n",
       "  </tbody>\n",
       "</table>\n",
       "</div>"
      ],
      "text/plain": [
       "                                   unique_hash  \\\n",
       "1270  e0cb10f541366d9cd194af5abbe4e2ff3da468dc   \n",
       "2782  f9ea8531605bc0ddd0d1cdee05aba8a2bdb5322c   \n",
       "3720  c40d519b9b37c577ff6b385d3c639ef483525f07   \n",
       "4158  9a52142fc09639e7670adbf6ab2d1610f0777463   \n",
       "\n",
       "                                   text      drug  sentiment  \n",
       "1270  Sorry should read ozurdex          ozurdex   2          \n",
       "2782  Keytruda Carboplatin and Alimta    keytruda  2          \n",
       "3720   There is hope!                    opdivo    2          \n",
       "4158  Birmingham, AL: Exploring Ocrevus  ocrevus   2          "
      ]
     },
     "execution_count": 377,
     "metadata": {},
     "output_type": "execute_result"
    }
   ],
   "source": [
    "data_train[document_lengths == 4]"
   ]
  },
  {
   "cell_type": "code",
   "execution_count": 378,
   "metadata": {},
   "outputs": [
    {
     "data": {
      "text/html": [
       "<div>\n",
       "<style scoped>\n",
       "    .dataframe tbody tr th:only-of-type {\n",
       "        vertical-align: middle;\n",
       "    }\n",
       "\n",
       "    .dataframe tbody tr th {\n",
       "        vertical-align: top;\n",
       "    }\n",
       "\n",
       "    .dataframe thead th {\n",
       "        text-align: right;\n",
       "    }\n",
       "</style>\n",
       "<table border=\"1\" class=\"dataframe\">\n",
       "  <thead>\n",
       "    <tr style=\"text-align: right;\">\n",
       "      <th></th>\n",
       "      <th>unique_hash</th>\n",
       "      <th>text</th>\n",
       "      <th>drug</th>\n",
       "      <th>sentiment</th>\n",
       "    </tr>\n",
       "  </thead>\n",
       "  <tbody>\n",
       "    <tr>\n",
       "      <th>2306</th>\n",
       "      <td>8a268ffc0892e1cc2f1e9af5de0369adcd9a0ddb</td>\n",
       "      <td>Are you on cladribine now?</td>\n",
       "      <td>cladribine</td>\n",
       "      <td>2</td>\n",
       "    </tr>\n",
       "    <tr>\n",
       "      <th>2884</th>\n",
       "      <td>a2d4b7597101841c2a4b0fd6d6d2ba3a039ca7f1</td>\n",
       "      <td>yay for Bob and durvalumab!</td>\n",
       "      <td>durvalumab</td>\n",
       "      <td>2</td>\n",
       "    </tr>\n",
       "  </tbody>\n",
       "</table>\n",
       "</div>"
      ],
      "text/plain": [
       "                                   unique_hash                         text  \\\n",
       "2306  8a268ffc0892e1cc2f1e9af5de0369adcd9a0ddb  Are you on cladribine now?    \n",
       "2884  a2d4b7597101841c2a4b0fd6d6d2ba3a039ca7f1  yay for Bob and durvalumab!   \n",
       "\n",
       "            drug  sentiment  \n",
       "2306  cladribine  2          \n",
       "2884  durvalumab  2          "
      ]
     },
     "execution_count": 378,
     "metadata": {},
     "output_type": "execute_result"
    }
   ],
   "source": [
    "data_train[document_lengths == 5]"
   ]
  },
  {
   "cell_type": "markdown",
   "metadata": {},
   "source": [
    "Looks like there are is rarely a random sentence."
   ]
  },
  {
   "cell_type": "markdown",
   "metadata": {},
   "source": [
    "# 2- Feature Creation / Cleansing"
   ]
  },
  {
   "cell_type": "markdown",
   "metadata": {},
   "source": [
    "The most common steps to take in order to achieve this cleansing.\n",
    "\n",
    "1- **Tokenize** the text; split sentences in (good) words. Thus watch out for punctuation.  \n",
    "2- **Remove words** that mean little; these are usually words that occur very frequently or words that occur very infrequently. Also, punctuation can be removed, but perhaps you'd like to keep some punctuation in, like exclamation marks or question marks since maybe one writer uses them more than others.  \n",
    "3- **Stemming**; this basically means joining words that mean the same. Take for example the words running and runs, the stem of both words is run. Thus with stemming you'd group these words together and give them the same meaning for the model.  \n",
    "4- **Vectorize** words; since we can't input plain words into a model and expect it to learn from it, we have to vectorize the words. This basically means create unit vectors for all words.\n",
    "  \n",
    "For LDA you'd like to perform all four steps. However, for w2v you'd only want to tokenize and remove some punctuation. The w2v model can determine by itself what words are important and what are not, but we'll get back to that later on."
   ]
  },
  {
   "cell_type": "markdown",
   "metadata": {},
   "source": [
    "## 2.1 - Tokenize the text"
   ]
  },
  {
   "cell_type": "markdown",
   "metadata": {},
   "source": [
    "ASCII, pronounced ask-ee, stands for the American Standard Code for Information Interchange. ASCII was originally based on the English alphabet and consists of 128 characters including A-Z, 0-9, punctuation, spaces, and other control codes that can be found on a standard English keyboard. These 128 characters are then assigned a number from 0 to 127 to represent them in data_train transfer from one computer to the other.  \n",
    "\n",
    "Non-ASCII  \n",
    "http://heima.olivant.fo/~styrheim/tools/non-ascii.html  \n",
    "®  \n",
    "ᛋᛏᚤᚱᚼᛂᛁᛘ"
   ]
  },
  {
   "cell_type": "code",
   "execution_count": 379,
   "metadata": {},
   "outputs": [],
   "source": [
    "# # find and remove non-ascii words\n",
    "# # I stored our special word in a variable for later use\n",
    "# our_special_word = 'qwerty'\n",
    "\n",
    "# def remove_ascii_words(df):\n",
    "#     \"\"\" removes non-ascii characters from the 'text' column in df.\n",
    "#     It returns the words containig non-ascii characers.\n",
    "#     \"\"\"\n",
    "#     non_ascii_words = []\n",
    "#     for i in range(len(df)):\n",
    "#         for word in df.loc[i, 'text'].split(' '):\n",
    "#             if any([ord(character) >= 128 for character in word]):\n",
    "#                 non_ascii_words.append(word)\n",
    "#                 df.loc[i, 'text'] = df.loc[i, 'text'].replace(word, our_special_word)\n",
    "#     return non_ascii_words\n",
    "\n",
    "# non_ascii_words = remove_ascii_words(data_train)\n",
    "\n",
    "# print(\"Replaced {} words with characters with an ordinal >= 128 in the train data_train.\".format(\n",
    "#     len(non_ascii_words)))"
   ]
  },
  {
   "cell_type": "code",
   "execution_count": 380,
   "metadata": {
    "scrolled": false
   },
   "outputs": [
    {
     "data": {
      "text/html": [
       "<div>\n",
       "<style scoped>\n",
       "    .dataframe tbody tr th:only-of-type {\n",
       "        vertical-align: middle;\n",
       "    }\n",
       "\n",
       "    .dataframe tbody tr th {\n",
       "        vertical-align: top;\n",
       "    }\n",
       "\n",
       "    .dataframe thead th {\n",
       "        text-align: right;\n",
       "    }\n",
       "</style>\n",
       "<table border=\"1\" class=\"dataframe\">\n",
       "  <thead>\n",
       "    <tr style=\"text-align: right;\">\n",
       "      <th></th>\n",
       "      <th>unique_hash</th>\n",
       "      <th>text</th>\n",
       "      <th>drug</th>\n",
       "      <th>sentiment</th>\n",
       "    </tr>\n",
       "  </thead>\n",
       "  <tbody>\n",
       "    <tr>\n",
       "      <th>0</th>\n",
       "      <td>2e180be4c9214c1f5ab51fd8cc32bc80c9f612e0</td>\n",
       "      <td>Autoimmune diseases tend to come in clusters. As for Gilenya – if you feel good, don’t think about it, it won’t change anything but waste your time and energy. I’m taking Tysabri and feel amazing, no symptoms (other than dodgy color vision, but I’ve had it since always, so, don’t know) and I don’t know if it will last a month, a year, a decade, ive just decided to enjoy the ride, no point in worrying.</td>\n",
       "      <td>gilenya</td>\n",
       "      <td>2</td>\n",
       "    </tr>\n",
       "    <tr>\n",
       "      <th>1</th>\n",
       "      <td>9eba8f80e7e20f3a2f48685530748fbfa95943e4</td>\n",
       "      <td>I can completely understand why you’d want to try it. But, results reported in lectures don’t always stand up to the scrutiny of peer-review during publication. There so much still to do before this is convincing. I hope that it does work out, I really do. And if you’re aware of and happy with the risks, then that’s great. I just think it’s important to present this in a balanced way, and to understand why we don’t move straight from the first show of promise in an animal study to using drugs on humans. There’s still a lot of animal data to gather, and human data to gather before anyone can tell if it’s safe or effective. I can’t tell you how many times animal studies don’t follow through to humans, but it’s one of the major attrition points in drug development. You’ve been through some of the unpredictability issues with Cladribine/Gilenya, where there was an interaction that wasn’t predicted. But once people try it, the doctors can see patterns and work out what’s going on. Clemastine/metformin is very exciting, and given what you’ve said about your current condition and your personal risk tolerance it makes sense to try it. It definitely wouldn’t be for everyone.</td>\n",
       "      <td>gilenya</td>\n",
       "      <td>2</td>\n",
       "    </tr>\n",
       "    <tr>\n",
       "      <th>2</th>\n",
       "      <td>fe809672251f6bd0d986e00380f48d047c7e7b76</td>\n",
       "      <td>Interesting that it only targets S1P-1/5 receptors rather than 1-5 like Fingolimod. Hoping to soon see what the AEs and SAEs were Yes. I'm not sure what this means, exactly:  Quote Nine patients reported serious adverse events (2 mg: 3/29 [10.3%], 1.25 mg: 1/43 [2.3%], 0.5 mg: 4/29 [13.8%], and 0.25 mg: 1/50 [2.0%]; no serious adverse event was reported for more than 1 patient and no new safety signals occurred compared with the BOLD Study. If there were 9 patients reporting SAEs, how can it be stated that \"no serious adverse event was reported for more than 1 patient...\"? Maybe I haven't read this right, or maybe there's a misprint. I'm very pleased that something is being developed for SPMS, and it's encouraging that siponimod doesn't linger for very long in the body.</td>\n",
       "      <td>fingolimod</td>\n",
       "      <td>2</td>\n",
       "    </tr>\n",
       "    <tr>\n",
       "      <th>3</th>\n",
       "      <td>bd22104dfa9ec80db4099523e03fae7a52735eb6</td>\n",
       "      <td>Very interesting, grand merci. Now I wonder where lemtrada and ocrevus sales would go, if they prove anti-cd20 are induction</td>\n",
       "      <td>ocrevus</td>\n",
       "      <td>2</td>\n",
       "    </tr>\n",
       "    <tr>\n",
       "      <th>4</th>\n",
       "      <td>b227688381f9b25e5b65109dd00f7f895e838249</td>\n",
       "      <td>Hi everybody, My latest MRI results for Brain and Cervical Cord are in and my next Neurologist appointment is in the next couple of weeks. There’re no new lesions in Brain/Cord and I’ve had no relapses while I was on Gilenya. This was a good sign. But there was one line in the cervical cord review that concerned me. It goes : “Lesions at C2-3 and T2 now show hypointensity on the post gadolinium T1 images only. This could represent artifact or early axonal loss.” That was bothersome to read. What are the kind of symptoms from C2-C3 lesion should I be aware of ? Would it result in change of my DMT ? Thanks.</td>\n",
       "      <td>gilenya</td>\n",
       "      <td>1</td>\n",
       "    </tr>\n",
       "  </tbody>\n",
       "</table>\n",
       "</div>"
      ],
      "text/plain": [
       "                                unique_hash  \\\n",
       "0  2e180be4c9214c1f5ab51fd8cc32bc80c9f612e0   \n",
       "1  9eba8f80e7e20f3a2f48685530748fbfa95943e4   \n",
       "2  fe809672251f6bd0d986e00380f48d047c7e7b76   \n",
       "3  bd22104dfa9ec80db4099523e03fae7a52735eb6   \n",
       "4  b227688381f9b25e5b65109dd00f7f895e838249   \n",
       "\n",
       "                                                                                                                                                                                                                                                                                                                                                                                                                                                                                                                                                                                                                                                                                                                                                                                                                                                                                                                                                                                                                                                                                                                                                                                                                               text  \\\n",
       "0  Autoimmune diseases tend to come in clusters. As for Gilenya – if you feel good, don’t think about it, it won’t change anything but waste your time and energy. I’m taking Tysabri and feel amazing, no symptoms (other than dodgy color vision, but I’ve had it since always, so, don’t know) and I don’t know if it will last a month, a year, a decade, ive just decided to enjoy the ride, no point in worrying.                                                                                                                                                                                                                                                                                                                                                                                                                                                                                                                                                                                                                                                                                                                                                                                                               \n",
       "1  I can completely understand why you’d want to try it. But, results reported in lectures don’t always stand up to the scrutiny of peer-review during publication. There so much still to do before this is convincing. I hope that it does work out, I really do. And if you’re aware of and happy with the risks, then that’s great. I just think it’s important to present this in a balanced way, and to understand why we don’t move straight from the first show of promise in an animal study to using drugs on humans. There’s still a lot of animal data to gather, and human data to gather before anyone can tell if it’s safe or effective. I can’t tell you how many times animal studies don’t follow through to humans, but it’s one of the major attrition points in drug development. You’ve been through some of the unpredictability issues with Cladribine/Gilenya, where there was an interaction that wasn’t predicted. But once people try it, the doctors can see patterns and work out what’s going on. Clemastine/metformin is very exciting, and given what you’ve said about your current condition and your personal risk tolerance it makes sense to try it. It definitely wouldn’t be for everyone.   \n",
       "2  Interesting that it only targets S1P-1/5 receptors rather than 1-5 like Fingolimod. Hoping to soon see what the AEs and SAEs were Yes. I'm not sure what this means, exactly:  Quote Nine patients reported serious adverse events (2 mg: 3/29 [10.3%], 1.25 mg: 1/43 [2.3%], 0.5 mg: 4/29 [13.8%], and 0.25 mg: 1/50 [2.0%]; no serious adverse event was reported for more than 1 patient and no new safety signals occurred compared with the BOLD Study. If there were 9 patients reporting SAEs, how can it be stated that \"no serious adverse event was reported for more than 1 patient...\"? Maybe I haven't read this right, or maybe there's a misprint. I'm very pleased that something is being developed for SPMS, and it's encouraging that siponimod doesn't linger for very long in the body.                                                                                                                                                                                                                                                                                                                                                                                                                       \n",
       "3  Very interesting, grand merci. Now I wonder where lemtrada and ocrevus sales would go, if they prove anti-cd20 are induction                                                                                                                                                                                                                                                                                                                                                                                                                                                                                                                                                                                                                                                                                                                                                                                                                                                                                                                                                                                                                                                                                                       \n",
       "4  Hi everybody, My latest MRI results for Brain and Cervical Cord are in and my next Neurologist appointment is in the next couple of weeks. There’re no new lesions in Brain/Cord and I’ve had no relapses while I was on Gilenya. This was a good sign. But there was one line in the cervical cord review that concerned me. It goes : “Lesions at C2-3 and T2 now show hypointensity on the post gadolinium T1 images only. This could represent artifact or early axonal loss.” That was bothersome to read. What are the kind of symptoms from C2-C3 lesion should I be aware of ? Would it result in change of my DMT ? Thanks.                                                                                                                                                                                                                                                                                                                                                                                                                                                                                                                                                                                               \n",
       "\n",
       "         drug  sentiment  \n",
       "0  gilenya     2          \n",
       "1  gilenya     2          \n",
       "2  fingolimod  2          \n",
       "3  ocrevus     2          \n",
       "4  gilenya     1          "
      ]
     },
     "execution_count": 380,
     "metadata": {},
     "output_type": "execute_result"
    }
   ],
   "source": [
    "data_train.head()"
   ]
  },
  {
   "cell_type": "code",
   "execution_count": 381,
   "metadata": {},
   "outputs": [],
   "source": [
    "import string\n",
    "def remove_punct(text):\n",
    "    text  = \"\".join([char for char in text if char not in string.punctuation])\n",
    "    text = re.sub('[0-9]+', '', text)\n",
    "    return text"
   ]
  },
  {
   "cell_type": "code",
   "execution_count": 382,
   "metadata": {},
   "outputs": [
    {
     "data": {
      "text/plain": [
       "'!\"#$%&\\'()*+,-./:;<=>?@[\\\\]^_`{|}~'"
      ]
     },
     "execution_count": 382,
     "metadata": {},
     "output_type": "execute_result"
    }
   ],
   "source": [
    "string.punctuation"
   ]
  },
  {
   "cell_type": "code",
   "execution_count": 383,
   "metadata": {},
   "outputs": [],
   "source": [
    "def get_good_tokens(sentence):\n",
    "    replaced_punctation = list(map(lambda token: re.sub('[^0-9A-Za-z!?]+', '', token), sentence))\n",
    "    removed_punctation = list(filter(lambda token: token, replaced_punctation))\n",
    "    return removed_punctation"
   ]
  },
  {
   "cell_type": "code",
   "execution_count": 384,
   "metadata": {},
   "outputs": [],
   "source": [
    "# import spacy   \n",
    "# # Load the language model and parse your document.\n",
    "# nlp = spacy.load('en')  # en for English; others available.\n",
    "\n",
    "# # data_train['new_col'] = data_train['text'].apply(lambda x: nlp(x))"
   ]
  },
  {
   "cell_type": "code",
   "execution_count": 385,
   "metadata": {},
   "outputs": [],
   "source": [
    "# Here we get transform the documents into sentences for the word2vecmodel\n",
    "# we made a function such that later on when we make the submission, we don't need to write duplicate code\n",
    "def w2v_preprocessing(df):\n",
    "    \"\"\" All the preprocessing steps for word2vec are done in this function.\n",
    "    All mutations are done on the data_trainframe itself. So this function returns\n",
    "    nothing.\n",
    "    \"\"\"\n",
    "    df['text'] = df.text.str.lower()\n",
    "    df['document_sentences'] = df.text.str.split('.')  # split texts into individual sentences\n",
    "    df['tokenized_sentences_1'] = list(map(lambda sentences:\n",
    "                                         list(map(remove_punct, sentences))\n",
    "                                         ,df.document_sentences)) #remove punctuations\n",
    "    df['tokenized_sentences_2'] = list(map(lambda sentences:\n",
    "                                         list(map(nltk.word_tokenize, sentences)),\n",
    "                                         df.tokenized_sentences_1))  # tokenize sentences    \n",
    "    df['tokenized_sentences_3'] = list(map(lambda sentences:\n",
    "                                         list(map(get_good_tokens, sentences)),\n",
    "                                         df.tokenized_sentences_2))  # remove unwanted characters\n",
    "    df['tokenized_sentences_4'] = list(map(lambda sentences:\n",
    "                                         list(filter(lambda lst: lst, sentences)),\n",
    "                                         df.tokenized_sentences_3))  # remove empty lists\n",
    "\n",
    "w2v_preprocessing(data_train)"
   ]
  },
  {
   "cell_type": "code",
   "execution_count": 386,
   "metadata": {},
   "outputs": [
    {
     "data": {
      "text/html": [
       "<div>\n",
       "<style scoped>\n",
       "    .dataframe tbody tr th:only-of-type {\n",
       "        vertical-align: middle;\n",
       "    }\n",
       "\n",
       "    .dataframe tbody tr th {\n",
       "        vertical-align: top;\n",
       "    }\n",
       "\n",
       "    .dataframe thead th {\n",
       "        text-align: right;\n",
       "    }\n",
       "</style>\n",
       "<table border=\"1\" class=\"dataframe\">\n",
       "  <thead>\n",
       "    <tr style=\"text-align: right;\">\n",
       "      <th></th>\n",
       "      <th>text</th>\n",
       "      <th>document_sentences</th>\n",
       "      <th>tokenized_sentences_1</th>\n",
       "      <th>tokenized_sentences_2</th>\n",
       "      <th>tokenized_sentences_3</th>\n",
       "      <th>tokenized_sentences_4</th>\n",
       "    </tr>\n",
       "  </thead>\n",
       "  <tbody>\n",
       "    <tr>\n",
       "      <th>4</th>\n",
       "      <td>hi everybody, my latest mri results for brain and cervical cord are in and my next neurologist appointment is in the next couple of weeks. there’re no new lesions in brain/cord and i’ve had no relapses while i was on gilenya. this was a good sign. but there was one line in the cervical cord review that concerned me. it goes : “lesions at c2-3 and t2 now show hypointensity on the post gadolinium t1 images only. this could represent artifact or early axonal loss.” that was bothersome to read. what are the kind of symptoms from c2-c3 lesion should i be aware of ? would it result in change of my dmt ? thanks.</td>\n",
       "      <td>[hi everybody, my latest mri results for brain and cervical cord are in and my next neurologist appointment is in the next couple of weeks,  there’re no new lesions in brain/cord and i’ve had no relapses while i was on gilenya,  this was a good sign,  but there was one line in the cervical cord review that concerned me,  it goes : “lesions at c2-3 and t2 now show hypointensity on the post gadolinium t1 images only,  this could represent artifact or early axonal loss, ” that was bothersome to read,  what are the kind of symptoms from c2-c3 lesion should i be aware of ? would it result in change of my dmt ? thanks, ]</td>\n",
       "      <td>[hi everybody my latest mri results for brain and cervical cord are in and my next neurologist appointment is in the next couple of weeks,  there’re no new lesions in braincord and i’ve had no relapses while i was on gilenya,  this was a good sign,  but there was one line in the cervical cord review that concerned me,  it goes  “lesions at c and t now show hypointensity on the post gadolinium t images only,  this could represent artifact or early axonal loss, ” that was bothersome to read,  what are the kind of symptoms from cc lesion should i be aware of  would it result in change of my dmt  thanks, ]</td>\n",
       "      <td>[[hi, everybody, my, latest, mri, results, for, brain, and, cervical, cord, are, in, and, my, next, neurologist, appointment, is, in, the, next, couple, of, weeks], [there, ’, re, no, new, lesions, in, braincord, and, i, ’, ve, had, no, relapses, while, i, was, on, gilenya], [this, was, a, good, sign], [but, there, was, one, line, in, the, cervical, cord, review, that, concerned, me], [it, goes, “, lesions, at, c, and, t, now, show, hypointensity, on, the, post, gadolinium, t, images, only], [this, could, represent, artifact, or, early, axonal, loss], [”, that, was, bothersome, to, read], [what, are, the, kind, of, symptoms, from, cc, lesion, should, i, be, aware, of, would, it, result, in, change, of, my, dmt, thanks], []]</td>\n",
       "      <td>[[hi, everybody, my, latest, mri, results, for, brain, and, cervical, cord, are, in, and, my, next, neurologist, appointment, is, in, the, next, couple, of, weeks], [there, re, no, new, lesions, in, braincord, and, i, ve, had, no, relapses, while, i, was, on, gilenya], [this, was, a, good, sign], [but, there, was, one, line, in, the, cervical, cord, review, that, concerned, me], [it, goes, lesions, at, c, and, t, now, show, hypointensity, on, the, post, gadolinium, t, images, only], [this, could, represent, artifact, or, early, axonal, loss], [that, was, bothersome, to, read], [what, are, the, kind, of, symptoms, from, cc, lesion, should, i, be, aware, of, would, it, result, in, change, of, my, dmt, thanks], []]</td>\n",
       "      <td>[[hi, everybody, my, latest, mri, results, for, brain, and, cervical, cord, are, in, and, my, next, neurologist, appointment, is, in, the, next, couple, of, weeks], [there, re, no, new, lesions, in, braincord, and, i, ve, had, no, relapses, while, i, was, on, gilenya], [this, was, a, good, sign], [but, there, was, one, line, in, the, cervical, cord, review, that, concerned, me], [it, goes, lesions, at, c, and, t, now, show, hypointensity, on, the, post, gadolinium, t, images, only], [this, could, represent, artifact, or, early, axonal, loss], [that, was, bothersome, to, read], [what, are, the, kind, of, symptoms, from, cc, lesion, should, i, be, aware, of, would, it, result, in, change, of, my, dmt, thanks]]</td>\n",
       "    </tr>\n",
       "  </tbody>\n",
       "</table>\n",
       "</div>"
      ],
      "text/plain": [
       "                                                                                                                                                                                                                                                                                                                                                                                                                                                                                                                                                                                                                                   text  \\\n",
       "4  hi everybody, my latest mri results for brain and cervical cord are in and my next neurologist appointment is in the next couple of weeks. there’re no new lesions in brain/cord and i’ve had no relapses while i was on gilenya. this was a good sign. but there was one line in the cervical cord review that concerned me. it goes : “lesions at c2-3 and t2 now show hypointensity on the post gadolinium t1 images only. this could represent artifact or early axonal loss.” that was bothersome to read. what are the kind of symptoms from c2-c3 lesion should i be aware of ? would it result in change of my dmt ? thanks.   \n",
       "\n",
       "                                                                                                                                                                                                                                                                                                                                                                                                                                                                                                                                                                                                                               document_sentences  \\\n",
       "4  [hi everybody, my latest mri results for brain and cervical cord are in and my next neurologist appointment is in the next couple of weeks,  there’re no new lesions in brain/cord and i’ve had no relapses while i was on gilenya,  this was a good sign,  but there was one line in the cervical cord review that concerned me,  it goes : “lesions at c2-3 and t2 now show hypointensity on the post gadolinium t1 images only,  this could represent artifact or early axonal loss, ” that was bothersome to read,  what are the kind of symptoms from c2-c3 lesion should i be aware of ? would it result in change of my dmt ? thanks, ]   \n",
       "\n",
       "                                                                                                                                                                                                                                                                                                                                                                                                                                                                                                                                                                                                               tokenized_sentences_1  \\\n",
       "4  [hi everybody my latest mri results for brain and cervical cord are in and my next neurologist appointment is in the next couple of weeks,  there’re no new lesions in braincord and i’ve had no relapses while i was on gilenya,  this was a good sign,  but there was one line in the cervical cord review that concerned me,  it goes  “lesions at c and t now show hypointensity on the post gadolinium t images only,  this could represent artifact or early axonal loss, ” that was bothersome to read,  what are the kind of symptoms from cc lesion should i be aware of  would it result in change of my dmt  thanks, ]   \n",
       "\n",
       "                                                                                                                                                                                                                                                                                                                                                                                                                                                                                                                                                                                                                                                                                                                                           tokenized_sentences_2  \\\n",
       "4  [[hi, everybody, my, latest, mri, results, for, brain, and, cervical, cord, are, in, and, my, next, neurologist, appointment, is, in, the, next, couple, of, weeks], [there, ’, re, no, new, lesions, in, braincord, and, i, ’, ve, had, no, relapses, while, i, was, on, gilenya], [this, was, a, good, sign], [but, there, was, one, line, in, the, cervical, cord, review, that, concerned, me], [it, goes, “, lesions, at, c, and, t, now, show, hypointensity, on, the, post, gadolinium, t, images, only], [this, could, represent, artifact, or, early, axonal, loss], [”, that, was, bothersome, to, read], [what, are, the, kind, of, symptoms, from, cc, lesion, should, i, be, aware, of, would, it, result, in, change, of, my, dmt, thanks], []]   \n",
       "\n",
       "                                                                                                                                                                                                                                                                                                                                                                                                                                                                                                                                                                                                                                                                                                                               tokenized_sentences_3  \\\n",
       "4  [[hi, everybody, my, latest, mri, results, for, brain, and, cervical, cord, are, in, and, my, next, neurologist, appointment, is, in, the, next, couple, of, weeks], [there, re, no, new, lesions, in, braincord, and, i, ve, had, no, relapses, while, i, was, on, gilenya], [this, was, a, good, sign], [but, there, was, one, line, in, the, cervical, cord, review, that, concerned, me], [it, goes, lesions, at, c, and, t, now, show, hypointensity, on, the, post, gadolinium, t, images, only], [this, could, represent, artifact, or, early, axonal, loss], [that, was, bothersome, to, read], [what, are, the, kind, of, symptoms, from, cc, lesion, should, i, be, aware, of, would, it, result, in, change, of, my, dmt, thanks], []]   \n",
       "\n",
       "                                                                                                                                                                                                                                                                                                                                                                                                                                                                                                                                                                                                                                                                                                                           tokenized_sentences_4  \n",
       "4  [[hi, everybody, my, latest, mri, results, for, brain, and, cervical, cord, are, in, and, my, next, neurologist, appointment, is, in, the, next, couple, of, weeks], [there, re, no, new, lesions, in, braincord, and, i, ve, had, no, relapses, while, i, was, on, gilenya], [this, was, a, good, sign], [but, there, was, one, line, in, the, cervical, cord, review, that, concerned, me], [it, goes, lesions, at, c, and, t, now, show, hypointensity, on, the, post, gadolinium, t, images, only], [this, could, represent, artifact, or, early, axonal, loss], [that, was, bothersome, to, read], [what, are, the, kind, of, symptoms, from, cc, lesion, should, i, be, aware, of, would, it, result, in, change, of, my, dmt, thanks]]  "
      ]
     },
     "execution_count": 386,
     "metadata": {},
     "output_type": "execute_result"
    }
   ],
   "source": [
    "#print index/row 4 with the columns mentioned\n",
    "\n",
    "data_train.loc[[4] , ['text','document_sentences' , 'tokenized_sentences_1' \n",
    "                      , 'tokenized_sentences_2' , 'tokenized_sentences_3'\n",
    "                      , 'tokenized_sentences_4']]"
   ]
  },
  {
   "cell_type": "code",
   "execution_count": 387,
   "metadata": {},
   "outputs": [
    {
     "name": "stdout",
     "output_type": "stream",
     "text": [
      "                                                                                                                                                                                                                                                                                                                                                                                                                                                                                                                                                                                                                                   text\n",
      "4  hi everybody, my latest mri results for brain and cervical cord are in and my next neurologist appointment is in the next couple of weeks. there’re no new lesions in brain/cord and i’ve had no relapses while i was on gilenya. this was a good sign. but there was one line in the cervical cord review that concerned me. it goes : “lesions at c2-3 and t2 now show hypointensity on the post gadolinium t1 images only. this could represent artifact or early axonal loss.” that was bothersome to read. what are the kind of symptoms from c2-c3 lesion should i be aware of ? would it result in change of my dmt ? thanks.\n",
      "                                                                                                                                                                                                                                                                                                                                                                                                                                                                                                                                                                                                                               document_sentences\n",
      "4  [hi everybody, my latest mri results for brain and cervical cord are in and my next neurologist appointment is in the next couple of weeks,  there’re no new lesions in brain/cord and i’ve had no relapses while i was on gilenya,  this was a good sign,  but there was one line in the cervical cord review that concerned me,  it goes : “lesions at c2-3 and t2 now show hypointensity on the post gadolinium t1 images only,  this could represent artifact or early axonal loss, ” that was bothersome to read,  what are the kind of symptoms from c2-c3 lesion should i be aware of ? would it result in change of my dmt ? thanks, ]\n",
      "                                                                                                                                                                                                                                                                                                                                                                                                                                                                                                                                                                                                               tokenized_sentences_1\n",
      "4  [hi everybody my latest mri results for brain and cervical cord are in and my next neurologist appointment is in the next couple of weeks,  there’re no new lesions in braincord and i’ve had no relapses while i was on gilenya,  this was a good sign,  but there was one line in the cervical cord review that concerned me,  it goes  “lesions at c and t now show hypointensity on the post gadolinium t images only,  this could represent artifact or early axonal loss, ” that was bothersome to read,  what are the kind of symptoms from cc lesion should i be aware of  would it result in change of my dmt  thanks, ]\n",
      "                                                                                                                                                                                                                                                                                                                                                                                                                                                                                                                                                                                                                                                                                                                                           tokenized_sentences_2\n",
      "4  [[hi, everybody, my, latest, mri, results, for, brain, and, cervical, cord, are, in, and, my, next, neurologist, appointment, is, in, the, next, couple, of, weeks], [there, ’, re, no, new, lesions, in, braincord, and, i, ’, ve, had, no, relapses, while, i, was, on, gilenya], [this, was, a, good, sign], [but, there, was, one, line, in, the, cervical, cord, review, that, concerned, me], [it, goes, “, lesions, at, c, and, t, now, show, hypointensity, on, the, post, gadolinium, t, images, only], [this, could, represent, artifact, or, early, axonal, loss], [”, that, was, bothersome, to, read], [what, are, the, kind, of, symptoms, from, cc, lesion, should, i, be, aware, of, would, it, result, in, change, of, my, dmt, thanks], []]\n",
      "                                                                                                                                                                                                                                                                                                                                                                                                                                                                                                                                                                                                                                                                                                                               tokenized_sentences_3\n",
      "4  [[hi, everybody, my, latest, mri, results, for, brain, and, cervical, cord, are, in, and, my, next, neurologist, appointment, is, in, the, next, couple, of, weeks], [there, re, no, new, lesions, in, braincord, and, i, ve, had, no, relapses, while, i, was, on, gilenya], [this, was, a, good, sign], [but, there, was, one, line, in, the, cervical, cord, review, that, concerned, me], [it, goes, lesions, at, c, and, t, now, show, hypointensity, on, the, post, gadolinium, t, images, only], [this, could, represent, artifact, or, early, axonal, loss], [that, was, bothersome, to, read], [what, are, the, kind, of, symptoms, from, cc, lesion, should, i, be, aware, of, would, it, result, in, change, of, my, dmt, thanks], []]\n",
      "                                                                                                                                                                                                                                                                                                                                                                                                                                                                                                                                                                                                                                                                                                                           tokenized_sentences_4\n",
      "4  [[hi, everybody, my, latest, mri, results, for, brain, and, cervical, cord, are, in, and, my, next, neurologist, appointment, is, in, the, next, couple, of, weeks], [there, re, no, new, lesions, in, braincord, and, i, ve, had, no, relapses, while, i, was, on, gilenya], [this, was, a, good, sign], [but, there, was, one, line, in, the, cervical, cord, review, that, concerned, me], [it, goes, lesions, at, c, and, t, now, show, hypointensity, on, the, post, gadolinium, t, images, only], [this, could, represent, artifact, or, early, axonal, loss], [that, was, bothersome, to, read], [what, are, the, kind, of, symptoms, from, cc, lesion, should, i, be, aware, of, would, it, result, in, change, of, my, dmt, thanks]]\n"
     ]
    }
   ],
   "source": [
    "pp.pprint(data_train.loc[[4] , ['text']]) #df[text]\n",
    "pp.pprint(data_train.loc[[4] , ['document_sentences']]) #df[document_sentences]\n",
    "pp.pprint(data_train.loc[[4] , ['tokenized_sentences_1']]) #df[document_sentences_1]\n",
    "pp.pprint(data_train.loc[[4] , ['tokenized_sentences_2']]) #df[tokenized_sentences_2]\n",
    "pp.pprint(data_train.loc[[4] , ['tokenized_sentences_3']]) #df[tokenized_sentences_3]\n",
    "pp.pprint(data_train.loc[[4] , ['tokenized_sentences_4']]) #df[tokenized_sentences_4]"
   ]
  },
  {
   "cell_type": "code",
   "execution_count": 388,
   "metadata": {
    "scrolled": false
   },
   "outputs": [
    {
     "data": {
      "text/html": [
       "<div>\n",
       "<style scoped>\n",
       "    .dataframe tbody tr th:only-of-type {\n",
       "        vertical-align: middle;\n",
       "    }\n",
       "\n",
       "    .dataframe tbody tr th {\n",
       "        vertical-align: top;\n",
       "    }\n",
       "\n",
       "    .dataframe thead th {\n",
       "        text-align: right;\n",
       "    }\n",
       "</style>\n",
       "<table border=\"1\" class=\"dataframe\">\n",
       "  <thead>\n",
       "    <tr style=\"text-align: right;\">\n",
       "      <th></th>\n",
       "      <th>unique_hash</th>\n",
       "      <th>text</th>\n",
       "      <th>drug</th>\n",
       "      <th>sentiment</th>\n",
       "      <th>document_sentences</th>\n",
       "      <th>tokenized_sentences_1</th>\n",
       "      <th>tokenized_sentences_2</th>\n",
       "      <th>tokenized_sentences_3</th>\n",
       "      <th>tokenized_sentences_4</th>\n",
       "    </tr>\n",
       "  </thead>\n",
       "  <tbody>\n",
       "    <tr>\n",
       "      <th>0</th>\n",
       "      <td>2e180be4c9214c1f5ab51fd8cc32bc80c9f612e0</td>\n",
       "      <td>autoimmune diseases tend to come in clusters. as for gilenya – if you feel good, don’t think about it, it won’t change anything but waste your time and energy. i’m taking tysabri and feel amazing, no symptoms (other than dodgy color vision, but i’ve had it since always, so, don’t know) and i don’t know if it will last a month, a year, a decade, ive just decided to enjoy the ride, no point in worrying.</td>\n",
       "      <td>gilenya</td>\n",
       "      <td>2</td>\n",
       "      <td>[autoimmune diseases tend to come in clusters,  as for gilenya – if you feel good, don’t think about it, it won’t change anything but waste your time and energy,  i’m taking tysabri and feel amazing, no symptoms (other than dodgy color vision, but i’ve had it since always, so, don’t know) and i don’t know if it will last a month, a year, a decade, ive just decided to enjoy the ride, no point in worrying, ]</td>\n",
       "      <td>[autoimmune diseases tend to come in clusters,  as for gilenya – if you feel good don’t think about it it won’t change anything but waste your time and energy,  i’m taking tysabri and feel amazing no symptoms other than dodgy color vision but i’ve had it since always so don’t know and i don’t know if it will last a month a year a decade ive just decided to enjoy the ride no point in worrying, ]</td>\n",
       "      <td>[[autoimmune, diseases, tend, to, come, in, clusters], [as, for, gilenya, –, if, you, feel, good, don, ’, t, think, about, it, it, won, ’, t, change, anything, but, waste, your, time, and, energy], [i, ’, m, taking, tysabri, and, feel, amazing, no, symptoms, other, than, dodgy, color, vision, but, i, ’, ve, had, it, since, always, so, don, ’, t, know, and, i, don, ’, t, know, if, it, will, last, a, month, a, year, a, decade, ive, just, decided, to, enjoy, the, ride, no, point, in, worrying], []]</td>\n",
       "      <td>[[autoimmune, diseases, tend, to, come, in, clusters], [as, for, gilenya, if, you, feel, good, don, t, think, about, it, it, won, t, change, anything, but, waste, your, time, and, energy], [i, m, taking, tysabri, and, feel, amazing, no, symptoms, other, than, dodgy, color, vision, but, i, ve, had, it, since, always, so, don, t, know, and, i, don, t, know, if, it, will, last, a, month, a, year, a, decade, ive, just, decided, to, enjoy, the, ride, no, point, in, worrying], []]</td>\n",
       "      <td>[[autoimmune, diseases, tend, to, come, in, clusters], [as, for, gilenya, if, you, feel, good, don, t, think, about, it, it, won, t, change, anything, but, waste, your, time, and, energy], [i, m, taking, tysabri, and, feel, amazing, no, symptoms, other, than, dodgy, color, vision, but, i, ve, had, it, since, always, so, don, t, know, and, i, don, t, know, if, it, will, last, a, month, a, year, a, decade, ive, just, decided, to, enjoy, the, ride, no, point, in, worrying]]</td>\n",
       "    </tr>\n",
       "  </tbody>\n",
       "</table>\n",
       "</div>"
      ],
      "text/plain": [
       "                                unique_hash  \\\n",
       "0  2e180be4c9214c1f5ab51fd8cc32bc80c9f612e0   \n",
       "\n",
       "                                                                                                                                                                                                                                                                                                                                                                                                                   text  \\\n",
       "0  autoimmune diseases tend to come in clusters. as for gilenya – if you feel good, don’t think about it, it won’t change anything but waste your time and energy. i’m taking tysabri and feel amazing, no symptoms (other than dodgy color vision, but i’ve had it since always, so, don’t know) and i don’t know if it will last a month, a year, a decade, ive just decided to enjoy the ride, no point in worrying.   \n",
       "\n",
       "      drug  sentiment  \\\n",
       "0  gilenya  2           \n",
       "\n",
       "                                                                                                                                                                                                                                                                                                                                                                                                          document_sentences  \\\n",
       "0  [autoimmune diseases tend to come in clusters,  as for gilenya – if you feel good, don’t think about it, it won’t change anything but waste your time and energy,  i’m taking tysabri and feel amazing, no symptoms (other than dodgy color vision, but i’ve had it since always, so, don’t know) and i don’t know if it will last a month, a year, a decade, ive just decided to enjoy the ride, no point in worrying, ]   \n",
       "\n",
       "                                                                                                                                                                                                                                                                                                                                                                                           tokenized_sentences_1  \\\n",
       "0  [autoimmune diseases tend to come in clusters,  as for gilenya – if you feel good don’t think about it it won’t change anything but waste your time and energy,  i’m taking tysabri and feel amazing no symptoms other than dodgy color vision but i’ve had it since always so don’t know and i don’t know if it will last a month a year a decade ive just decided to enjoy the ride no point in worrying, ]   \n",
       "\n",
       "                                                                                                                                                                                                                                                                                                                                                                                                                                                                                                  tokenized_sentences_2  \\\n",
       "0  [[autoimmune, diseases, tend, to, come, in, clusters], [as, for, gilenya, –, if, you, feel, good, don, ’, t, think, about, it, it, won, ’, t, change, anything, but, waste, your, time, and, energy], [i, ’, m, taking, tysabri, and, feel, amazing, no, symptoms, other, than, dodgy, color, vision, but, i, ’, ve, had, it, since, always, so, don, ’, t, know, and, i, don, ’, t, know, if, it, will, last, a, month, a, year, a, decade, ive, just, decided, to, enjoy, the, ride, no, point, in, worrying], []]   \n",
       "\n",
       "                                                                                                                                                                                                                                                                                                                                                                                                                                                                             tokenized_sentences_3  \\\n",
       "0  [[autoimmune, diseases, tend, to, come, in, clusters], [as, for, gilenya, if, you, feel, good, don, t, think, about, it, it, won, t, change, anything, but, waste, your, time, and, energy], [i, m, taking, tysabri, and, feel, amazing, no, symptoms, other, than, dodgy, color, vision, but, i, ve, had, it, since, always, so, don, t, know, and, i, don, t, know, if, it, will, last, a, month, a, year, a, decade, ive, just, decided, to, enjoy, the, ride, no, point, in, worrying], []]   \n",
       "\n",
       "                                                                                                                                                                                                                                                                                                                                                                                                                                                                         tokenized_sentences_4  \n",
       "0  [[autoimmune, diseases, tend, to, come, in, clusters], [as, for, gilenya, if, you, feel, good, don, t, think, about, it, it, won, t, change, anything, but, waste, your, time, and, energy], [i, m, taking, tysabri, and, feel, amazing, no, symptoms, other, than, dodgy, color, vision, but, i, ve, had, it, since, always, so, don, t, know, and, i, don, t, know, if, it, will, last, a, month, a, year, a, decade, ive, just, decided, to, enjoy, the, ride, no, point, in, worrying]]  "
      ]
     },
     "execution_count": 388,
     "metadata": {},
     "output_type": "execute_result"
    }
   ],
   "source": [
    "data_train.head(1)"
   ]
  },
  {
   "cell_type": "markdown",
   "metadata": {},
   "source": [
    "So we're actually already finished the word2vec preprocessing! All the following steps are preprocessing steps for LDA."
   ]
  },
  {
   "cell_type": "code",
   "execution_count": 389,
   "metadata": {},
   "outputs": [],
   "source": [
    "def lda_get_good_tokens(df):\n",
    "    df['text'] = df.text.str.lower()\n",
    "    df['tokenized_text_1'] = list(map(remove_punct, df.text))\n",
    "    df['tokenized_text_2'] = list(map(nltk.word_tokenize, df.tokenized_text_1))\n",
    "    df['tokenized_text_3'] = list(map(get_good_tokens, df.tokenized_text_2))\n",
    "\n",
    "lda_get_good_tokens(data_train)"
   ]
  },
  {
   "cell_type": "code",
   "execution_count": 390,
   "metadata": {},
   "outputs": [],
   "source": [
    "data_train['tokenized_text'] = data_train['tokenized_text_3']"
   ]
  },
  {
   "cell_type": "code",
   "execution_count": 391,
   "metadata": {},
   "outputs": [
    {
     "data": {
      "text/html": [
       "<div>\n",
       "<style scoped>\n",
       "    .dataframe tbody tr th:only-of-type {\n",
       "        vertical-align: middle;\n",
       "    }\n",
       "\n",
       "    .dataframe tbody tr th {\n",
       "        vertical-align: top;\n",
       "    }\n",
       "\n",
       "    .dataframe thead th {\n",
       "        text-align: right;\n",
       "    }\n",
       "</style>\n",
       "<table border=\"1\" class=\"dataframe\">\n",
       "  <thead>\n",
       "    <tr style=\"text-align: right;\">\n",
       "      <th></th>\n",
       "      <th>text</th>\n",
       "      <th>tokenized_text_1</th>\n",
       "      <th>tokenized_text_2</th>\n",
       "      <th>tokenized_text_3</th>\n",
       "    </tr>\n",
       "  </thead>\n",
       "  <tbody>\n",
       "    <tr>\n",
       "      <th>4</th>\n",
       "      <td>hi everybody, my latest mri results for brain and cervical cord are in and my next neurologist appointment is in the next couple of weeks. there’re no new lesions in brain/cord and i’ve had no relapses while i was on gilenya. this was a good sign. but there was one line in the cervical cord review that concerned me. it goes : “lesions at c2-3 and t2 now show hypointensity on the post gadolinium t1 images only. this could represent artifact or early axonal loss.” that was bothersome to read. what are the kind of symptoms from c2-c3 lesion should i be aware of ? would it result in change of my dmt ? thanks.</td>\n",
       "      <td>hi everybody my latest mri results for brain and cervical cord are in and my next neurologist appointment is in the next couple of weeks there’re no new lesions in braincord and i’ve had no relapses while i was on gilenya this was a good sign but there was one line in the cervical cord review that concerned me it goes  “lesions at c and t now show hypointensity on the post gadolinium t images only this could represent artifact or early axonal loss” that was bothersome to read what are the kind of symptoms from cc lesion should i be aware of  would it result in change of my dmt  thanks</td>\n",
       "      <td>[hi, everybody, my, latest, mri, results, for, brain, and, cervical, cord, are, in, and, my, next, neurologist, appointment, is, in, the, next, couple, of, weeks, there, ’, re, no, new, lesions, in, braincord, and, i, ’, ve, had, no, relapses, while, i, was, on, gilenya, this, was, a, good, sign, but, there, was, one, line, in, the, cervical, cord, review, that, concerned, me, it, goes, “, lesions, at, c, and, t, now, show, hypointensity, on, the, post, gadolinium, t, images, only, this, could, represent, artifact, or, early, axonal, loss, ”, that, was, bothersome, to, read, what, are, the, kind, of, ...]</td>\n",
       "      <td>[hi, everybody, my, latest, mri, results, for, brain, and, cervical, cord, are, in, and, my, next, neurologist, appointment, is, in, the, next, couple, of, weeks, there, re, no, new, lesions, in, braincord, and, i, ve, had, no, relapses, while, i, was, on, gilenya, this, was, a, good, sign, but, there, was, one, line, in, the, cervical, cord, review, that, concerned, me, it, goes, lesions, at, c, and, t, now, show, hypointensity, on, the, post, gadolinium, t, images, only, this, could, represent, artifact, or, early, axonal, loss, that, was, bothersome, to, read, what, are, the, kind, of, symptoms, from, cc, lesion, ...]</td>\n",
       "    </tr>\n",
       "  </tbody>\n",
       "</table>\n",
       "</div>"
      ],
      "text/plain": [
       "                                                                                                                                                                                                                                                                                                                                                                                                                                                                                                                                                                                                                                   text  \\\n",
       "4  hi everybody, my latest mri results for brain and cervical cord are in and my next neurologist appointment is in the next couple of weeks. there’re no new lesions in brain/cord and i’ve had no relapses while i was on gilenya. this was a good sign. but there was one line in the cervical cord review that concerned me. it goes : “lesions at c2-3 and t2 now show hypointensity on the post gadolinium t1 images only. this could represent artifact or early axonal loss.” that was bothersome to read. what are the kind of symptoms from c2-c3 lesion should i be aware of ? would it result in change of my dmt ? thanks.   \n",
       "\n",
       "                                                                                                                                                                                                                                                                                                                                                                                                                                                                                                                                                                                                  tokenized_text_1  \\\n",
       "4  hi everybody my latest mri results for brain and cervical cord are in and my next neurologist appointment is in the next couple of weeks there’re no new lesions in braincord and i’ve had no relapses while i was on gilenya this was a good sign but there was one line in the cervical cord review that concerned me it goes  “lesions at c and t now show hypointensity on the post gadolinium t images only this could represent artifact or early axonal loss” that was bothersome to read what are the kind of symptoms from cc lesion should i be aware of  would it result in change of my dmt  thanks   \n",
       "\n",
       "                                                                                                                                                                                                                                                                                                                                                                                                                                                                                                                                                                                                                       tokenized_text_2  \\\n",
       "4  [hi, everybody, my, latest, mri, results, for, brain, and, cervical, cord, are, in, and, my, next, neurologist, appointment, is, in, the, next, couple, of, weeks, there, ’, re, no, new, lesions, in, braincord, and, i, ’, ve, had, no, relapses, while, i, was, on, gilenya, this, was, a, good, sign, but, there, was, one, line, in, the, cervical, cord, review, that, concerned, me, it, goes, “, lesions, at, c, and, t, now, show, hypointensity, on, the, post, gadolinium, t, images, only, this, could, represent, artifact, or, early, axonal, loss, ”, that, was, bothersome, to, read, what, are, the, kind, of, ...]   \n",
       "\n",
       "                                                                                                                                                                                                                                                                                                                                                                                                                                                                                                                                                                                                                                       tokenized_text_3  \n",
       "4  [hi, everybody, my, latest, mri, results, for, brain, and, cervical, cord, are, in, and, my, next, neurologist, appointment, is, in, the, next, couple, of, weeks, there, re, no, new, lesions, in, braincord, and, i, ve, had, no, relapses, while, i, was, on, gilenya, this, was, a, good, sign, but, there, was, one, line, in, the, cervical, cord, review, that, concerned, me, it, goes, lesions, at, c, and, t, now, show, hypointensity, on, the, post, gadolinium, t, images, only, this, could, represent, artifact, or, early, axonal, loss, that, was, bothersome, to, read, what, are, the, kind, of, symptoms, from, cc, lesion, ...]  "
      ]
     },
     "execution_count": 391,
     "metadata": {},
     "output_type": "execute_result"
    }
   ],
   "source": [
    "data_train.loc[[4] , ['text', 'tokenized_text_1' \n",
    "                      , 'tokenized_text_2' , 'tokenized_text_3']]"
   ]
  },
  {
   "cell_type": "code",
   "execution_count": 392,
   "metadata": {},
   "outputs": [
    {
     "name": "stdout",
     "output_type": "stream",
     "text": [
      "                                                                                                                                                                                                                                                                                                                                                                                                                                                                                                                                                                                                                                   text\n",
      "4  hi everybody, my latest mri results for brain and cervical cord are in and my next neurologist appointment is in the next couple of weeks. there’re no new lesions in brain/cord and i’ve had no relapses while i was on gilenya. this was a good sign. but there was one line in the cervical cord review that concerned me. it goes : “lesions at c2-3 and t2 now show hypointensity on the post gadolinium t1 images only. this could represent artifact or early axonal loss.” that was bothersome to read. what are the kind of symptoms from c2-c3 lesion should i be aware of ? would it result in change of my dmt ? thanks.\n",
      "                                                                                                                                                                                                                                                                                                                                                                                                                                                                                                                                                                                                  tokenized_text_1\n",
      "4  hi everybody my latest mri results for brain and cervical cord are in and my next neurologist appointment is in the next couple of weeks there’re no new lesions in braincord and i’ve had no relapses while i was on gilenya this was a good sign but there was one line in the cervical cord review that concerned me it goes  “lesions at c and t now show hypointensity on the post gadolinium t images only this could represent artifact or early axonal loss” that was bothersome to read what are the kind of symptoms from cc lesion should i be aware of  would it result in change of my dmt  thanks\n",
      "                                                                                                                                                                                                                                                                                                                                                                                                                                                                                                                                                                                                                       tokenized_text_2\n",
      "4  [hi, everybody, my, latest, mri, results, for, brain, and, cervical, cord, are, in, and, my, next, neurologist, appointment, is, in, the, next, couple, of, weeks, there, ’, re, no, new, lesions, in, braincord, and, i, ’, ve, had, no, relapses, while, i, was, on, gilenya, this, was, a, good, sign, but, there, was, one, line, in, the, cervical, cord, review, that, concerned, me, it, goes, “, lesions, at, c, and, t, now, show, hypointensity, on, the, post, gadolinium, t, images, only, this, could, represent, artifact, or, early, axonal, loss, ”, that, was, bothersome, to, read, what, are, the, kind, of, ...]\n",
      "                                                                                                                                                                                                                                                                                                                                                                                                                                                                                                                                                                                                                                       tokenized_text_3\n",
      "4  [hi, everybody, my, latest, mri, results, for, brain, and, cervical, cord, are, in, and, my, next, neurologist, appointment, is, in, the, next, couple, of, weeks, there, re, no, new, lesions, in, braincord, and, i, ve, had, no, relapses, while, i, was, on, gilenya, this, was, a, good, sign, but, there, was, one, line, in, the, cervical, cord, review, that, concerned, me, it, goes, lesions, at, c, and, t, now, show, hypointensity, on, the, post, gadolinium, t, images, only, this, could, represent, artifact, or, early, axonal, loss, that, was, bothersome, to, read, what, are, the, kind, of, symptoms, from, cc, lesion, ...]\n"
     ]
    }
   ],
   "source": [
    "pp.pprint(data_train.loc[[4] , ['text']]) \n",
    "pp.pprint(data_train.loc[[4] , ['tokenized_text_1']]) \n",
    "pp.pprint(data_train.loc[[4] , ['tokenized_text_2']]) \n",
    "pp.pprint(data_train.loc[[4] , ['tokenized_text_3']]) "
   ]
  },
  {
   "cell_type": "code",
   "execution_count": 393,
   "metadata": {
    "scrolled": false
   },
   "outputs": [
    {
     "data": {
      "text/html": [
       "<div>\n",
       "<style scoped>\n",
       "    .dataframe tbody tr th:only-of-type {\n",
       "        vertical-align: middle;\n",
       "    }\n",
       "\n",
       "    .dataframe tbody tr th {\n",
       "        vertical-align: top;\n",
       "    }\n",
       "\n",
       "    .dataframe thead th {\n",
       "        text-align: right;\n",
       "    }\n",
       "</style>\n",
       "<table border=\"1\" class=\"dataframe\">\n",
       "  <thead>\n",
       "    <tr style=\"text-align: right;\">\n",
       "      <th></th>\n",
       "      <th>unique_hash</th>\n",
       "      <th>text</th>\n",
       "      <th>drug</th>\n",
       "      <th>sentiment</th>\n",
       "      <th>document_sentences</th>\n",
       "      <th>tokenized_sentences_1</th>\n",
       "      <th>tokenized_sentences_2</th>\n",
       "      <th>tokenized_sentences_3</th>\n",
       "      <th>tokenized_sentences_4</th>\n",
       "      <th>tokenized_text_1</th>\n",
       "      <th>tokenized_text_2</th>\n",
       "      <th>tokenized_text_3</th>\n",
       "      <th>tokenized_text</th>\n",
       "    </tr>\n",
       "  </thead>\n",
       "  <tbody>\n",
       "    <tr>\n",
       "      <th>0</th>\n",
       "      <td>2e180be4c9214c1f5ab51fd8cc32bc80c9f612e0</td>\n",
       "      <td>autoimmune diseases tend to come in clusters. as for gilenya – if you feel good, don’t think about it, it won’t change anything but waste your time and energy. i’m taking tysabri and feel amazing, no symptoms (other than dodgy color vision, but i’ve had it since always, so, don’t know) and i don’t know if it will last a month, a year, a decade, ive just decided to enjoy the ride, no point in worrying.</td>\n",
       "      <td>gilenya</td>\n",
       "      <td>2</td>\n",
       "      <td>[autoimmune diseases tend to come in clusters,  as for gilenya – if you feel good, don’t think about it, it won’t change anything but waste your time and energy,  i’m taking tysabri and feel amazing, no symptoms (other than dodgy color vision, but i’ve had it since always, so, don’t know) and i don’t know if it will last a month, a year, a decade, ive just decided to enjoy the ride, no point in worrying, ]</td>\n",
       "      <td>[autoimmune diseases tend to come in clusters,  as for gilenya – if you feel good don’t think about it it won’t change anything but waste your time and energy,  i’m taking tysabri and feel amazing no symptoms other than dodgy color vision but i’ve had it since always so don’t know and i don’t know if it will last a month a year a decade ive just decided to enjoy the ride no point in worrying, ]</td>\n",
       "      <td>[[autoimmune, diseases, tend, to, come, in, clusters], [as, for, gilenya, –, if, you, feel, good, don, ’, t, think, about, it, it, won, ’, t, change, anything, but, waste, your, time, and, energy], [i, ’, m, taking, tysabri, and, feel, amazing, no, symptoms, other, than, dodgy, color, vision, but, i, ’, ve, had, it, since, always, so, don, ’, t, know, and, i, don, ’, t, know, if, it, will, last, a, month, a, year, a, decade, ive, just, decided, to, enjoy, the, ride, no, point, in, worrying], []]</td>\n",
       "      <td>[[autoimmune, diseases, tend, to, come, in, clusters], [as, for, gilenya, if, you, feel, good, don, t, think, about, it, it, won, t, change, anything, but, waste, your, time, and, energy], [i, m, taking, tysabri, and, feel, amazing, no, symptoms, other, than, dodgy, color, vision, but, i, ve, had, it, since, always, so, don, t, know, and, i, don, t, know, if, it, will, last, a, month, a, year, a, decade, ive, just, decided, to, enjoy, the, ride, no, point, in, worrying], []]</td>\n",
       "      <td>[[autoimmune, diseases, tend, to, come, in, clusters], [as, for, gilenya, if, you, feel, good, don, t, think, about, it, it, won, t, change, anything, but, waste, your, time, and, energy], [i, m, taking, tysabri, and, feel, amazing, no, symptoms, other, than, dodgy, color, vision, but, i, ve, had, it, since, always, so, don, t, know, and, i, don, t, know, if, it, will, last, a, month, a, year, a, decade, ive, just, decided, to, enjoy, the, ride, no, point, in, worrying]]</td>\n",
       "      <td>autoimmune diseases tend to come in clusters as for gilenya – if you feel good don’t think about it it won’t change anything but waste your time and energy i’m taking tysabri and feel amazing no symptoms other than dodgy color vision but i’ve had it since always so don’t know and i don’t know if it will last a month a year a decade ive just decided to enjoy the ride no point in worrying</td>\n",
       "      <td>[autoimmune, diseases, tend, to, come, in, clusters, as, for, gilenya, –, if, you, feel, good, don, ’, t, think, about, it, it, won, ’, t, change, anything, but, waste, your, time, and, energy, i, ’, m, taking, tysabri, and, feel, amazing, no, symptoms, other, than, dodgy, color, vision, but, i, ’, ve, had, it, since, always, so, don, ’, t, know, and, i, don, ’, t, know, if, it, will, last, a, month, a, year, a, decade, ive, just, decided, to, enjoy, the, ride, no, point, in, worrying]</td>\n",
       "      <td>[autoimmune, diseases, tend, to, come, in, clusters, as, for, gilenya, if, you, feel, good, don, t, think, about, it, it, won, t, change, anything, but, waste, your, time, and, energy, i, m, taking, tysabri, and, feel, amazing, no, symptoms, other, than, dodgy, color, vision, but, i, ve, had, it, since, always, so, don, t, know, and, i, don, t, know, if, it, will, last, a, month, a, year, a, decade, ive, just, decided, to, enjoy, the, ride, no, point, in, worrying]</td>\n",
       "      <td>[autoimmune, diseases, tend, to, come, in, clusters, as, for, gilenya, if, you, feel, good, don, t, think, about, it, it, won, t, change, anything, but, waste, your, time, and, energy, i, m, taking, tysabri, and, feel, amazing, no, symptoms, other, than, dodgy, color, vision, but, i, ve, had, it, since, always, so, don, t, know, and, i, don, t, know, if, it, will, last, a, month, a, year, a, decade, ive, just, decided, to, enjoy, the, ride, no, point, in, worrying]</td>\n",
       "    </tr>\n",
       "  </tbody>\n",
       "</table>\n",
       "</div>"
      ],
      "text/plain": [
       "                                unique_hash  \\\n",
       "0  2e180be4c9214c1f5ab51fd8cc32bc80c9f612e0   \n",
       "\n",
       "                                                                                                                                                                                                                                                                                                                                                                                                                   text  \\\n",
       "0  autoimmune diseases tend to come in clusters. as for gilenya – if you feel good, don’t think about it, it won’t change anything but waste your time and energy. i’m taking tysabri and feel amazing, no symptoms (other than dodgy color vision, but i’ve had it since always, so, don’t know) and i don’t know if it will last a month, a year, a decade, ive just decided to enjoy the ride, no point in worrying.   \n",
       "\n",
       "      drug  sentiment  \\\n",
       "0  gilenya  2           \n",
       "\n",
       "                                                                                                                                                                                                                                                                                                                                                                                                          document_sentences  \\\n",
       "0  [autoimmune diseases tend to come in clusters,  as for gilenya – if you feel good, don’t think about it, it won’t change anything but waste your time and energy,  i’m taking tysabri and feel amazing, no symptoms (other than dodgy color vision, but i’ve had it since always, so, don’t know) and i don’t know if it will last a month, a year, a decade, ive just decided to enjoy the ride, no point in worrying, ]   \n",
       "\n",
       "                                                                                                                                                                                                                                                                                                                                                                                           tokenized_sentences_1  \\\n",
       "0  [autoimmune diseases tend to come in clusters,  as for gilenya – if you feel good don’t think about it it won’t change anything but waste your time and energy,  i’m taking tysabri and feel amazing no symptoms other than dodgy color vision but i’ve had it since always so don’t know and i don’t know if it will last a month a year a decade ive just decided to enjoy the ride no point in worrying, ]   \n",
       "\n",
       "                                                                                                                                                                                                                                                                                                                                                                                                                                                                                                  tokenized_sentences_2  \\\n",
       "0  [[autoimmune, diseases, tend, to, come, in, clusters], [as, for, gilenya, –, if, you, feel, good, don, ’, t, think, about, it, it, won, ’, t, change, anything, but, waste, your, time, and, energy], [i, ’, m, taking, tysabri, and, feel, amazing, no, symptoms, other, than, dodgy, color, vision, but, i, ’, ve, had, it, since, always, so, don, ’, t, know, and, i, don, ’, t, know, if, it, will, last, a, month, a, year, a, decade, ive, just, decided, to, enjoy, the, ride, no, point, in, worrying], []]   \n",
       "\n",
       "                                                                                                                                                                                                                                                                                                                                                                                                                                                                             tokenized_sentences_3  \\\n",
       "0  [[autoimmune, diseases, tend, to, come, in, clusters], [as, for, gilenya, if, you, feel, good, don, t, think, about, it, it, won, t, change, anything, but, waste, your, time, and, energy], [i, m, taking, tysabri, and, feel, amazing, no, symptoms, other, than, dodgy, color, vision, but, i, ve, had, it, since, always, so, don, t, know, and, i, don, t, know, if, it, will, last, a, month, a, year, a, decade, ive, just, decided, to, enjoy, the, ride, no, point, in, worrying], []]   \n",
       "\n",
       "                                                                                                                                                                                                                                                                                                                                                                                                                                                                         tokenized_sentences_4  \\\n",
       "0  [[autoimmune, diseases, tend, to, come, in, clusters], [as, for, gilenya, if, you, feel, good, don, t, think, about, it, it, won, t, change, anything, but, waste, your, time, and, energy], [i, m, taking, tysabri, and, feel, amazing, no, symptoms, other, than, dodgy, color, vision, but, i, ve, had, it, since, always, so, don, t, know, and, i, don, t, know, if, it, will, last, a, month, a, year, a, decade, ive, just, decided, to, enjoy, the, ride, no, point, in, worrying]]   \n",
       "\n",
       "                                                                                                                                                                                                                                                                                                                                                                                        tokenized_text_1  \\\n",
       "0  autoimmune diseases tend to come in clusters as for gilenya – if you feel good don’t think about it it won’t change anything but waste your time and energy i’m taking tysabri and feel amazing no symptoms other than dodgy color vision but i’ve had it since always so don’t know and i don’t know if it will last a month a year a decade ive just decided to enjoy the ride no point in worrying   \n",
       "\n",
       "                                                                                                                                                                                                                                                                                                                                                                                                                                                                                             tokenized_text_2  \\\n",
       "0  [autoimmune, diseases, tend, to, come, in, clusters, as, for, gilenya, –, if, you, feel, good, don, ’, t, think, about, it, it, won, ’, t, change, anything, but, waste, your, time, and, energy, i, ’, m, taking, tysabri, and, feel, amazing, no, symptoms, other, than, dodgy, color, vision, but, i, ’, ve, had, it, since, always, so, don, ’, t, know, and, i, don, ’, t, know, if, it, will, last, a, month, a, year, a, decade, ive, just, decided, to, enjoy, the, ride, no, point, in, worrying]   \n",
       "\n",
       "                                                                                                                                                                                                                                                                                                                                                                                                                                                                        tokenized_text_3  \\\n",
       "0  [autoimmune, diseases, tend, to, come, in, clusters, as, for, gilenya, if, you, feel, good, don, t, think, about, it, it, won, t, change, anything, but, waste, your, time, and, energy, i, m, taking, tysabri, and, feel, amazing, no, symptoms, other, than, dodgy, color, vision, but, i, ve, had, it, since, always, so, don, t, know, and, i, don, t, know, if, it, will, last, a, month, a, year, a, decade, ive, just, decided, to, enjoy, the, ride, no, point, in, worrying]   \n",
       "\n",
       "                                                                                                                                                                                                                                                                                                                                                                                                                                                                          tokenized_text  \n",
       "0  [autoimmune, diseases, tend, to, come, in, clusters, as, for, gilenya, if, you, feel, good, don, t, think, about, it, it, won, t, change, anything, but, waste, your, time, and, energy, i, m, taking, tysabri, and, feel, amazing, no, symptoms, other, than, dodgy, color, vision, but, i, ve, had, it, since, always, so, don, t, know, and, i, don, t, know, if, it, will, last, a, month, a, year, a, decade, ive, just, decided, to, enjoy, the, ride, no, point, in, worrying]  "
      ]
     },
     "execution_count": 393,
     "metadata": {},
     "output_type": "execute_result"
    }
   ],
   "source": [
    "data_train.head(1)"
   ]
  },
  {
   "cell_type": "markdown",
   "metadata": {},
   "source": [
    " \n",
    "Let's view at the top word frequencies now and get an idea of the words that are used mostly. \n",
    "  "
   ]
  },
  {
   "cell_type": "code",
   "execution_count": 394,
   "metadata": {},
   "outputs": [],
   "source": [
    "tokenized_only_dict = Counter(np.concatenate(data_train.tokenized_text.values))\n",
    "\n",
    "tokenized_only_df = pd.DataFrame.from_dict(tokenized_only_dict, orient='index')\n",
    "tokenized_only_df.rename(columns={0: 'count'}, inplace=True)"
   ]
  },
  {
   "cell_type": "code",
   "execution_count": 395,
   "metadata": {},
   "outputs": [
    {
     "data": {
      "text/html": [
       "<div>\n",
       "<style scoped>\n",
       "    .dataframe tbody tr th:only-of-type {\n",
       "        vertical-align: middle;\n",
       "    }\n",
       "\n",
       "    .dataframe tbody tr th {\n",
       "        vertical-align: top;\n",
       "    }\n",
       "\n",
       "    .dataframe thead th {\n",
       "        text-align: right;\n",
       "    }\n",
       "</style>\n",
       "<table border=\"1\" class=\"dataframe\">\n",
       "  <thead>\n",
       "    <tr style=\"text-align: right;\">\n",
       "      <th></th>\n",
       "      <th>count</th>\n",
       "    </tr>\n",
       "  </thead>\n",
       "  <tbody>\n",
       "    <tr>\n",
       "      <th>the</th>\n",
       "      <td>69029</td>\n",
       "    </tr>\n",
       "    <tr>\n",
       "      <th>of</th>\n",
       "      <td>44569</td>\n",
       "    </tr>\n",
       "    <tr>\n",
       "      <th>and</th>\n",
       "      <td>44272</td>\n",
       "    </tr>\n",
       "    <tr>\n",
       "      <th>to</th>\n",
       "      <td>44195</td>\n",
       "    </tr>\n",
       "    <tr>\n",
       "      <th>a</th>\n",
       "      <td>32870</td>\n",
       "    </tr>\n",
       "    <tr>\n",
       "      <th>in</th>\n",
       "      <td>31916</td>\n",
       "    </tr>\n",
       "    <tr>\n",
       "      <th>i</th>\n",
       "      <td>28157</td>\n",
       "    </tr>\n",
       "    <tr>\n",
       "      <th>for</th>\n",
       "      <td>21975</td>\n",
       "    </tr>\n",
       "    <tr>\n",
       "      <th>is</th>\n",
       "      <td>19916</td>\n",
       "    </tr>\n",
       "    <tr>\n",
       "      <th>with</th>\n",
       "      <td>19566</td>\n",
       "    </tr>\n",
       "    <tr>\n",
       "      <th>that</th>\n",
       "      <td>17496</td>\n",
       "    </tr>\n",
       "    <tr>\n",
       "      <th>it</th>\n",
       "      <td>15100</td>\n",
       "    </tr>\n",
       "    <tr>\n",
       "      <th>or</th>\n",
       "      <td>13561</td>\n",
       "    </tr>\n",
       "    <tr>\n",
       "      <th>on</th>\n",
       "      <td>12853</td>\n",
       "    </tr>\n",
       "    <tr>\n",
       "      <th>you</th>\n",
       "      <td>12011</td>\n",
       "    </tr>\n",
       "    <tr>\n",
       "      <th>have</th>\n",
       "      <td>11292</td>\n",
       "    </tr>\n",
       "    <tr>\n",
       "      <th>my</th>\n",
       "      <td>11053</td>\n",
       "    </tr>\n",
       "    <tr>\n",
       "      <th>was</th>\n",
       "      <td>10352</td>\n",
       "    </tr>\n",
       "    <tr>\n",
       "      <th>be</th>\n",
       "      <td>10257</td>\n",
       "    </tr>\n",
       "    <tr>\n",
       "      <th>this</th>\n",
       "      <td>10115</td>\n",
       "    </tr>\n",
       "    <tr>\n",
       "      <th>are</th>\n",
       "      <td>9732</td>\n",
       "    </tr>\n",
       "    <tr>\n",
       "      <th>as</th>\n",
       "      <td>9669</td>\n",
       "    </tr>\n",
       "    <tr>\n",
       "      <th>not</th>\n",
       "      <td>9387</td>\n",
       "    </tr>\n",
       "    <tr>\n",
       "      <th>cancer</th>\n",
       "      <td>8109</td>\n",
       "    </tr>\n",
       "    <tr>\n",
       "      <th>patients</th>\n",
       "      <td>7752</td>\n",
       "    </tr>\n",
       "    <tr>\n",
       "      <th>but</th>\n",
       "      <td>7287</td>\n",
       "    </tr>\n",
       "    <tr>\n",
       "      <th>at</th>\n",
       "      <td>7195</td>\n",
       "    </tr>\n",
       "    <tr>\n",
       "      <th>your</th>\n",
       "      <td>6724</td>\n",
       "    </tr>\n",
       "    <tr>\n",
       "      <th>if</th>\n",
       "      <td>6615</td>\n",
       "    </tr>\n",
       "    <tr>\n",
       "      <th>treatment</th>\n",
       "      <td>6535</td>\n",
       "    </tr>\n",
       "    <tr>\n",
       "      <th>...</th>\n",
       "      <td>...</td>\n",
       "    </tr>\n",
       "    <tr>\n",
       "      <th>tobbb</th>\n",
       "      <td>1</td>\n",
       "    </tr>\n",
       "    <tr>\n",
       "      <th>nigg</th>\n",
       "      <td>1</td>\n",
       "    </tr>\n",
       "    <tr>\n",
       "      <th>cundiff</th>\n",
       "      <td>1</td>\n",
       "    </tr>\n",
       "    <tr>\n",
       "      <th>haffner</th>\n",
       "      <td>1</td>\n",
       "    </tr>\n",
       "    <tr>\n",
       "      <th>grauslund</th>\n",
       "      <td>1</td>\n",
       "    </tr>\n",
       "    <tr>\n",
       "      <th>bek</th>\n",
       "      <td>1</td>\n",
       "    </tr>\n",
       "    <tr>\n",
       "      <th>lamoureux</th>\n",
       "      <td>1</td>\n",
       "    </tr>\n",
       "    <tr>\n",
       "      <th>kawasaki</th>\n",
       "      <td>1</td>\n",
       "    </tr>\n",
       "    <tr>\n",
       "      <th>desitin</th>\n",
       "      <td>1</td>\n",
       "    </tr>\n",
       "    <tr>\n",
       "      <th>yau</th>\n",
       "      <td>1</td>\n",
       "    </tr>\n",
       "    <tr>\n",
       "      <th>harbinger</th>\n",
       "      <td>1</td>\n",
       "    </tr>\n",
       "    <tr>\n",
       "      <th>schachat</th>\n",
       "      <td>1</td>\n",
       "    </tr>\n",
       "    <tr>\n",
       "      <th>drugtreated</th>\n",
       "      <td>1</td>\n",
       "    </tr>\n",
       "    <tr>\n",
       "      <th>erik</th>\n",
       "      <td>1</td>\n",
       "    </tr>\n",
       "    <tr>\n",
       "      <th>foreheadsinustop</th>\n",
       "      <td>1</td>\n",
       "    </tr>\n",
       "    <tr>\n",
       "      <th>apologizes</th>\n",
       "      <td>1</td>\n",
       "    </tr>\n",
       "    <tr>\n",
       "      <th>almirall</th>\n",
       "      <td>1</td>\n",
       "    </tr>\n",
       "    <tr>\n",
       "      <th>treatmnt</th>\n",
       "      <td>1</td>\n",
       "    </tr>\n",
       "    <tr>\n",
       "      <th>doesi</th>\n",
       "      <td>1</td>\n",
       "    </tr>\n",
       "    <tr>\n",
       "      <th>prednisoneasacol</th>\n",
       "      <td>1</td>\n",
       "    </tr>\n",
       "    <tr>\n",
       "      <th>infusionlower</th>\n",
       "      <td>1</td>\n",
       "    </tr>\n",
       "    <tr>\n",
       "      <th>salix</th>\n",
       "      <td>1</td>\n",
       "    </tr>\n",
       "    <tr>\n",
       "      <th>emafda</th>\n",
       "      <td>1</td>\n",
       "    </tr>\n",
       "    <tr>\n",
       "      <th>dessert</th>\n",
       "      <td>1</td>\n",
       "    </tr>\n",
       "    <tr>\n",
       "      <th>nacho</th>\n",
       "      <td>1</td>\n",
       "    </tr>\n",
       "    <tr>\n",
       "      <th>heartburnish</th>\n",
       "      <td>1</td>\n",
       "    </tr>\n",
       "    <tr>\n",
       "      <th>scotlands</th>\n",
       "      <td>1</td>\n",
       "    </tr>\n",
       "    <tr>\n",
       "      <th>kinasepositive</th>\n",
       "      <td>1</td>\n",
       "    </tr>\n",
       "    <tr>\n",
       "      <th>mgthe</th>\n",
       "      <td>1</td>\n",
       "    </tr>\n",
       "    <tr>\n",
       "      <th>bazza</th>\n",
       "      <td>1</td>\n",
       "    </tr>\n",
       "  </tbody>\n",
       "</table>\n",
       "<p>43506 rows × 1 columns</p>\n",
       "</div>"
      ],
      "text/plain": [
       "                  count\n",
       "the               69029\n",
       "of                44569\n",
       "and               44272\n",
       "to                44195\n",
       "a                 32870\n",
       "in                31916\n",
       "i                 28157\n",
       "for               21975\n",
       "is                19916\n",
       "with              19566\n",
       "that              17496\n",
       "it                15100\n",
       "or                13561\n",
       "on                12853\n",
       "you               12011\n",
       "have              11292\n",
       "my                11053\n",
       "was               10352\n",
       "be                10257\n",
       "this              10115\n",
       "are               9732 \n",
       "as                9669 \n",
       "not               9387 \n",
       "cancer            8109 \n",
       "patients          7752 \n",
       "but               7287 \n",
       "at                7195 \n",
       "your              6724 \n",
       "if                6615 \n",
       "treatment         6535 \n",
       "...                ... \n",
       "tobbb             1    \n",
       "nigg              1    \n",
       "cundiff           1    \n",
       "haffner           1    \n",
       "grauslund         1    \n",
       "bek               1    \n",
       "lamoureux         1    \n",
       "kawasaki          1    \n",
       "desitin           1    \n",
       "yau               1    \n",
       "harbinger         1    \n",
       "schachat          1    \n",
       "drugtreated       1    \n",
       "erik              1    \n",
       "foreheadsinustop  1    \n",
       "apologizes        1    \n",
       "almirall          1    \n",
       "treatmnt          1    \n",
       "doesi             1    \n",
       "prednisoneasacol  1    \n",
       "infusionlower     1    \n",
       "salix             1    \n",
       "emafda            1    \n",
       "dessert           1    \n",
       "nacho             1    \n",
       "heartburnish      1    \n",
       "scotlands         1    \n",
       "kinasepositive    1    \n",
       "mgthe             1    \n",
       "bazza             1    \n",
       "\n",
       "[43506 rows x 1 columns]"
      ]
     },
     "execution_count": 395,
     "metadata": {},
     "output_type": "execute_result"
    }
   ],
   "source": [
    "tokenized_only_df.sort_values('count', ascending=False, inplace=True)\n",
    "tokenized_only_df"
   ]
  },
  {
   "cell_type": "code",
   "execution_count": 396,
   "metadata": {},
   "outputs": [
    {
     "data": {
      "image/png": "[encoded data removed]",
      "text/plain": [
       "<Figure size 1440x360 with 1 Axes>"
      ]
     },
     "metadata": {},
     "output_type": "display_data"
    }
   ],
   "source": [
    "# I made a function out of this since I will use it again later on \n",
    "def word_frequency_barplot(df, nr_top_words=50):\n",
    "    \"\"\" df should have a column named count.\n",
    "    \"\"\"\n",
    "    fig, ax = plt.subplots(1,1,figsize=(20,5))\n",
    "\n",
    "    sns.barplot(list(range(nr_top_words)), df['count'].values[:nr_top_words], palette='hls', ax=ax)\n",
    "\n",
    "    ax.set_xticks(list(range(nr_top_words)))\n",
    "    ax.set_xticklabels(df.index[:nr_top_words], fontsize=14, rotation=90)\n",
    "    return ax\n",
    "    \n",
    "ax = word_frequency_barplot(tokenized_only_df)\n",
    "ax.set_title(\"Word Frequencies\", fontsize=16);"
   ]
  },
  {
   "cell_type": "markdown",
   "metadata": {},
   "source": [
    "It was to be expected that simple words like 'the', 'of' and 'to' are words that are used often. Unless you think that one author would preferably use on of these words more often than other authors, it's safe to remove these words. Like we stated in point 2 above, we will remove frequent words and stopwords since they probably bring little meaning and maybe even create noise when we want to classify later on"
   ]
  },
  {
   "cell_type": "markdown",
   "metadata": {},
   "source": [
    "## 2.2) Remove words that mean little\n",
    "As stated above, words the have little meaning to the model are words we'd like to remove. Moreover, these words can create noise which can make it harder to classify the texts later on."
   ]
  },
  {
   "cell_type": "code",
   "execution_count": 397,
   "metadata": {},
   "outputs": [],
   "source": [
    "def remove_stopwords(df):\n",
    "    \"\"\" Removes stopwords based on a known set of stopwords\n",
    "    available in the nltk package. In addition, we include our\n",
    "    made up word in here.\n",
    "    \"\"\"\n",
    "    # Luckily nltk already has a set of stopwords that we can remove from the texts.\n",
    "    stopwords = nltk.corpus.stopwords.words('english')\n",
    "    # we'll add our own special word in here 'qwerty'\n",
    "    stopwords.append(our_special_word)\n",
    "\n",
    "    df['stopwords_removed'] = list(map(lambda doc:\n",
    "                                       [word for word in doc if word not in stopwords],\n",
    "                                       df['tokenized_text']))\n",
    "\n",
    "remove_stopwords(data_train)"
   ]
  },
  {
   "cell_type": "code",
   "execution_count": 398,
   "metadata": {
    "scrolled": false
   },
   "outputs": [
    {
     "data": {
      "text/html": [
       "<div>\n",
       "<style scoped>\n",
       "    .dataframe tbody tr th:only-of-type {\n",
       "        vertical-align: middle;\n",
       "    }\n",
       "\n",
       "    .dataframe tbody tr th {\n",
       "        vertical-align: top;\n",
       "    }\n",
       "\n",
       "    .dataframe thead th {\n",
       "        text-align: right;\n",
       "    }\n",
       "</style>\n",
       "<table border=\"1\" class=\"dataframe\">\n",
       "  <thead>\n",
       "    <tr style=\"text-align: right;\">\n",
       "      <th></th>\n",
       "      <th>unique_hash</th>\n",
       "      <th>text</th>\n",
       "      <th>drug</th>\n",
       "      <th>sentiment</th>\n",
       "      <th>document_sentences</th>\n",
       "      <th>tokenized_sentences_1</th>\n",
       "      <th>tokenized_sentences_2</th>\n",
       "      <th>tokenized_sentences_3</th>\n",
       "      <th>tokenized_sentences_4</th>\n",
       "      <th>tokenized_text_1</th>\n",
       "      <th>tokenized_text_2</th>\n",
       "      <th>tokenized_text_3</th>\n",
       "      <th>tokenized_text</th>\n",
       "      <th>stopwords_removed</th>\n",
       "    </tr>\n",
       "  </thead>\n",
       "  <tbody>\n",
       "    <tr>\n",
       "      <th>0</th>\n",
       "      <td>2e180be4c9214c1f5ab51fd8cc32bc80c9f612e0</td>\n",
       "      <td>autoimmune diseases tend to come in clusters. as for gilenya – if you feel good, don’t think about it, it won’t change anything but waste your time and energy. i’m taking tysabri and feel amazing, no symptoms (other than dodgy color vision, but i’ve had it since always, so, don’t know) and i don’t know if it will last a month, a year, a decade, ive just decided to enjoy the ride, no point in worrying.</td>\n",
       "      <td>gilenya</td>\n",
       "      <td>2</td>\n",
       "      <td>[autoimmune diseases tend to come in clusters,  as for gilenya – if you feel good, don’t think about it, it won’t change anything but waste your time and energy,  i’m taking tysabri and feel amazing, no symptoms (other than dodgy color vision, but i’ve had it since always, so, don’t know) and i don’t know if it will last a month, a year, a decade, ive just decided to enjoy the ride, no point in worrying, ]</td>\n",
       "      <td>[autoimmune diseases tend to come in clusters,  as for gilenya – if you feel good don’t think about it it won’t change anything but waste your time and energy,  i’m taking tysabri and feel amazing no symptoms other than dodgy color vision but i’ve had it since always so don’t know and i don’t know if it will last a month a year a decade ive just decided to enjoy the ride no point in worrying, ]</td>\n",
       "      <td>[[autoimmune, diseases, tend, to, come, in, clusters], [as, for, gilenya, –, if, you, feel, good, don, ’, t, think, about, it, it, won, ’, t, change, anything, but, waste, your, time, and, energy], [i, ’, m, taking, tysabri, and, feel, amazing, no, symptoms, other, than, dodgy, color, vision, but, i, ’, ve, had, it, since, always, so, don, ’, t, know, and, i, don, ’, t, know, if, it, will, last, a, month, a, year, a, decade, ive, just, decided, to, enjoy, the, ride, no, point, in, worrying], []]</td>\n",
       "      <td>[[autoimmune, diseases, tend, to, come, in, clusters], [as, for, gilenya, if, you, feel, good, don, t, think, about, it, it, won, t, change, anything, but, waste, your, time, and, energy], [i, m, taking, tysabri, and, feel, amazing, no, symptoms, other, than, dodgy, color, vision, but, i, ve, had, it, since, always, so, don, t, know, and, i, don, t, know, if, it, will, last, a, month, a, year, a, decade, ive, just, decided, to, enjoy, the, ride, no, point, in, worrying], []]</td>\n",
       "      <td>[[autoimmune, diseases, tend, to, come, in, clusters], [as, for, gilenya, if, you, feel, good, don, t, think, about, it, it, won, t, change, anything, but, waste, your, time, and, energy], [i, m, taking, tysabri, and, feel, amazing, no, symptoms, other, than, dodgy, color, vision, but, i, ve, had, it, since, always, so, don, t, know, and, i, don, t, know, if, it, will, last, a, month, a, year, a, decade, ive, just, decided, to, enjoy, the, ride, no, point, in, worrying]]</td>\n",
       "      <td>autoimmune diseases tend to come in clusters as for gilenya – if you feel good don’t think about it it won’t change anything but waste your time and energy i’m taking tysabri and feel amazing no symptoms other than dodgy color vision but i’ve had it since always so don’t know and i don’t know if it will last a month a year a decade ive just decided to enjoy the ride no point in worrying</td>\n",
       "      <td>[autoimmune, diseases, tend, to, come, in, clusters, as, for, gilenya, –, if, you, feel, good, don, ’, t, think, about, it, it, won, ’, t, change, anything, but, waste, your, time, and, energy, i, ’, m, taking, tysabri, and, feel, amazing, no, symptoms, other, than, dodgy, color, vision, but, i, ’, ve, had, it, since, always, so, don, ’, t, know, and, i, don, ’, t, know, if, it, will, last, a, month, a, year, a, decade, ive, just, decided, to, enjoy, the, ride, no, point, in, worrying]</td>\n",
       "      <td>[autoimmune, diseases, tend, to, come, in, clusters, as, for, gilenya, if, you, feel, good, don, t, think, about, it, it, won, t, change, anything, but, waste, your, time, and, energy, i, m, taking, tysabri, and, feel, amazing, no, symptoms, other, than, dodgy, color, vision, but, i, ve, had, it, since, always, so, don, t, know, and, i, don, t, know, if, it, will, last, a, month, a, year, a, decade, ive, just, decided, to, enjoy, the, ride, no, point, in, worrying]</td>\n",
       "      <td>[autoimmune, diseases, tend, to, come, in, clusters, as, for, gilenya, if, you, feel, good, don, t, think, about, it, it, won, t, change, anything, but, waste, your, time, and, energy, i, m, taking, tysabri, and, feel, amazing, no, symptoms, other, than, dodgy, color, vision, but, i, ve, had, it, since, always, so, don, t, know, and, i, don, t, know, if, it, will, last, a, month, a, year, a, decade, ive, just, decided, to, enjoy, the, ride, no, point, in, worrying]</td>\n",
       "      <td>[autoimmune, diseases, tend, come, clusters, gilenya, feel, good, think, change, anything, waste, time, energy, taking, tysabri, feel, amazing, symptoms, dodgy, color, vision, since, always, know, know, last, month, year, decade, ive, decided, enjoy, ride, point, worrying]</td>\n",
       "    </tr>\n",
       "  </tbody>\n",
       "</table>\n",
       "</div>"
      ],
      "text/plain": [
       "                                unique_hash  \\\n",
       "0  2e180be4c9214c1f5ab51fd8cc32bc80c9f612e0   \n",
       "\n",
       "                                                                                                                                                                                                                                                                                                                                                                                                                   text  \\\n",
       "0  autoimmune diseases tend to come in clusters. as for gilenya – if you feel good, don’t think about it, it won’t change anything but waste your time and energy. i’m taking tysabri and feel amazing, no symptoms (other than dodgy color vision, but i’ve had it since always, so, don’t know) and i don’t know if it will last a month, a year, a decade, ive just decided to enjoy the ride, no point in worrying.   \n",
       "\n",
       "      drug  sentiment  \\\n",
       "0  gilenya  2           \n",
       "\n",
       "                                                                                                                                                                                                                                                                                                                                                                                                          document_sentences  \\\n",
       "0  [autoimmune diseases tend to come in clusters,  as for gilenya – if you feel good, don’t think about it, it won’t change anything but waste your time and energy,  i’m taking tysabri and feel amazing, no symptoms (other than dodgy color vision, but i’ve had it since always, so, don’t know) and i don’t know if it will last a month, a year, a decade, ive just decided to enjoy the ride, no point in worrying, ]   \n",
       "\n",
       "                                                                                                                                                                                                                                                                                                                                                                                           tokenized_sentences_1  \\\n",
       "0  [autoimmune diseases tend to come in clusters,  as for gilenya – if you feel good don’t think about it it won’t change anything but waste your time and energy,  i’m taking tysabri and feel amazing no symptoms other than dodgy color vision but i’ve had it since always so don’t know and i don’t know if it will last a month a year a decade ive just decided to enjoy the ride no point in worrying, ]   \n",
       "\n",
       "                                                                                                                                                                                                                                                                                                                                                                                                                                                                                                  tokenized_sentences_2  \\\n",
       "0  [[autoimmune, diseases, tend, to, come, in, clusters], [as, for, gilenya, –, if, you, feel, good, don, ’, t, think, about, it, it, won, ’, t, change, anything, but, waste, your, time, and, energy], [i, ’, m, taking, tysabri, and, feel, amazing, no, symptoms, other, than, dodgy, color, vision, but, i, ’, ve, had, it, since, always, so, don, ’, t, know, and, i, don, ’, t, know, if, it, will, last, a, month, a, year, a, decade, ive, just, decided, to, enjoy, the, ride, no, point, in, worrying], []]   \n",
       "\n",
       "                                                                                                                                                                                                                                                                                                                                                                                                                                                                             tokenized_sentences_3  \\\n",
       "0  [[autoimmune, diseases, tend, to, come, in, clusters], [as, for, gilenya, if, you, feel, good, don, t, think, about, it, it, won, t, change, anything, but, waste, your, time, and, energy], [i, m, taking, tysabri, and, feel, amazing, no, symptoms, other, than, dodgy, color, vision, but, i, ve, had, it, since, always, so, don, t, know, and, i, don, t, know, if, it, will, last, a, month, a, year, a, decade, ive, just, decided, to, enjoy, the, ride, no, point, in, worrying], []]   \n",
       "\n",
       "                                                                                                                                                                                                                                                                                                                                                                                                                                                                         tokenized_sentences_4  \\\n",
       "0  [[autoimmune, diseases, tend, to, come, in, clusters], [as, for, gilenya, if, you, feel, good, don, t, think, about, it, it, won, t, change, anything, but, waste, your, time, and, energy], [i, m, taking, tysabri, and, feel, amazing, no, symptoms, other, than, dodgy, color, vision, but, i, ve, had, it, since, always, so, don, t, know, and, i, don, t, know, if, it, will, last, a, month, a, year, a, decade, ive, just, decided, to, enjoy, the, ride, no, point, in, worrying]]   \n",
       "\n",
       "                                                                                                                                                                                                                                                                                                                                                                                        tokenized_text_1  \\\n",
       "0  autoimmune diseases tend to come in clusters as for gilenya – if you feel good don’t think about it it won’t change anything but waste your time and energy i’m taking tysabri and feel amazing no symptoms other than dodgy color vision but i’ve had it since always so don’t know and i don’t know if it will last a month a year a decade ive just decided to enjoy the ride no point in worrying   \n",
       "\n",
       "                                                                                                                                                                                                                                                                                                                                                                                                                                                                                             tokenized_text_2  \\\n",
       "0  [autoimmune, diseases, tend, to, come, in, clusters, as, for, gilenya, –, if, you, feel, good, don, ’, t, think, about, it, it, won, ’, t, change, anything, but, waste, your, time, and, energy, i, ’, m, taking, tysabri, and, feel, amazing, no, symptoms, other, than, dodgy, color, vision, but, i, ’, ve, had, it, since, always, so, don, ’, t, know, and, i, don, ’, t, know, if, it, will, last, a, month, a, year, a, decade, ive, just, decided, to, enjoy, the, ride, no, point, in, worrying]   \n",
       "\n",
       "                                                                                                                                                                                                                                                                                                                                                                                                                                                                        tokenized_text_3  \\\n",
       "0  [autoimmune, diseases, tend, to, come, in, clusters, as, for, gilenya, if, you, feel, good, don, t, think, about, it, it, won, t, change, anything, but, waste, your, time, and, energy, i, m, taking, tysabri, and, feel, amazing, no, symptoms, other, than, dodgy, color, vision, but, i, ve, had, it, since, always, so, don, t, know, and, i, don, t, know, if, it, will, last, a, month, a, year, a, decade, ive, just, decided, to, enjoy, the, ride, no, point, in, worrying]   \n",
       "\n",
       "                                                                                                                                                                                                                                                                                                                                                                                                                                                                          tokenized_text  \\\n",
       "0  [autoimmune, diseases, tend, to, come, in, clusters, as, for, gilenya, if, you, feel, good, don, t, think, about, it, it, won, t, change, anything, but, waste, your, time, and, energy, i, m, taking, tysabri, and, feel, amazing, no, symptoms, other, than, dodgy, color, vision, but, i, ve, had, it, since, always, so, don, t, know, and, i, don, t, know, if, it, will, last, a, month, a, year, a, decade, ive, just, decided, to, enjoy, the, ride, no, point, in, worrying]   \n",
       "\n",
       "                                                                                                                                                                                                                                                                   stopwords_removed  \n",
       "0  [autoimmune, diseases, tend, come, clusters, gilenya, feel, good, think, change, anything, waste, time, energy, taking, tysabri, feel, amazing, symptoms, dodgy, color, vision, since, always, know, know, last, month, year, decade, ive, decided, enjoy, ride, point, worrying]  "
      ]
     },
     "execution_count": 398,
     "metadata": {},
     "output_type": "execute_result"
    }
   ],
   "source": [
    "data_train.head(1)"
   ]
  },
  {
   "cell_type": "markdown",
   "metadata": {},
   "source": [
    "## 2.3) Stemming\n",
    "For the stemming part, we'll start with lemmatization, this will stem words like leaves to leaf. Afterwards, we'll apply the porterstemmer which in turn will complete the stemming by converting words like running to run."
   ]
  },
  {
   "cell_type": "code",
   "execution_count": 399,
   "metadata": {},
   "outputs": [],
   "source": [
    "def stem_words(df):\n",
    "    lemm = nltk.stem.WordNetLemmatizer()\n",
    "    df['lemmatized_text'] = list(map(lambda sentence:\n",
    "                                     list(map(lemm.lemmatize, sentence)),\n",
    "                                     df.stopwords_removed))\n",
    "\n",
    "    p_stemmer = nltk.stem.porter.PorterStemmer()\n",
    "    df['stemmed_text'] = list(map(lambda sentence:\n",
    "                                  list(map(p_stemmer.stem, sentence)),\n",
    "                                  df.lemmatized_text))\n",
    "\n",
    "stem_words(data_train)"
   ]
  },
  {
   "cell_type": "code",
   "execution_count": 400,
   "metadata": {},
   "outputs": [
    {
     "data": {
      "text/html": [
       "<div>\n",
       "<style scoped>\n",
       "    .dataframe tbody tr th:only-of-type {\n",
       "        vertical-align: middle;\n",
       "    }\n",
       "\n",
       "    .dataframe tbody tr th {\n",
       "        vertical-align: top;\n",
       "    }\n",
       "\n",
       "    .dataframe thead th {\n",
       "        text-align: right;\n",
       "    }\n",
       "</style>\n",
       "<table border=\"1\" class=\"dataframe\">\n",
       "  <thead>\n",
       "    <tr style=\"text-align: right;\">\n",
       "      <th></th>\n",
       "      <th>unique_hash</th>\n",
       "      <th>text</th>\n",
       "      <th>drug</th>\n",
       "      <th>sentiment</th>\n",
       "      <th>document_sentences</th>\n",
       "      <th>tokenized_sentences_1</th>\n",
       "      <th>tokenized_sentences_2</th>\n",
       "      <th>tokenized_sentences_3</th>\n",
       "      <th>tokenized_sentences_4</th>\n",
       "      <th>tokenized_text_1</th>\n",
       "      <th>tokenized_text_2</th>\n",
       "      <th>tokenized_text_3</th>\n",
       "      <th>tokenized_text</th>\n",
       "      <th>stopwords_removed</th>\n",
       "      <th>lemmatized_text</th>\n",
       "      <th>stemmed_text</th>\n",
       "    </tr>\n",
       "  </thead>\n",
       "  <tbody>\n",
       "    <tr>\n",
       "      <th>0</th>\n",
       "      <td>2e180be4c9214c1f5ab51fd8cc32bc80c9f612e0</td>\n",
       "      <td>autoimmune diseases tend to come in clusters. as for gilenya – if you feel good, don’t think about it, it won’t change anything but waste your time and energy. i’m taking tysabri and feel amazing, no symptoms (other than dodgy color vision, but i’ve had it since always, so, don’t know) and i don’t know if it will last a month, a year, a decade, ive just decided to enjoy the ride, no point in worrying.</td>\n",
       "      <td>gilenya</td>\n",
       "      <td>2</td>\n",
       "      <td>[autoimmune diseases tend to come in clusters,  as for gilenya – if you feel good, don’t think about it, it won’t change anything but waste your time and energy,  i’m taking tysabri and feel amazing, no symptoms (other than dodgy color vision, but i’ve had it since always, so, don’t know) and i don’t know if it will last a month, a year, a decade, ive just decided to enjoy the ride, no point in worrying, ]</td>\n",
       "      <td>[autoimmune diseases tend to come in clusters,  as for gilenya – if you feel good don’t think about it it won’t change anything but waste your time and energy,  i’m taking tysabri and feel amazing no symptoms other than dodgy color vision but i’ve had it since always so don’t know and i don’t know if it will last a month a year a decade ive just decided to enjoy the ride no point in worrying, ]</td>\n",
       "      <td>[[autoimmune, diseases, tend, to, come, in, clusters], [as, for, gilenya, –, if, you, feel, good, don, ’, t, think, about, it, it, won, ’, t, change, anything, but, waste, your, time, and, energy], [i, ’, m, taking, tysabri, and, feel, amazing, no, symptoms, other, than, dodgy, color, vision, but, i, ’, ve, had, it, since, always, so, don, ’, t, know, and, i, don, ’, t, know, if, it, will, last, a, month, a, year, a, decade, ive, just, decided, to, enjoy, the, ride, no, point, in, worrying], []]</td>\n",
       "      <td>[[autoimmune, diseases, tend, to, come, in, clusters], [as, for, gilenya, if, you, feel, good, don, t, think, about, it, it, won, t, change, anything, but, waste, your, time, and, energy], [i, m, taking, tysabri, and, feel, amazing, no, symptoms, other, than, dodgy, color, vision, but, i, ve, had, it, since, always, so, don, t, know, and, i, don, t, know, if, it, will, last, a, month, a, year, a, decade, ive, just, decided, to, enjoy, the, ride, no, point, in, worrying], []]</td>\n",
       "      <td>[[autoimmune, diseases, tend, to, come, in, clusters], [as, for, gilenya, if, you, feel, good, don, t, think, about, it, it, won, t, change, anything, but, waste, your, time, and, energy], [i, m, taking, tysabri, and, feel, amazing, no, symptoms, other, than, dodgy, color, vision, but, i, ve, had, it, since, always, so, don, t, know, and, i, don, t, know, if, it, will, last, a, month, a, year, a, decade, ive, just, decided, to, enjoy, the, ride, no, point, in, worrying]]</td>\n",
       "      <td>autoimmune diseases tend to come in clusters as for gilenya – if you feel good don’t think about it it won’t change anything but waste your time and energy i’m taking tysabri and feel amazing no symptoms other than dodgy color vision but i’ve had it since always so don’t know and i don’t know if it will last a month a year a decade ive just decided to enjoy the ride no point in worrying</td>\n",
       "      <td>[autoimmune, diseases, tend, to, come, in, clusters, as, for, gilenya, –, if, you, feel, good, don, ’, t, think, about, it, it, won, ’, t, change, anything, but, waste, your, time, and, energy, i, ’, m, taking, tysabri, and, feel, amazing, no, symptoms, other, than, dodgy, color, vision, but, i, ’, ve, had, it, since, always, so, don, ’, t, know, and, i, don, ’, t, know, if, it, will, last, a, month, a, year, a, decade, ive, just, decided, to, enjoy, the, ride, no, point, in, worrying]</td>\n",
       "      <td>[autoimmune, diseases, tend, to, come, in, clusters, as, for, gilenya, if, you, feel, good, don, t, think, about, it, it, won, t, change, anything, but, waste, your, time, and, energy, i, m, taking, tysabri, and, feel, amazing, no, symptoms, other, than, dodgy, color, vision, but, i, ve, had, it, since, always, so, don, t, know, and, i, don, t, know, if, it, will, last, a, month, a, year, a, decade, ive, just, decided, to, enjoy, the, ride, no, point, in, worrying]</td>\n",
       "      <td>[autoimmune, diseases, tend, to, come, in, clusters, as, for, gilenya, if, you, feel, good, don, t, think, about, it, it, won, t, change, anything, but, waste, your, time, and, energy, i, m, taking, tysabri, and, feel, amazing, no, symptoms, other, than, dodgy, color, vision, but, i, ve, had, it, since, always, so, don, t, know, and, i, don, t, know, if, it, will, last, a, month, a, year, a, decade, ive, just, decided, to, enjoy, the, ride, no, point, in, worrying]</td>\n",
       "      <td>[autoimmune, diseases, tend, come, clusters, gilenya, feel, good, think, change, anything, waste, time, energy, taking, tysabri, feel, amazing, symptoms, dodgy, color, vision, since, always, know, know, last, month, year, decade, ive, decided, enjoy, ride, point, worrying]</td>\n",
       "      <td>[autoimmune, disease, tend, come, cluster, gilenya, feel, good, think, change, anything, waste, time, energy, taking, tysabri, feel, amazing, symptom, dodgy, color, vision, since, always, know, know, last, month, year, decade, ive, decided, enjoy, ride, point, worrying]</td>\n",
       "      <td>[autoimmun, diseas, tend, come, cluster, gilenya, feel, good, think, chang, anyth, wast, time, energi, take, tysabri, feel, amaz, symptom, dodgi, color, vision, sinc, alway, know, know, last, month, year, decad, ive, decid, enjoy, ride, point, worri]</td>\n",
       "    </tr>\n",
       "  </tbody>\n",
       "</table>\n",
       "</div>"
      ],
      "text/plain": [
       "                                unique_hash  \\\n",
       "0  2e180be4c9214c1f5ab51fd8cc32bc80c9f612e0   \n",
       "\n",
       "                                                                                                                                                                                                                                                                                                                                                                                                                   text  \\\n",
       "0  autoimmune diseases tend to come in clusters. as for gilenya – if you feel good, don’t think about it, it won’t change anything but waste your time and energy. i’m taking tysabri and feel amazing, no symptoms (other than dodgy color vision, but i’ve had it since always, so, don’t know) and i don’t know if it will last a month, a year, a decade, ive just decided to enjoy the ride, no point in worrying.   \n",
       "\n",
       "      drug  sentiment  \\\n",
       "0  gilenya  2           \n",
       "\n",
       "                                                                                                                                                                                                                                                                                                                                                                                                          document_sentences  \\\n",
       "0  [autoimmune diseases tend to come in clusters,  as for gilenya – if you feel good, don’t think about it, it won’t change anything but waste your time and energy,  i’m taking tysabri and feel amazing, no symptoms (other than dodgy color vision, but i’ve had it since always, so, don’t know) and i don’t know if it will last a month, a year, a decade, ive just decided to enjoy the ride, no point in worrying, ]   \n",
       "\n",
       "                                                                                                                                                                                                                                                                                                                                                                                           tokenized_sentences_1  \\\n",
       "0  [autoimmune diseases tend to come in clusters,  as for gilenya – if you feel good don’t think about it it won’t change anything but waste your time and energy,  i’m taking tysabri and feel amazing no symptoms other than dodgy color vision but i’ve had it since always so don’t know and i don’t know if it will last a month a year a decade ive just decided to enjoy the ride no point in worrying, ]   \n",
       "\n",
       "                                                                                                                                                                                                                                                                                                                                                                                                                                                                                                  tokenized_sentences_2  \\\n",
       "0  [[autoimmune, diseases, tend, to, come, in, clusters], [as, for, gilenya, –, if, you, feel, good, don, ’, t, think, about, it, it, won, ’, t, change, anything, but, waste, your, time, and, energy], [i, ’, m, taking, tysabri, and, feel, amazing, no, symptoms, other, than, dodgy, color, vision, but, i, ’, ve, had, it, since, always, so, don, ’, t, know, and, i, don, ’, t, know, if, it, will, last, a, month, a, year, a, decade, ive, just, decided, to, enjoy, the, ride, no, point, in, worrying], []]   \n",
       "\n",
       "                                                                                                                                                                                                                                                                                                                                                                                                                                                                             tokenized_sentences_3  \\\n",
       "0  [[autoimmune, diseases, tend, to, come, in, clusters], [as, for, gilenya, if, you, feel, good, don, t, think, about, it, it, won, t, change, anything, but, waste, your, time, and, energy], [i, m, taking, tysabri, and, feel, amazing, no, symptoms, other, than, dodgy, color, vision, but, i, ve, had, it, since, always, so, don, t, know, and, i, don, t, know, if, it, will, last, a, month, a, year, a, decade, ive, just, decided, to, enjoy, the, ride, no, point, in, worrying], []]   \n",
       "\n",
       "                                                                                                                                                                                                                                                                                                                                                                                                                                                                         tokenized_sentences_4  \\\n",
       "0  [[autoimmune, diseases, tend, to, come, in, clusters], [as, for, gilenya, if, you, feel, good, don, t, think, about, it, it, won, t, change, anything, but, waste, your, time, and, energy], [i, m, taking, tysabri, and, feel, amazing, no, symptoms, other, than, dodgy, color, vision, but, i, ve, had, it, since, always, so, don, t, know, and, i, don, t, know, if, it, will, last, a, month, a, year, a, decade, ive, just, decided, to, enjoy, the, ride, no, point, in, worrying]]   \n",
       "\n",
       "                                                                                                                                                                                                                                                                                                                                                                                        tokenized_text_1  \\\n",
       "0  autoimmune diseases tend to come in clusters as for gilenya – if you feel good don’t think about it it won’t change anything but waste your time and energy i’m taking tysabri and feel amazing no symptoms other than dodgy color vision but i’ve had it since always so don’t know and i don’t know if it will last a month a year a decade ive just decided to enjoy the ride no point in worrying   \n",
       "\n",
       "                                                                                                                                                                                                                                                                                                                                                                                                                                                                                             tokenized_text_2  \\\n",
       "0  [autoimmune, diseases, tend, to, come, in, clusters, as, for, gilenya, –, if, you, feel, good, don, ’, t, think, about, it, it, won, ’, t, change, anything, but, waste, your, time, and, energy, i, ’, m, taking, tysabri, and, feel, amazing, no, symptoms, other, than, dodgy, color, vision, but, i, ’, ve, had, it, since, always, so, don, ’, t, know, and, i, don, ’, t, know, if, it, will, last, a, month, a, year, a, decade, ive, just, decided, to, enjoy, the, ride, no, point, in, worrying]   \n",
       "\n",
       "                                                                                                                                                                                                                                                                                                                                                                                                                                                                        tokenized_text_3  \\\n",
       "0  [autoimmune, diseases, tend, to, come, in, clusters, as, for, gilenya, if, you, feel, good, don, t, think, about, it, it, won, t, change, anything, but, waste, your, time, and, energy, i, m, taking, tysabri, and, feel, amazing, no, symptoms, other, than, dodgy, color, vision, but, i, ve, had, it, since, always, so, don, t, know, and, i, don, t, know, if, it, will, last, a, month, a, year, a, decade, ive, just, decided, to, enjoy, the, ride, no, point, in, worrying]   \n",
       "\n",
       "                                                                                                                                                                                                                                                                                                                                                                                                                                                                          tokenized_text  \\\n",
       "0  [autoimmune, diseases, tend, to, come, in, clusters, as, for, gilenya, if, you, feel, good, don, t, think, about, it, it, won, t, change, anything, but, waste, your, time, and, energy, i, m, taking, tysabri, and, feel, amazing, no, symptoms, other, than, dodgy, color, vision, but, i, ve, had, it, since, always, so, don, t, know, and, i, don, t, know, if, it, will, last, a, month, a, year, a, decade, ive, just, decided, to, enjoy, the, ride, no, point, in, worrying]   \n",
       "\n",
       "                                                                                                                                                                                                                                                                   stopwords_removed  \\\n",
       "0  [autoimmune, diseases, tend, come, clusters, gilenya, feel, good, think, change, anything, waste, time, energy, taking, tysabri, feel, amazing, symptoms, dodgy, color, vision, since, always, know, know, last, month, year, decade, ive, decided, enjoy, ride, point, worrying]   \n",
       "\n",
       "                                                                                                                                                                                                                                                                  lemmatized_text  \\\n",
       "0  [autoimmune, disease, tend, come, cluster, gilenya, feel, good, think, change, anything, waste, time, energy, taking, tysabri, feel, amazing, symptom, dodgy, color, vision, since, always, know, know, last, month, year, decade, ive, decided, enjoy, ride, point, worrying]   \n",
       "\n",
       "                                                                                                                                                                                                                                                 stemmed_text  \n",
       "0  [autoimmun, diseas, tend, come, cluster, gilenya, feel, good, think, chang, anyth, wast, time, energi, take, tysabri, feel, amaz, symptom, dodgi, color, vision, sinc, alway, know, know, last, month, year, decad, ive, decid, enjoy, ride, point, worri]  "
      ]
     },
     "execution_count": 400,
     "metadata": {},
     "output_type": "execute_result"
    }
   ],
   "source": [
    "data_train.head(1)"
   ]
  },
  {
   "cell_type": "markdown",
   "metadata": {},
   "source": [
    "## 2.4) Vectorize words\n",
    "Here we create a dictionary for the model. Since a computer can't reallly understand what a word means, we need to transform it into some number the model will be able to work with. We use gensim.corpora.Dictionary for this."
   ]
  },
  {
   "cell_type": "code",
   "execution_count": 401,
   "metadata": {},
   "outputs": [
    {
     "name": "stdout",
     "output_type": "stream",
     "text": [
      "Found 33230 words.\n"
     ]
    }
   ],
   "source": [
    "dictionary = Dictionary(documents=data_train.stemmed_text.values)\n",
    "\n",
    "print(\"Found {} words.\".format(len(dictionary.values())))"
   ]
  },
  {
   "cell_type": "code",
   "execution_count": 402,
   "metadata": {},
   "outputs": [
    {
     "name": "stdout",
     "output_type": "stream",
     "text": [
      "Left with 11189 words.\n"
     ]
    }
   ],
   "source": [
    "dictionary.filter_extremes(no_above=0.8, no_below=3)\n",
    "\n",
    "# no_below - words atleast present in n documents \n",
    "# no_above - fraction of total corpus\n",
    "\n",
    "dictionary.compactify()  # Reindexes the remaining words after filtering\n",
    "print(\"Left with {} words.\".format(len(dictionary.values())))"
   ]
  },
  {
   "cell_type": "code",
   "execution_count": 403,
   "metadata": {
    "scrolled": false
   },
   "outputs": [],
   "source": [
    "#Make a BOW for every document\n",
    "def document_to_bow(df):\n",
    "    df['bow'] = list(map(lambda doc: dictionary.doc2bow(doc), df.stemmed_text))\n",
    "    \n",
    "document_to_bow(data_train)\n",
    "#data_train.head(1)"
   ]
  },
  {
   "cell_type": "code",
   "execution_count": 404,
   "metadata": {},
   "outputs": [],
   "source": [
    "# we make a function such that later on when we make the submission, we don't need to write duplicate code\n",
    "def lda_preprocessing(df):\n",
    "    \"\"\" All the preprocessing steps for LDA are combined in this function.\n",
    "    All mutations are done on the data_trainframe itself. So this function returns\n",
    "    nothing.\n",
    "    \"\"\"\n",
    "    lda_get_good_tokens(df)\n",
    "    remove_stopwords(df)\n",
    "    stem_words(df)\n",
    "    document_to_bow(df)"
   ]
  },
  {
   "cell_type": "markdown",
   "metadata": {},
   "source": [
    "### Visualize the cleansed words frequencies\n",
    "Excellent! We cleansed our data_train and are ready to continue with LDA and Word2Vec, but before we do that, I would like to visualize the cleansed results and see what we created so far."
   ]
  },
  {
   "cell_type": "code",
   "execution_count": 405,
   "metadata": {},
   "outputs": [],
   "source": [
    "cleansed_words_df = pd.DataFrame.from_dict(dictionary.token2id, orient='index')\n",
    "cleansed_words_df.rename(columns={0: 'id'}, inplace=True)\n",
    "\n",
    "cleansed_words_df['count'] = list(map(lambda id_: dictionary.dfs.get(id_), cleansed_words_df.id))\n",
    "del cleansed_words_df['id']"
   ]
  },
  {
   "cell_type": "code",
   "execution_count": 406,
   "metadata": {},
   "outputs": [],
   "source": [
    "cleansed_words_df.sort_values('count', ascending=False, inplace=True)"
   ]
  },
  {
   "cell_type": "code",
   "execution_count": 407,
   "metadata": {},
   "outputs": [
    {
     "data": {
      "image/png": "[encoded data removed]",
      "text/plain": [
       "<Figure size 1440x360 with 1 Axes>"
      ]
     },
     "metadata": {},
     "output_type": "display_data"
    }
   ],
   "source": [
    "ax = word_frequency_barplot(cleansed_words_df)\n",
    "ax.set_title(\"Document Frequencies (Number of documents a word appears in)\", fontsize=16);"
   ]
  },
  {
   "cell_type": "code",
   "execution_count": 408,
   "metadata": {},
   "outputs": [],
   "source": [
    "tokenized_only_dict = Counter(np.concatenate(data_train.stemmed_text.values))\n",
    "\n",
    "tokenized_only_df = pd.DataFrame.from_dict(tokenized_only_dict, orient='index')\n",
    "tokenized_only_df.rename(columns={0: 'count'}, inplace=True)"
   ]
  },
  {
   "cell_type": "code",
   "execution_count": 409,
   "metadata": {},
   "outputs": [
    {
     "data": {
      "text/html": [
       "<div>\n",
       "<style scoped>\n",
       "    .dataframe tbody tr th:only-of-type {\n",
       "        vertical-align: middle;\n",
       "    }\n",
       "\n",
       "    .dataframe tbody tr th {\n",
       "        vertical-align: top;\n",
       "    }\n",
       "\n",
       "    .dataframe thead th {\n",
       "        text-align: right;\n",
       "    }\n",
       "</style>\n",
       "<table border=\"1\" class=\"dataframe\">\n",
       "  <thead>\n",
       "    <tr style=\"text-align: right;\">\n",
       "      <th></th>\n",
       "      <th>count</th>\n",
       "    </tr>\n",
       "  </thead>\n",
       "  <tbody>\n",
       "    <tr>\n",
       "      <th>patient</th>\n",
       "      <td>9233</td>\n",
       "    </tr>\n",
       "    <tr>\n",
       "      <th>cancer</th>\n",
       "      <td>8548</td>\n",
       "    </tr>\n",
       "    <tr>\n",
       "      <th>treatment</th>\n",
       "      <td>7757</td>\n",
       "    </tr>\n",
       "    <tr>\n",
       "      <th>use</th>\n",
       "      <td>5497</td>\n",
       "    </tr>\n",
       "    <tr>\n",
       "      <th>may</th>\n",
       "      <td>5460</td>\n",
       "    </tr>\n",
       "    <tr>\n",
       "      <th>drug</th>\n",
       "      <td>5383</td>\n",
       "    </tr>\n",
       "    <tr>\n",
       "      <th>m</th>\n",
       "      <td>5124</td>\n",
       "    </tr>\n",
       "    <tr>\n",
       "      <th>year</th>\n",
       "      <td>4896</td>\n",
       "    </tr>\n",
       "    <tr>\n",
       "      <th>diseas</th>\n",
       "      <td>4711</td>\n",
       "    </tr>\n",
       "    <tr>\n",
       "      <th>effect</th>\n",
       "      <td>4593</td>\n",
       "    </tr>\n",
       "    <tr>\n",
       "      <th>cell</th>\n",
       "      <td>4304</td>\n",
       "    </tr>\n",
       "    <tr>\n",
       "      <th>studi</th>\n",
       "      <td>4073</td>\n",
       "    </tr>\n",
       "    <tr>\n",
       "      <th>trial</th>\n",
       "      <td>4014</td>\n",
       "    </tr>\n",
       "    <tr>\n",
       "      <th>also</th>\n",
       "      <td>3874</td>\n",
       "    </tr>\n",
       "    <tr>\n",
       "      <th>get</th>\n",
       "      <td>3871</td>\n",
       "    </tr>\n",
       "    <tr>\n",
       "      <th>therapi</th>\n",
       "      <td>3845</td>\n",
       "    </tr>\n",
       "    <tr>\n",
       "      <th>one</th>\n",
       "      <td>3732</td>\n",
       "    </tr>\n",
       "    <tr>\n",
       "      <th>week</th>\n",
       "      <td>3556</td>\n",
       "    </tr>\n",
       "    <tr>\n",
       "      <th>month</th>\n",
       "      <td>3542</td>\n",
       "    </tr>\n",
       "    <tr>\n",
       "      <th>time</th>\n",
       "      <td>3491</td>\n",
       "    </tr>\n",
       "    <tr>\n",
       "      <th>take</th>\n",
       "      <td>3467</td>\n",
       "    </tr>\n",
       "    <tr>\n",
       "      <th>new</th>\n",
       "      <td>3311</td>\n",
       "    </tr>\n",
       "    <tr>\n",
       "      <th>lung</th>\n",
       "      <td>3294</td>\n",
       "    </tr>\n",
       "    <tr>\n",
       "      <th>clinic</th>\n",
       "      <td>3274</td>\n",
       "    </tr>\n",
       "    <tr>\n",
       "      <th>like</th>\n",
       "      <td>3268</td>\n",
       "    </tr>\n",
       "    <tr>\n",
       "      <th>medic</th>\n",
       "      <td>3038</td>\n",
       "    </tr>\n",
       "    <tr>\n",
       "      <th>doctor</th>\n",
       "      <td>2938</td>\n",
       "    </tr>\n",
       "    <tr>\n",
       "      <th>work</th>\n",
       "      <td>2902</td>\n",
       "    </tr>\n",
       "    <tr>\n",
       "      <th>day</th>\n",
       "      <td>2779</td>\n",
       "    </tr>\n",
       "    <tr>\n",
       "      <th>go</th>\n",
       "      <td>2752</td>\n",
       "    </tr>\n",
       "    <tr>\n",
       "      <th>...</th>\n",
       "      <td>...</td>\n",
       "    </tr>\n",
       "    <tr>\n",
       "      <th>factswhen</th>\n",
       "      <td>1</td>\n",
       "    </tr>\n",
       "    <tr>\n",
       "      <th>intermediat</th>\n",
       "      <td>1</td>\n",
       "    </tr>\n",
       "    <tr>\n",
       "      <th>tonightehealthm</th>\n",
       "      <td>1</td>\n",
       "    </tr>\n",
       "    <tr>\n",
       "      <th>pacman</th>\n",
       "      <td>1</td>\n",
       "    </tr>\n",
       "    <tr>\n",
       "      <th>phlebiti</th>\n",
       "      <td>1</td>\n",
       "    </tr>\n",
       "    <tr>\n",
       "      <th>goround</th>\n",
       "      <td>1</td>\n",
       "    </tr>\n",
       "    <tr>\n",
       "      <th>choresswap</th>\n",
       "      <td>1</td>\n",
       "    </tr>\n",
       "    <tr>\n",
       "      <th>wateringspr</th>\n",
       "      <td>1</td>\n",
       "    </tr>\n",
       "    <tr>\n",
       "      <th>deborah</th>\n",
       "      <td>1</td>\n",
       "    </tr>\n",
       "    <tr>\n",
       "      <th>pulmunologist</th>\n",
       "      <td>1</td>\n",
       "    </tr>\n",
       "    <tr>\n",
       "      <th>binari</th>\n",
       "      <td>1</td>\n",
       "    </tr>\n",
       "    <tr>\n",
       "      <th>tesco</th>\n",
       "      <td>1</td>\n",
       "    </tr>\n",
       "    <tr>\n",
       "      <th>lowerlimb</th>\n",
       "      <td>1</td>\n",
       "    </tr>\n",
       "    <tr>\n",
       "      <th>desperandum</th>\n",
       "      <td>1</td>\n",
       "    </tr>\n",
       "    <tr>\n",
       "      <th>sling</th>\n",
       "      <td>1</td>\n",
       "    </tr>\n",
       "    <tr>\n",
       "      <th>beckett</th>\n",
       "      <td>1</td>\n",
       "    </tr>\n",
       "    <tr>\n",
       "      <th>respon</th>\n",
       "      <td>1</td>\n",
       "    </tr>\n",
       "    <tr>\n",
       "      <th>unfound</th>\n",
       "      <td>1</td>\n",
       "    </tr>\n",
       "    <tr>\n",
       "      <th>tabul</th>\n",
       "      <td>1</td>\n",
       "    </tr>\n",
       "    <tr>\n",
       "      <th>espionag</th>\n",
       "      <td>1</td>\n",
       "    </tr>\n",
       "    <tr>\n",
       "      <th>personn</th>\n",
       "      <td>1</td>\n",
       "    </tr>\n",
       "    <tr>\n",
       "      <th>gemma</th>\n",
       "      <td>1</td>\n",
       "    </tr>\n",
       "    <tr>\n",
       "      <th>groot</th>\n",
       "      <td>1</td>\n",
       "    </tr>\n",
       "    <tr>\n",
       "      <th>cytometri</th>\n",
       "      <td>1</td>\n",
       "    </tr>\n",
       "    <tr>\n",
       "      <th>furthur</th>\n",
       "      <td>1</td>\n",
       "    </tr>\n",
       "    <tr>\n",
       "      <th>pseudotumor</th>\n",
       "      <td>1</td>\n",
       "    </tr>\n",
       "    <tr>\n",
       "      <th>senra</th>\n",
       "      <td>1</td>\n",
       "    </tr>\n",
       "    <tr>\n",
       "      <th>balaska</th>\n",
       "      <td>1</td>\n",
       "    </tr>\n",
       "    <tr>\n",
       "      <th>mahmoodi</th>\n",
       "      <td>1</td>\n",
       "    </tr>\n",
       "    <tr>\n",
       "      <th>bazza</th>\n",
       "      <td>1</td>\n",
       "    </tr>\n",
       "  </tbody>\n",
       "</table>\n",
       "<p>33230 rows × 1 columns</p>\n",
       "</div>"
      ],
      "text/plain": [
       "                 count\n",
       "patient          9233 \n",
       "cancer           8548 \n",
       "treatment        7757 \n",
       "use              5497 \n",
       "may              5460 \n",
       "drug             5383 \n",
       "m                5124 \n",
       "year             4896 \n",
       "diseas           4711 \n",
       "effect           4593 \n",
       "cell             4304 \n",
       "studi            4073 \n",
       "trial            4014 \n",
       "also             3874 \n",
       "get              3871 \n",
       "therapi          3845 \n",
       "one              3732 \n",
       "week             3556 \n",
       "month            3542 \n",
       "time             3491 \n",
       "take             3467 \n",
       "new              3311 \n",
       "lung             3294 \n",
       "clinic           3274 \n",
       "like             3268 \n",
       "medic            3038 \n",
       "doctor           2938 \n",
       "work             2902 \n",
       "day              2779 \n",
       "go               2752 \n",
       "...               ... \n",
       "factswhen        1    \n",
       "intermediat      1    \n",
       "tonightehealthm  1    \n",
       "pacman           1    \n",
       "phlebiti         1    \n",
       "goround          1    \n",
       "choresswap       1    \n",
       "wateringspr      1    \n",
       "deborah          1    \n",
       "pulmunologist    1    \n",
       "binari           1    \n",
       "tesco            1    \n",
       "lowerlimb        1    \n",
       "desperandum      1    \n",
       "sling            1    \n",
       "beckett          1    \n",
       "respon           1    \n",
       "unfound          1    \n",
       "tabul            1    \n",
       "espionag         1    \n",
       "personn          1    \n",
       "gemma            1    \n",
       "groot            1    \n",
       "cytometri        1    \n",
       "furthur          1    \n",
       "pseudotumor      1    \n",
       "senra            1    \n",
       "balaska          1    \n",
       "mahmoodi         1    \n",
       "bazza            1    \n",
       "\n",
       "[33230 rows x 1 columns]"
      ]
     },
     "execution_count": 409,
     "metadata": {},
     "output_type": "execute_result"
    }
   ],
   "source": [
    "tokenized_only_df.sort_values('count', ascending=False, inplace=True)\n",
    "tokenized_only_df"
   ]
  },
  {
   "cell_type": "code",
   "execution_count": 410,
   "metadata": {},
   "outputs": [
    {
     "data": {
      "image/png": "[encoded data removed]",
      "text/plain": [
       "<Figure size 1440x360 with 1 Axes>"
      ]
     },
     "metadata": {},
     "output_type": "display_data"
    }
   ],
   "source": [
    "# I made a function out of this since I will use it again later on \n",
    "def word_frequency_barplot(df, nr_top_words=50):\n",
    "    \"\"\" df should have a column named count.\n",
    "    \"\"\"\n",
    "    fig, ax = plt.subplots(1,1,figsize=(20,5))\n",
    "\n",
    "    sns.barplot(list(range(nr_top_words)), df['count'].values[:nr_top_words], palette='hls', ax=ax)\n",
    "\n",
    "    ax.set_xticks(list(range(nr_top_words)))\n",
    "    ax.set_xticklabels(df.index[:nr_top_words], fontsize=14, rotation=90)\n",
    "    return ax\n",
    "    \n",
    "ax = word_frequency_barplot(tokenized_only_df)\n",
    "ax.set_title(\"Word Frequencies\", fontsize=16);"
   ]
  },
  {
   "cell_type": "markdown",
   "metadata": {},
   "source": [
    "# 3) Model Training"
   ]
  },
  {
   "cell_type": "markdown",
   "metadata": {},
   "source": [
    "# Word2Vec"
   ]
  },
  {
   "cell_type": "code",
   "execution_count": 411,
   "metadata": {},
   "outputs": [
    {
     "data": {
      "text/html": [
       "<div>\n",
       "<style scoped>\n",
       "    .dataframe tbody tr th:only-of-type {\n",
       "        vertical-align: middle;\n",
       "    }\n",
       "\n",
       "    .dataframe tbody tr th {\n",
       "        vertical-align: top;\n",
       "    }\n",
       "\n",
       "    .dataframe thead th {\n",
       "        text-align: right;\n",
       "    }\n",
       "</style>\n",
       "<table border=\"1\" class=\"dataframe\">\n",
       "  <thead>\n",
       "    <tr style=\"text-align: right;\">\n",
       "      <th></th>\n",
       "      <th>unique_hash</th>\n",
       "      <th>text</th>\n",
       "      <th>drug</th>\n",
       "      <th>sentiment</th>\n",
       "      <th>document_sentences</th>\n",
       "      <th>tokenized_sentences_1</th>\n",
       "      <th>tokenized_sentences_2</th>\n",
       "      <th>tokenized_sentences_3</th>\n",
       "      <th>tokenized_sentences_4</th>\n",
       "      <th>tokenized_text_1</th>\n",
       "      <th>tokenized_text_2</th>\n",
       "      <th>tokenized_text_3</th>\n",
       "      <th>tokenized_text</th>\n",
       "      <th>stopwords_removed</th>\n",
       "      <th>lemmatized_text</th>\n",
       "      <th>stemmed_text</th>\n",
       "      <th>bow</th>\n",
       "    </tr>\n",
       "  </thead>\n",
       "  <tbody>\n",
       "    <tr>\n",
       "      <th>0</th>\n",
       "      <td>2e180be4c9214c1f5ab51fd8cc32bc80c9f612e0</td>\n",
       "      <td>autoimmune diseases tend to come in clusters. as for gilenya – if you feel good, don’t think about it, it won’t change anything but waste your time and energy. i’m taking tysabri and feel amazing, no symptoms (other than dodgy color vision, but i’ve had it since always, so, don’t know) and i don’t know if it will last a month, a year, a decade, ive just decided to enjoy the ride, no point in worrying.</td>\n",
       "      <td>gilenya</td>\n",
       "      <td>2</td>\n",
       "      <td>[autoimmune diseases tend to come in clusters,  as for gilenya – if you feel good, don’t think about it, it won’t change anything but waste your time and energy,  i’m taking tysabri and feel amazing, no symptoms (other than dodgy color vision, but i’ve had it since always, so, don’t know) and i don’t know if it will last a month, a year, a decade, ive just decided to enjoy the ride, no point in worrying, ]</td>\n",
       "      <td>[autoimmune diseases tend to come in clusters,  as for gilenya – if you feel good don’t think about it it won’t change anything but waste your time and energy,  i’m taking tysabri and feel amazing no symptoms other than dodgy color vision but i’ve had it since always so don’t know and i don’t know if it will last a month a year a decade ive just decided to enjoy the ride no point in worrying, ]</td>\n",
       "      <td>[[autoimmune, diseases, tend, to, come, in, clusters], [as, for, gilenya, –, if, you, feel, good, don, ’, t, think, about, it, it, won, ’, t, change, anything, but, waste, your, time, and, energy], [i, ’, m, taking, tysabri, and, feel, amazing, no, symptoms, other, than, dodgy, color, vision, but, i, ’, ve, had, it, since, always, so, don, ’, t, know, and, i, don, ’, t, know, if, it, will, last, a, month, a, year, a, decade, ive, just, decided, to, enjoy, the, ride, no, point, in, worrying], []]</td>\n",
       "      <td>[[autoimmune, diseases, tend, to, come, in, clusters], [as, for, gilenya, if, you, feel, good, don, t, think, about, it, it, won, t, change, anything, but, waste, your, time, and, energy], [i, m, taking, tysabri, and, feel, amazing, no, symptoms, other, than, dodgy, color, vision, but, i, ve, had, it, since, always, so, don, t, know, and, i, don, t, know, if, it, will, last, a, month, a, year, a, decade, ive, just, decided, to, enjoy, the, ride, no, point, in, worrying], []]</td>\n",
       "      <td>[[autoimmune, diseases, tend, to, come, in, clusters], [as, for, gilenya, if, you, feel, good, don, t, think, about, it, it, won, t, change, anything, but, waste, your, time, and, energy], [i, m, taking, tysabri, and, feel, amazing, no, symptoms, other, than, dodgy, color, vision, but, i, ve, had, it, since, always, so, don, t, know, and, i, don, t, know, if, it, will, last, a, month, a, year, a, decade, ive, just, decided, to, enjoy, the, ride, no, point, in, worrying]]</td>\n",
       "      <td>autoimmune diseases tend to come in clusters as for gilenya – if you feel good don’t think about it it won’t change anything but waste your time and energy i’m taking tysabri and feel amazing no symptoms other than dodgy color vision but i’ve had it since always so don’t know and i don’t know if it will last a month a year a decade ive just decided to enjoy the ride no point in worrying</td>\n",
       "      <td>[autoimmune, diseases, tend, to, come, in, clusters, as, for, gilenya, –, if, you, feel, good, don, ’, t, think, about, it, it, won, ’, t, change, anything, but, waste, your, time, and, energy, i, ’, m, taking, tysabri, and, feel, amazing, no, symptoms, other, than, dodgy, color, vision, but, i, ’, ve, had, it, since, always, so, don, ’, t, know, and, i, don, ’, t, know, if, it, will, last, a, month, a, year, a, decade, ive, just, decided, to, enjoy, the, ride, no, point, in, worrying]</td>\n",
       "      <td>[autoimmune, diseases, tend, to, come, in, clusters, as, for, gilenya, if, you, feel, good, don, t, think, about, it, it, won, t, change, anything, but, waste, your, time, and, energy, i, m, taking, tysabri, and, feel, amazing, no, symptoms, other, than, dodgy, color, vision, but, i, ve, had, it, since, always, so, don, t, know, and, i, don, t, know, if, it, will, last, a, month, a, year, a, decade, ive, just, decided, to, enjoy, the, ride, no, point, in, worrying]</td>\n",
       "      <td>[autoimmune, diseases, tend, to, come, in, clusters, as, for, gilenya, if, you, feel, good, don, t, think, about, it, it, won, t, change, anything, but, waste, your, time, and, energy, i, m, taking, tysabri, and, feel, amazing, no, symptoms, other, than, dodgy, color, vision, but, i, ve, had, it, since, always, so, don, t, know, and, i, don, t, know, if, it, will, last, a, month, a, year, a, decade, ive, just, decided, to, enjoy, the, ride, no, point, in, worrying]</td>\n",
       "      <td>[autoimmune, diseases, tend, come, clusters, gilenya, feel, good, think, change, anything, waste, time, energy, taking, tysabri, feel, amazing, symptoms, dodgy, color, vision, since, always, know, know, last, month, year, decade, ive, decided, enjoy, ride, point, worrying]</td>\n",
       "      <td>[autoimmune, disease, tend, come, cluster, gilenya, feel, good, think, change, anything, waste, time, energy, taking, tysabri, feel, amazing, symptom, dodgy, color, vision, since, always, know, know, last, month, year, decade, ive, decided, enjoy, ride, point, worrying]</td>\n",
       "      <td>[autoimmun, diseas, tend, come, cluster, gilenya, feel, good, think, chang, anyth, wast, time, energi, take, tysabri, feel, amaz, symptom, dodgi, color, vision, sinc, alway, know, know, last, month, year, decad, ive, decid, enjoy, ride, point, worri]</td>\n",
       "      <td>[(0, 1), (1, 1), (2, 1), (3, 1), (4, 1), (5, 1), (6, 1), (7, 1), (8, 1), (9, 1), (10, 1), (11, 1), (12, 1), (13, 1), (14, 2), (15, 1), (16, 1), (17, 1), (18, 2), (19, 1), (20, 1), (21, 1), (22, 1), (23, 1), (24, 1), (25, 1), (26, 1), (27, 1), (28, 1), (29, 1), (30, 1), (31, 1), (32, 1), (33, 1)]</td>\n",
       "    </tr>\n",
       "  </tbody>\n",
       "</table>\n",
       "</div>"
      ],
      "text/plain": [
       "                                unique_hash  \\\n",
       "0  2e180be4c9214c1f5ab51fd8cc32bc80c9f612e0   \n",
       "\n",
       "                                                                                                                                                                                                                                                                                                                                                                                                                   text  \\\n",
       "0  autoimmune diseases tend to come in clusters. as for gilenya – if you feel good, don’t think about it, it won’t change anything but waste your time and energy. i’m taking tysabri and feel amazing, no symptoms (other than dodgy color vision, but i’ve had it since always, so, don’t know) and i don’t know if it will last a month, a year, a decade, ive just decided to enjoy the ride, no point in worrying.   \n",
       "\n",
       "      drug  sentiment  \\\n",
       "0  gilenya  2           \n",
       "\n",
       "                                                                                                                                                                                                                                                                                                                                                                                                          document_sentences  \\\n",
       "0  [autoimmune diseases tend to come in clusters,  as for gilenya – if you feel good, don’t think about it, it won’t change anything but waste your time and energy,  i’m taking tysabri and feel amazing, no symptoms (other than dodgy color vision, but i’ve had it since always, so, don’t know) and i don’t know if it will last a month, a year, a decade, ive just decided to enjoy the ride, no point in worrying, ]   \n",
       "\n",
       "                                                                                                                                                                                                                                                                                                                                                                                           tokenized_sentences_1  \\\n",
       "0  [autoimmune diseases tend to come in clusters,  as for gilenya – if you feel good don’t think about it it won’t change anything but waste your time and energy,  i’m taking tysabri and feel amazing no symptoms other than dodgy color vision but i’ve had it since always so don’t know and i don’t know if it will last a month a year a decade ive just decided to enjoy the ride no point in worrying, ]   \n",
       "\n",
       "                                                                                                                                                                                                                                                                                                                                                                                                                                                                                                  tokenized_sentences_2  \\\n",
       "0  [[autoimmune, diseases, tend, to, come, in, clusters], [as, for, gilenya, –, if, you, feel, good, don, ’, t, think, about, it, it, won, ’, t, change, anything, but, waste, your, time, and, energy], [i, ’, m, taking, tysabri, and, feel, amazing, no, symptoms, other, than, dodgy, color, vision, but, i, ’, ve, had, it, since, always, so, don, ’, t, know, and, i, don, ’, t, know, if, it, will, last, a, month, a, year, a, decade, ive, just, decided, to, enjoy, the, ride, no, point, in, worrying], []]   \n",
       "\n",
       "                                                                                                                                                                                                                                                                                                                                                                                                                                                                             tokenized_sentences_3  \\\n",
       "0  [[autoimmune, diseases, tend, to, come, in, clusters], [as, for, gilenya, if, you, feel, good, don, t, think, about, it, it, won, t, change, anything, but, waste, your, time, and, energy], [i, m, taking, tysabri, and, feel, amazing, no, symptoms, other, than, dodgy, color, vision, but, i, ve, had, it, since, always, so, don, t, know, and, i, don, t, know, if, it, will, last, a, month, a, year, a, decade, ive, just, decided, to, enjoy, the, ride, no, point, in, worrying], []]   \n",
       "\n",
       "                                                                                                                                                                                                                                                                                                                                                                                                                                                                         tokenized_sentences_4  \\\n",
       "0  [[autoimmune, diseases, tend, to, come, in, clusters], [as, for, gilenya, if, you, feel, good, don, t, think, about, it, it, won, t, change, anything, but, waste, your, time, and, energy], [i, m, taking, tysabri, and, feel, amazing, no, symptoms, other, than, dodgy, color, vision, but, i, ve, had, it, since, always, so, don, t, know, and, i, don, t, know, if, it, will, last, a, month, a, year, a, decade, ive, just, decided, to, enjoy, the, ride, no, point, in, worrying]]   \n",
       "\n",
       "                                                                                                                                                                                                                                                                                                                                                                                        tokenized_text_1  \\\n",
       "0  autoimmune diseases tend to come in clusters as for gilenya – if you feel good don’t think about it it won’t change anything but waste your time and energy i’m taking tysabri and feel amazing no symptoms other than dodgy color vision but i’ve had it since always so don’t know and i don’t know if it will last a month a year a decade ive just decided to enjoy the ride no point in worrying   \n",
       "\n",
       "                                                                                                                                                                                                                                                                                                                                                                                                                                                                                             tokenized_text_2  \\\n",
       "0  [autoimmune, diseases, tend, to, come, in, clusters, as, for, gilenya, –, if, you, feel, good, don, ’, t, think, about, it, it, won, ’, t, change, anything, but, waste, your, time, and, energy, i, ’, m, taking, tysabri, and, feel, amazing, no, symptoms, other, than, dodgy, color, vision, but, i, ’, ve, had, it, since, always, so, don, ’, t, know, and, i, don, ’, t, know, if, it, will, last, a, month, a, year, a, decade, ive, just, decided, to, enjoy, the, ride, no, point, in, worrying]   \n",
       "\n",
       "                                                                                                                                                                                                                                                                                                                                                                                                                                                                        tokenized_text_3  \\\n",
       "0  [autoimmune, diseases, tend, to, come, in, clusters, as, for, gilenya, if, you, feel, good, don, t, think, about, it, it, won, t, change, anything, but, waste, your, time, and, energy, i, m, taking, tysabri, and, feel, amazing, no, symptoms, other, than, dodgy, color, vision, but, i, ve, had, it, since, always, so, don, t, know, and, i, don, t, know, if, it, will, last, a, month, a, year, a, decade, ive, just, decided, to, enjoy, the, ride, no, point, in, worrying]   \n",
       "\n",
       "                                                                                                                                                                                                                                                                                                                                                                                                                                                                          tokenized_text  \\\n",
       "0  [autoimmune, diseases, tend, to, come, in, clusters, as, for, gilenya, if, you, feel, good, don, t, think, about, it, it, won, t, change, anything, but, waste, your, time, and, energy, i, m, taking, tysabri, and, feel, amazing, no, symptoms, other, than, dodgy, color, vision, but, i, ve, had, it, since, always, so, don, t, know, and, i, don, t, know, if, it, will, last, a, month, a, year, a, decade, ive, just, decided, to, enjoy, the, ride, no, point, in, worrying]   \n",
       "\n",
       "                                                                                                                                                                                                                                                                   stopwords_removed  \\\n",
       "0  [autoimmune, diseases, tend, come, clusters, gilenya, feel, good, think, change, anything, waste, time, energy, taking, tysabri, feel, amazing, symptoms, dodgy, color, vision, since, always, know, know, last, month, year, decade, ive, decided, enjoy, ride, point, worrying]   \n",
       "\n",
       "                                                                                                                                                                                                                                                                  lemmatized_text  \\\n",
       "0  [autoimmune, disease, tend, come, cluster, gilenya, feel, good, think, change, anything, waste, time, energy, taking, tysabri, feel, amazing, symptom, dodgy, color, vision, since, always, know, know, last, month, year, decade, ive, decided, enjoy, ride, point, worrying]   \n",
       "\n",
       "                                                                                                                                                                                                                                                 stemmed_text  \\\n",
       "0  [autoimmun, diseas, tend, come, cluster, gilenya, feel, good, think, chang, anyth, wast, time, energi, take, tysabri, feel, amaz, symptom, dodgi, color, vision, sinc, alway, know, know, last, month, year, decad, ive, decid, enjoy, ride, point, worri]   \n",
       "\n",
       "                                                                                                                                                                                                                                                                                                        bow  \n",
       "0  [(0, 1), (1, 1), (2, 1), (3, 1), (4, 1), (5, 1), (6, 1), (7, 1), (8, 1), (9, 1), (10, 1), (11, 1), (12, 1), (13, 1), (14, 2), (15, 1), (16, 1), (17, 1), (18, 2), (19, 1), (20, 1), (21, 1), (22, 1), (23, 1), (24, 1), (25, 1), (26, 1), (27, 1), (28, 1), (29, 1), (30, 1), (31, 1), (32, 1), (33, 1)]  "
      ]
     },
     "execution_count": 411,
     "metadata": {},
     "output_type": "execute_result"
    }
   ],
   "source": [
    "data_train.head(1)"
   ]
  },
  {
   "cell_type": "code",
   "execution_count": 412,
   "metadata": {},
   "outputs": [
    {
     "name": "stdout",
     "output_type": "stream",
     "text": [
      "Number of sentences: 104093.\n",
      "Number of texts: 5279.\n"
     ]
    }
   ],
   "source": [
    "sentences = []\n",
    "for sentence_group in data_train.tokenized_sentences_4:\n",
    "    sentences.extend(sentence_group)\n",
    "\n",
    "print(\"Number of sentences: {}.\".format(len(sentences)))\n",
    "print(\"Number of texts: {}.\".format(len(data_train)))"
   ]
  },
  {
   "cell_type": "code",
   "execution_count": 413,
   "metadata": {},
   "outputs": [
    {
     "data": {
      "text/plain": [
       "['autoimmune', 'diseases', 'tend', 'to', 'come', 'in', 'clusters']"
      ]
     },
     "execution_count": 413,
     "metadata": {},
     "output_type": "execute_result"
    }
   ],
   "source": [
    "sentences[0]"
   ]
  },
  {
   "cell_type": "code",
   "execution_count": 414,
   "metadata": {},
   "outputs": [],
   "source": [
    "import multiprocessing"
   ]
  },
  {
   "cell_type": "code",
   "execution_count": 415,
   "metadata": {},
   "outputs": [
    {
     "data": {
      "text/plain": [
       "8"
      ]
     },
     "execution_count": 415,
     "metadata": {},
     "output_type": "execute_result"
    }
   ],
   "source": [
    "cores = multiprocessing.cpu_count() # Count the number of cores in a computer\n",
    "cores"
   ]
  },
  {
   "cell_type": "code",
   "execution_count": 416,
   "metadata": {},
   "outputs": [
    {
     "name": "stdout",
     "output_type": "stream",
     "text": [
      "Wall time: 29.5 s\n"
     ]
    }
   ],
   "source": [
    "%%time\n",
    "# Set values for various parameters\n",
    "num_features = 200    # Word vector dimensionality\n",
    "min_word_count = 3    # Minimum word count\n",
    "num_workers = 8       # Number of threads to run in parallel\n",
    "context = 6           # Context window size\n",
    "downsampling = 1e-3   # Downsample setting for frequent words\n",
    "\n",
    "# Initialize and train the model\n",
    "W2Vmodel = Word2Vec(sentences=sentences,\n",
    "                    sg=1,\n",
    "                    hs=0,\n",
    "                    workers=num_workers,\n",
    "                    size=num_features,\n",
    "                    min_count=min_word_count,\n",
    "                    window=context,\n",
    "                    sample=downsampling,\n",
    "                    negative=5,\n",
    "                    iter=6)"
   ]
  },
  {
   "cell_type": "code",
   "execution_count": 421,
   "metadata": {},
   "outputs": [
    {
     "name": "stdout",
     "output_type": "stream",
     "text": [
      "Time to train the model: 2.25 mins\n"
     ]
    }
   ],
   "source": [
    "t = time()\n",
    "\n",
    "W2Vmodel.train(sentences, total_examples=W2Vmodel.corpus_count, epochs=30, report_delay=1)\n",
    "\n",
    "print('Time to train the model: {} mins'.format(round((time() - t) / 60, 2)))"
   ]
  },
  {
   "cell_type": "code",
   "execution_count": 419,
   "metadata": {},
   "outputs": [
    {
     "name": "stdout",
     "output_type": "stream",
     "text": [
      "Time to build vocab: 0.02 mins\n"
     ]
    }
   ],
   "source": [
    "from time import time  # To time our operations\n",
    "\n",
    "w2v_model = Word2Vec(min_count=20,\n",
    "                     window=2,\n",
    "                     size=300,\n",
    "                     sample=6e-5, \n",
    "                     alpha=0.03, \n",
    "                     min_alpha=0.0007, \n",
    "                     negative=20,\n",
    "                     workers=cores-1)\n",
    "\n",
    "t = time()\n",
    "\n",
    "w2v_model.build_vocab(sentences, progress_per=10000)\n",
    "\n",
    "print('Time to build vocab: {} mins'.format(round((time() - t) / 60, 2)))"
   ]
  },
  {
   "cell_type": "code",
   "execution_count": 420,
   "metadata": {},
   "outputs": [
    {
     "name": "stdout",
     "output_type": "stream",
     "text": [
      "Time to train the model: 1.05 mins\n"
     ]
    }
   ],
   "source": [
    "t = time()\n",
    "\n",
    "w2v_model.train(sentences, total_examples=w2v_model.corpus_count, epochs=30, report_delay=1)\n",
    "\n",
    "print('Time to train the model: {} mins'.format(round((time() - t) / 60, 2)))"
   ]
  },
  {
   "cell_type": "code",
   "execution_count": 121,
   "metadata": {},
   "outputs": [],
   "source": [
    "# def get_w2v_features(w2v_model, sentence_group):\n",
    "#     \"\"\" Transform a sentence_group (containing multiple lists\n",
    "#     of words) into a feature vector. It averages out all the\n",
    "#     word vectors of the sentence_group.\n",
    "#     \"\"\"\n",
    "#     words = np.concatenate(sentence_group)  # words in text\n",
    "# ##    pp.pprint(words)\n",
    "#     index2word_set = set(w2v_model.wv.vocab.keys())  # words known to model\n",
    "\n",
    "#     featureVec = np.zeros(w2v_model.vector_size, dtype=\"float32\")\n",
    "# ##    pp.pprint(featureVec)\n",
    "    \n",
    "#     # Initialize a counter for number of words in a review\n",
    "#     nwords = 0\n",
    "#     # Loop over each word in the comment and, if it is in the model's vocabulary, add its feature vector to the total\n",
    "#     for word in words:\n",
    "#         if word in index2word_set: \n",
    "#             featureVec = np.add(featureVec, w2v_model[word])\n",
    "#             nwords += 1.\n",
    "\n",
    "#     # Divide the result by the number of words to get the average\n",
    "#     if nwords > 0:\n",
    "#         featureVec = np.divide(featureVec, nwords)\n",
    "#     return featureVec"
   ]
  },
  {
   "cell_type": "code",
   "execution_count": 122,
   "metadata": {
    "scrolled": true
   },
   "outputs": [
    {
     "name": "stderr",
     "output_type": "stream",
     "text": [
      "C:\\Users\\tshrs\\Anaconda3\\lib\\site-packages\\ipykernel_launcher.py:18: DeprecationWarning: Call to deprecated `__getitem__` (Method will be removed in 4.0.0, use self.wv.__getitem__() instead).\n"
     ]
    }
   ],
   "source": [
    "# data_train['w2v_features'] = list(map(lambda sen_group:\n",
    "#                                       get_w2v_features(W2Vmodel, sen_group),\n",
    "#                                       data_train.tokenized_sentences))"
   ]
  },
  {
   "cell_type": "code",
   "execution_count": 424,
   "metadata": {
    "scrolled": true
   },
   "outputs": [
    {
     "name": "stdout",
     "output_type": "stream",
     "text": [
      "Word2Vec(vocab=18605, size=200, alpha=0.025)\n",
      "Word2Vec(vocab=5810, size=300, alpha=0.03)\n"
     ]
    }
   ],
   "source": [
    "print(W2Vmodel)\n",
    "print(w2v_model)"
   ]
  },
  {
   "cell_type": "code",
   "execution_count": 427,
   "metadata": {},
   "outputs": [
    {
     "name": "stderr",
     "output_type": "stream",
     "text": [
      "C:\\Users\\tshrs\\Anaconda3\\lib\\site-packages\\ipykernel_launcher.py:1: DeprecationWarning: Call to deprecated `__getitem__` (Method will be removed in 4.0.0, use self.wv.__getitem__() instead).\n",
      "  \"\"\"Entry point for launching an IPython kernel.\n"
     ]
    },
    {
     "name": "stdout",
     "output_type": "stream",
     "text": [
      "[ 3.27987261e-02 -5.90056218e-02 -1.00976296e-01 -2.87708789e-01\n",
      " -3.48088443e-01  3.43115121e-01  5.66628039e-01  5.78726113e-01\n",
      "  2.81954944e-01 -9.08807367e-02  2.26061866e-01 -2.29584664e-01\n",
      "  5.53943440e-02  3.58903825e-01 -2.17223898e-01  3.95204514e-01\n",
      " -1.08128794e-01 -3.91476244e-01  2.65951633e-01 -4.66099605e-02\n",
      "  2.01811180e-01  5.72658964e-02  2.24430248e-01  3.89516026e-01\n",
      " -5.42224348e-01 -8.24146047e-02  5.91485620e-01  2.37057377e-02\n",
      "  6.91059530e-01  3.21647711e-02 -1.34889064e-02 -1.11358561e-01\n",
      " -6.93995535e-01  7.27386102e-02  6.53120816e-01 -3.82341802e-01\n",
      "  3.54524165e-01  1.72922999e-01  3.43934178e-01  6.93669319e-01\n",
      "  4.80527431e-01  1.00247502e-01  4.73590940e-01 -2.60077387e-01\n",
      "  3.81090641e-01  5.28929114e-01 -1.13706626e-02 -3.02822411e-01\n",
      " -2.14347288e-01  4.45489347e-01 -3.94721746e-01  7.77806401e-01\n",
      "  1.54626429e-01 -3.59633237e-01  4.95427400e-01  2.93702900e-01\n",
      " -1.49744734e-01 -9.21933204e-02  6.75319970e-01  2.97550619e-01\n",
      "  1.03560835e-01  6.61256313e-01  2.20107719e-01 -3.21544021e-01\n",
      "  2.66427994e-01  8.32775906e-02 -3.38779449e-01  1.67949378e-01\n",
      "  3.53464872e-01  2.82518379e-03  2.89739639e-01 -4.26021405e-02\n",
      " -2.59186365e-02 -2.70862728e-01 -3.66248488e-01  2.80143231e-01\n",
      "  8.77146244e-01 -2.22548813e-01 -5.18781185e-01 -2.49565929e-01\n",
      " -6.49613857e-01  2.32334379e-02  3.07182521e-02  2.94126779e-01\n",
      "  3.97466501e-05 -3.80231827e-01  1.89251617e-01 -4.65624154e-01\n",
      "  4.16227728e-02  7.07541108e-01 -2.81950265e-01  6.96910143e-01\n",
      " -3.62201154e-01 -4.06535007e-02  7.99289525e-01 -4.81557608e-01\n",
      "  4.15571839e-01  2.76358843e-01  1.33460999e-01 -1.39923751e-01\n",
      "  1.93019390e-01 -6.33798718e-01  3.01605575e-02  6.19674399e-02\n",
      " -4.58661139e-01 -6.03817523e-01  4.43528682e-01 -2.09586639e-02\n",
      "  7.72913918e-02 -2.97088563e-01 -1.55508402e-03  1.59478605e-01\n",
      "  9.64462981e-02  1.79043293e-01  1.70044392e-01  1.40039489e-01\n",
      "  1.68556631e-01 -2.25273520e-01 -8.42610359e-01  2.28573710e-01\n",
      " -3.45637172e-01  2.87488908e-01 -3.73753190e-01  1.86068952e-01\n",
      "  2.00488642e-01  1.26457110e-01 -6.10140204e-01 -2.19903111e-01\n",
      "  1.76815987e-01 -7.73011595e-02  5.79089046e-01  3.02270092e-02\n",
      "  1.79856583e-01  6.68351650e-01  1.43406644e-01  6.20187595e-02\n",
      " -1.24818563e-01  1.88437089e-01 -3.02740127e-01 -1.99681774e-01\n",
      " -8.61695230e-01 -6.22455120e-01  7.10721076e-01 -3.77789699e-02\n",
      " -2.13309750e-01 -3.15139145e-01  3.29491109e-01 -3.35976750e-01\n",
      "  1.47292778e-01  2.24447370e-01 -5.03966868e-01 -6.39963150e-01\n",
      "  1.31127760e-01  3.19043398e-01 -1.31590188e-01 -5.27159154e-01\n",
      " -4.83393162e-01  1.05985999e-01 -7.03356862e-02 -2.67848223e-01\n",
      "  1.61974542e-02 -9.19689313e-02 -1.73384830e-01  3.12166139e-02\n",
      " -9.26942348e-01 -2.58397698e-01  9.34158415e-02 -6.77670091e-02\n",
      "  2.48599470e-01  3.83380234e-01  2.95007497e-01  1.33325100e-01\n",
      " -7.68666565e-02 -9.15624261e-01 -8.65368322e-02 -3.38245511e-01\n",
      " -4.30429220e-01 -7.05476522e-01  1.21269152e-01  3.53661507e-01\n",
      " -3.09929490e-01 -3.38902473e-01 -4.68856215e-01  1.04120329e-01\n",
      " -3.66460860e-01  1.12332761e-01 -3.61932209e-03  3.17683332e-02\n",
      " -8.78405035e-01  2.76881933e-01  2.17371397e-02 -3.24277550e-01\n",
      " -5.51305115e-01  6.07921660e-01 -2.30374932e-01  1.76117986e-01\n",
      "  1.38471782e-01  6.56361356e-02 -1.15859203e-01 -5.93075231e-02\n",
      " -6.65856719e-01  5.88710569e-02  2.76206940e-01 -1.23659223e-02\n",
      "  8.39376748e-01 -3.87575358e-01  4.58928794e-01  9.04323831e-02\n",
      " -4.96031232e-02  1.35074824e-01 -1.06991976e-01 -5.44732392e-01\n",
      "  2.57204205e-01 -1.55429885e-01  3.16786885e-01 -7.72187889e-01\n",
      " -2.33628713e-02  9.98308718e-01 -3.32552046e-02 -3.08094203e-01\n",
      " -4.90776226e-02 -3.43831211e-01 -6.35896742e-01  4.34961379e-01\n",
      "  1.62283868e-01  2.89206356e-01  3.84889394e-02  2.51565099e-01\n",
      "  1.41775370e-01  3.27496171e-01 -4.91035819e-01  7.95974195e-01\n",
      "  2.42976606e-01  4.57128763e-01 -8.61226246e-02  9.16231647e-02\n",
      "  5.70445836e-01  2.00943097e-01 -2.01282576e-02  7.77952790e-01\n",
      "  8.03747252e-02 -2.72185862e-01  1.24526054e-01 -5.10916412e-02\n",
      "  1.72501400e-01 -2.14731902e-01 -1.65061936e-01 -1.23359918e-04\n",
      "  3.44168514e-01  3.56785238e-01  1.61851689e-01  3.25337619e-01\n",
      "  7.09364772e-01  6.15807533e-01 -3.71074006e-02 -1.92544028e-01\n",
      "  2.30176032e-01 -1.87938377e-01  2.98171401e-01  3.72740656e-01\n",
      "  1.49412960e-01  7.78999999e-02  4.83260229e-02  1.38204455e-01\n",
      " -3.22945118e-01 -1.10969558e-01 -1.61019176e-01  1.34559110e-01\n",
      " -1.28383234e-01  1.86947107e-01 -2.12798461e-01  4.74420547e-01\n",
      "  2.97397137e-01  7.24620342e-01 -7.74312988e-02  4.98824358e-01\n",
      "  2.56842971e-01 -1.91929385e-01  4.15078253e-01  2.53298283e-01\n",
      "  1.30426809e-01 -1.39912711e-02  2.89440870e-01  3.03295106e-01\n",
      "  1.71148717e-01 -2.00041443e-01 -3.35306793e-01  1.43073082e-01\n",
      " -5.82690716e-01  2.59931255e-02  1.50017902e-01  5.52529037e-01\n",
      "  2.18404084e-01  2.83014715e-01 -4.49386090e-02 -2.91087776e-01\n",
      " -7.17086196e-02  4.96113673e-02 -3.09286416e-01  2.92289436e-01]\n"
     ]
    }
   ],
   "source": [
    "print(w2v_model['sentence'])"
   ]
  },
  {
   "cell_type": "code",
   "execution_count": 124,
   "metadata": {},
   "outputs": [
    {
     "data": {
      "text/html": [
       "<div>\n",
       "<style scoped>\n",
       "    .dataframe tbody tr th:only-of-type {\n",
       "        vertical-align: middle;\n",
       "    }\n",
       "\n",
       "    .dataframe tbody tr th {\n",
       "        vertical-align: top;\n",
       "    }\n",
       "\n",
       "    .dataframe thead th {\n",
       "        text-align: right;\n",
       "    }\n",
       "</style>\n",
       "<table border=\"1\" class=\"dataframe\">\n",
       "  <thead>\n",
       "    <tr style=\"text-align: right;\">\n",
       "      <th></th>\n",
       "      <th>Description</th>\n",
       "      <th>Category</th>\n",
       "      <th>document_sentences</th>\n",
       "      <th>tokenized_sentences</th>\n",
       "      <th>tokenized_Description</th>\n",
       "      <th>stopwords_removed</th>\n",
       "      <th>lemmatized_text</th>\n",
       "      <th>stemmed_text</th>\n",
       "      <th>bow</th>\n",
       "      <th>w2v_features</th>\n",
       "    </tr>\n",
       "  </thead>\n",
       "  <tbody>\n",
       "    <tr>\n",
       "      <th>0</th>\n",
       "      <td>hi since recruiter lead permission approve requisitions makes please make thanks recruiter</td>\n",
       "      <td>Application</td>\n",
       "      <td>[hi since recruiter lead permission approve requisitions makes please make thanks recruiter]</td>\n",
       "      <td>[[hi, since, recruiter, lead, permission, approve, requisitions, makes, please, make, thanks, recruiter]]</td>\n",
       "      <td>[hi, since, recruiter, lead, permission, approve, requisitions, makes, please, make, thanks, recruiter]</td>\n",
       "      <td>[hi, since, recruiter, lead, permission, approve, requisitions, makes, please, make, thanks, recruiter]</td>\n",
       "      <td>[hi, since, recruiter, lead, permission, approve, requisition, make, please, make, thanks, recruiter]</td>\n",
       "      <td>[hi, sinc, recruit, lead, permiss, approv, requisit, make, pleas, make, thank, recruit]</td>\n",
       "      <td>[(0, 1), (1, 1), (2, 2), (3, 1), (4, 2), (5, 1), (6, 1)]</td>\n",
       "      <td>[-0.049193297, 0.07716945, 0.03272421, 0.0905764, 0.019792097, -0.027274491, -0.2760166, -0.23707066, 0.120455146, -0.14875275, -0.13555919, -0.091961056, -0.11135577, 0.11129276, 0.0040208115, 0.0016705327, -0.10548664, 0.0035920765, 0.13804756, 0.10646893, -0.10302659, 0.13013068, -0.10589704, -0.17034885, 0.13408923, -0.10501911, -0.043462753, -0.17800198, 0.082207054, -0.16345416, -0.15455988, 0.07563162, -0.090790555, 0.0116787935, -0.14930367, -0.2455617, -0.08238585, 0.008946437, -0.0009512001, 0.03211318, -0.14393009, -0.06298098, 0.13294715, -0.01280853, -0.1258228, 0.14260183, 0.30207336, 0.08886032, 0.041876864, -0.06400908, -0.07298967, -0.02003233, -0.1693838, -0.10724065, -0.19661444, 0.07935475, -0.03824334, -0.042404767, 0.3109802, 0.042200755, 0.07757009, -0.108789995, -0.106750555, 0.018927947, 0.1338944, -0.29993087, -0.23223016, 0.06818033, -0.00014699892, 0.11411599, 0.094527155, -0.2029444, -0.07776218, -0.15630442, 0.09085761, 0.016399764, 0.17523718, 0.065166265, 0.22774985, 0.103593335, 0.028143747, 0.22901052, 0.01510819, 0.046818417, 0.09128241, -0.14765586, -0.074798435, -0.21635903, -0.079151966, 0.10669276, 0.08995717, -0.014177246, -0.07525573, -0.15751228, -0.04224407, -0.15208885, 0.00744211, -0.031646047, 0.088527344, -0.050571747, ...]</td>\n",
       "    </tr>\n",
       "  </tbody>\n",
       "</table>\n",
       "</div>"
      ],
      "text/plain": [
       "                                                                                  Description  \\\n",
       "0  hi since recruiter lead permission approve requisitions makes please make thanks recruiter   \n",
       "\n",
       "      Category  \\\n",
       "0  Application   \n",
       "\n",
       "                                                                             document_sentences  \\\n",
       "0  [hi since recruiter lead permission approve requisitions makes please make thanks recruiter]   \n",
       "\n",
       "                                                                                         tokenized_sentences  \\\n",
       "0  [[hi, since, recruiter, lead, permission, approve, requisitions, makes, please, make, thanks, recruiter]]   \n",
       "\n",
       "                                                                                     tokenized_Description  \\\n",
       "0  [hi, since, recruiter, lead, permission, approve, requisitions, makes, please, make, thanks, recruiter]   \n",
       "\n",
       "                                                                                         stopwords_removed  \\\n",
       "0  [hi, since, recruiter, lead, permission, approve, requisitions, makes, please, make, thanks, recruiter]   \n",
       "\n",
       "                                                                                         lemmatized_text  \\\n",
       "0  [hi, since, recruiter, lead, permission, approve, requisition, make, please, make, thanks, recruiter]   \n",
       "\n",
       "                                                                              stemmed_text  \\\n",
       "0  [hi, sinc, recruit, lead, permiss, approv, requisit, make, pleas, make, thank, recruit]   \n",
       "\n",
       "                                                        bow  \\\n",
       "0  [(0, 1), (1, 1), (2, 2), (3, 1), (4, 2), (5, 1), (6, 1)]   \n",
       "\n",
       "                                                                                                                                                                                                                                                                                                                                                                                                                                                                                                                                                                                                                                                                                                                                                                                                                                                                                                                                                                                                                                                                                                                                                                                                                                                                                                                                 w2v_features  \n",
       "0  [-0.049193297, 0.07716945, 0.03272421, 0.0905764, 0.019792097, -0.027274491, -0.2760166, -0.23707066, 0.120455146, -0.14875275, -0.13555919, -0.091961056, -0.11135577, 0.11129276, 0.0040208115, 0.0016705327, -0.10548664, 0.0035920765, 0.13804756, 0.10646893, -0.10302659, 0.13013068, -0.10589704, -0.17034885, 0.13408923, -0.10501911, -0.043462753, -0.17800198, 0.082207054, -0.16345416, -0.15455988, 0.07563162, -0.090790555, 0.0116787935, -0.14930367, -0.2455617, -0.08238585, 0.008946437, -0.0009512001, 0.03211318, -0.14393009, -0.06298098, 0.13294715, -0.01280853, -0.1258228, 0.14260183, 0.30207336, 0.08886032, 0.041876864, -0.06400908, -0.07298967, -0.02003233, -0.1693838, -0.10724065, -0.19661444, 0.07935475, -0.03824334, -0.042404767, 0.3109802, 0.042200755, 0.07757009, -0.108789995, -0.106750555, 0.018927947, 0.1338944, -0.29993087, -0.23223016, 0.06818033, -0.00014699892, 0.11411599, 0.094527155, -0.2029444, -0.07776218, -0.15630442, 0.09085761, 0.016399764, 0.17523718, 0.065166265, 0.22774985, 0.103593335, 0.028143747, 0.22901052, 0.01510819, 0.046818417, 0.09128241, -0.14765586, -0.074798435, -0.21635903, -0.079151966, 0.10669276, 0.08995717, -0.014177246, -0.07525573, -0.15751228, -0.04224407, -0.15208885, 0.00744211, -0.031646047, 0.088527344, -0.050571747, ...]  "
      ]
     },
     "execution_count": 124,
     "metadata": {},
     "output_type": "execute_result"
    }
   ],
   "source": [
    "data_train.head(1)"
   ]
  },
  {
   "cell_type": "markdown",
   "metadata": {},
   "source": [
    "# Classification and hyperparameter tuning"
   ]
  },
  {
   "cell_type": "code",
   "execution_count": 125,
   "metadata": {},
   "outputs": [],
   "source": [
    "label_encoder = LabelEncoder()\n",
    "\n",
    "label_encoder.fit(data_train.drug)\n",
    "data_train['drug_id'] = label_encoder.transform(data_train.drug)"
   ]
  },
  {
   "cell_type": "code",
   "execution_count": 128,
   "metadata": {},
   "outputs": [
    {
     "data": {
      "text/plain": [
       "3    600\n",
       "1    600\n",
       "4    600\n",
       "2    600\n",
       "0    600\n",
       "Name: Category_id, dtype: int64"
      ]
     },
     "execution_count": 128,
     "metadata": {},
     "output_type": "execute_result"
    }
   ],
   "source": [
    "data_train.drug_id.value_counts()"
   ]
  },
  {
   "cell_type": "code",
   "execution_count": 129,
   "metadata": {},
   "outputs": [],
   "source": [
    "X_train_w2v = np.array(list(map(np.array, data_train.w2v_features)))"
   ]
  },
  {
   "cell_type": "code",
   "execution_count": 130,
   "metadata": {},
   "outputs": [
    {
     "data": {
      "text/plain": [
       "array([[-0.0491933 ,  0.07716945,  0.03272421, ..., -0.00802489,\n",
       "        -0.07836328,  0.01080266],\n",
       "       [-0.19327049,  0.00684487, -0.00676499, ...,  0.09155223,\n",
       "        -0.05233116,  0.03014123],\n",
       "       [ 0.006495  , -0.00133446, -0.02182627, ..., -0.02518519,\n",
       "        -0.01496637, -0.02039207],\n",
       "       ...,\n",
       "       [-0.12074519,  0.04811641,  0.00407194, ...,  0.00163907,\n",
       "         0.02981647,  0.09988613],\n",
       "       [-0.02279883,  0.07715113,  0.01283739, ..., -0.03830047,\n",
       "         0.04837703,  0.04326442],\n",
       "       [-0.03729792,  0.10681712,  0.01400837, ..., -0.04187165,\n",
       "        -0.01140416,  0.08820227]], dtype=float32)"
      ]
     },
     "execution_count": 130,
     "metadata": {},
     "output_type": "execute_result"
    }
   ],
   "source": [
    "X_train_w2v"
   ]
  },
  {
   "cell_type": "markdown",
   "metadata": {},
   "source": [
    "# Logistic Regression"
   ]
  },
  {
   "cell_type": "code",
   "execution_count": 131,
   "metadata": {},
   "outputs": [],
   "source": [
    "from sklearn.linear_model import LogisticRegression"
   ]
  },
  {
   "cell_type": "code",
   "execution_count": 135,
   "metadata": {},
   "outputs": [],
   "source": [
    "clf = LogisticRegression(random_state=0, solver='lbfgs', penalty='l2' , \n",
    "                         multi_class='multinomial')"
   ]
  },
  {
   "cell_type": "code",
   "execution_count": 136,
   "metadata": {},
   "outputs": [
    {
     "data": {
      "text/plain": [
       "LogisticRegression(C=1.0, class_weight=None, dual=False, fit_intercept=True,\n",
       "          intercept_scaling=1, max_iter=100, multi_class='multinomial',\n",
       "          n_jobs=1, penalty='l2', random_state=0, solver='lbfgs',\n",
       "          tol=0.0001, verbose=0, warm_start=False)"
      ]
     },
     "execution_count": 136,
     "metadata": {},
     "output_type": "execute_result"
    }
   ],
   "source": [
    "clf.fit(X_train_w2v, data_train.drug_id)"
   ]
  },
  {
   "cell_type": "code",
   "execution_count": null,
   "metadata": {},
   "outputs": [],
   "source": []
  }
 ],
 "metadata": {
  "kernelspec": {
   "display_name": "Python 3",
   "language": "python",
   "name": "python3"
  },
  "language_info": {
   "codemirror_mode": {
    "name": "ipython",
    "version": 3
   },
   "file_extension": ".py",
   "mimetype": "text/x-python",
   "name": "python",
   "nbconvert_exporter": "python",
   "pygments_lexer": "ipython3",
   "version": "3.6.8"
  }
 },
 "nbformat": 4,
 "nbformat_minor": 2
}
