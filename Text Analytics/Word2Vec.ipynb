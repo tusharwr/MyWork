{
 "cells": [
  {
   "cell_type": "markdown",
   "metadata": {},
   "source": [
    "# Word2Vec"
   ]
  },
  {
   "cell_type": "markdown",
   "metadata": {},
   "source": [
    "- https://gist.github.com/aparrish/2f562e3737544cf29aaf1af30362f469\n",
    "- https://youtu.be/pY9EwZ02sXU\n",
    "- https://www.youtube.com/watch?v=pY9EwZ02sXU\n",
    "- https://www.analyticsvidhya.com/blog/2017/06/word-embeddings-count-word2veec/\n",
    "- https://rare-technologies.com/word2vec-tutorial/ - *good one by owner of Word2Vec*  \n",
    "- https://www.kaggle.com/pierremegret/gensim-word2vec-tutorial  - *very good*  \n",
    "- https://www.guru99.com/word-embedding-word2vec.html  *detailed explanation*\n"
   ]
  },
  {
   "cell_type": "code",
   "execution_count": 3,
   "metadata": {},
   "outputs": [
    {
     "name": "stderr",
     "output_type": "stream",
     "text": [
      "C:\\Users\\tshrs\\Anaconda3\\lib\\site-packages\\gensim\\utils.py:1197: UserWarning: detected Windows; aliasing chunkize to chunkize_serial\n",
      "  warnings.warn(\"detected Windows; aliasing chunkize to chunkize_serial\")\n"
     ]
    }
   ],
   "source": [
    "# import modules & set up logging\n",
    "import gensim, logging"
   ]
  },
  {
   "cell_type": "code",
   "execution_count": 4,
   "metadata": {},
   "outputs": [],
   "source": [
    "#logging.basicConfig(format='%(asctime)s : %(levelname)s : %(message)s', level=logging.INFO)"
   ]
  },
  {
   "cell_type": "code",
   "execution_count": null,
   "metadata": {},
   "outputs": [],
   "source": [
    "#list of libraries used by the code\n",
    "import string\n",
    "from gensim.models import Word2Vec\n",
    "import logging\n",
    "from nltk.corpus import stopwords\n",
    "from textblob import Word\n",
    "import json\n",
    "import pandas as pd\n",
    "#data in json format\n",
    "json_file = 'intents.json'\n",
    "with open('intents.json','r') as f:\n",
    "    data = json.load(f)\n",
    "#displaying the list of stopwords\n",
    "stop = stopwords.words('english')\n",
    "#dataframe\n",
    "df = pd.DataFrame(data)\n",
    "\n",
    "df['patterns'] = df['patterns'].apply(', '.join)\n",
    "# print(df['patterns'])\n",
    "#print(df['patterns'])\n",
    "#cleaning the data using the NLP approach\n",
    "print(df)\n",
    "df['patterns'] = df['patterns'].apply(lambda x:' '.join(x.lower() for x in x.split()))\n",
    "df['patterns']= df['patterns'].apply(lambda x: ' '.join(x for x in x.split() if x not in string.punctuation))\n",
    "df['patterns']= df['patterns'].str.replace('[^\\w\\s]','')\n",
    "df['patterns']= df['patterns'].apply(lambda x: ' '.join(x for x in x.split() if  not x.isdigit()))\n",
    "df['patterns'] = df['patterns'].apply(lambda x:' '.join(x for x in x.split() if not x in stop))\n",
    "df['patterns'] = df['patterns'].apply(lambda x: \" \".join([Word(word).lemmatize() for word in x.split()]))\n",
    "#taking the outer list\n",
    "bigger_list=[]\n",
    "for i in df['patterns']:\n",
    "    li = list(i.split(\" \"))\n",
    "    bigger_list.append(li)\n",
    "#structure of data to be taken by the model.word2vec\n",
    "print(\"Data format for the overall list:\",bigger_list)\n",
    "#custom data is fed to machine for further processing\n",
    "model = Word2Vec(bigger_list, min_count=1,size=300,workers=4)\n",
    "#print(model)"
   ]
  }
 ],
 "metadata": {
  "kernelspec": {
   "display_name": "Python 3",
   "language": "python",
   "name": "python3"
  },
  "language_info": {
   "codemirror_mode": {
    "name": "ipython",
    "version": 3
   },
   "file_extension": ".py",
   "mimetype": "text/x-python",
   "name": "python",
   "nbconvert_exporter": "python",
   "pygments_lexer": "ipython3",
   "version": "3.6.8"
  }
 },
 "nbformat": 4,
 "nbformat_minor": 2
}
