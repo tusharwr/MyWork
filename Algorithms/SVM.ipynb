{
 "cells": [
  {
   "cell_type": "markdown",
   "metadata": {},
   "source": [
    "# Support Vector Machines"
   ]
  },
  {
   "cell_type": "markdown",
   "metadata": {},
   "source": [
    "Best tutorial Udactity  \n",
    "- https://classroom.udacity.com/courses/ud120/lessons/2252188570/concepts/24132685580923"
   ]
  },
  {
   "cell_type": "code",
   "execution_count": 17,
   "metadata": {},
   "outputs": [],
   "source": [
    "import numpy as np\n",
    "from sklearn.svm import SVC\n",
    "from sklearn.metrics import accuracy_score"
   ]
  },
  {
   "cell_type": "code",
   "execution_count": 18,
   "metadata": {},
   "outputs": [
    {
     "data": {
      "text/plain": [
       "SVC(C=1.0, cache_size=200, class_weight=None, coef0=0.0,\n",
       "  decision_function_shape='ovr', degree=3, gamma='auto', kernel='rbf',\n",
       "  max_iter=-1, probability=False, random_state=None, shrinking=True,\n",
       "  tol=0.001, verbose=False)"
      ]
     },
     "execution_count": 18,
     "metadata": {},
     "output_type": "execute_result"
    }
   ],
   "source": [
    "\n",
    "X = np.array([[-1, -1], [-2, -1], [1, 1], [2, 1]])\n",
    "y = np.array([1, 1, 2, 2])\n",
    "\n",
    "clf = SVC(gamma='auto')\n",
    "clf.fit(X, y) "
   ]
  },
  {
   "cell_type": "code",
   "execution_count": 19,
   "metadata": {},
   "outputs": [],
   "source": [
    "pred = clf.predict([[-0.8, -1] ,[-0.8, -3]])"
   ]
  },
  {
   "cell_type": "code",
   "execution_count": 20,
   "metadata": {},
   "outputs": [
    {
     "data": {
      "text/plain": [
       "array([1, 1])"
      ]
     },
     "execution_count": 20,
     "metadata": {},
     "output_type": "execute_result"
    }
   ],
   "source": [
    "pred"
   ]
  },
  {
   "cell_type": "code",
   "execution_count": 31,
   "metadata": {},
   "outputs": [
    {
     "name": "stdout",
     "output_type": "stream",
     "text": [
      "0.5\n"
     ]
    }
   ],
   "source": [
    "accuracy = accuracy_score([-1,1], pred)\n",
    "print(accuracy)"
   ]
  },
  {
   "cell_type": "code",
   "execution_count": null,
   "metadata": {},
   "outputs": [],
   "source": [
    "#!/usr/bin/python\n",
    "\n",
    "\"\"\" \n",
    "    This is the code to accompany the Lesson 2 (SVM) mini-project.\n",
    "\n",
    "    Use a SVM to identify emails from the Enron corpus by their authors:    \n",
    "    Sara has label 0\n",
    "    Chris has label 1\n",
    "\"\"\"\n",
    "    \n",
    "import sys\n",
    "from time import time\n",
    "sys.path.append(\"../tools/\")\n",
    "from email_preprocess import preprocess\n",
    "\n",
    "\n",
    "\n",
    "### features_train and features_test are the features for the training\n",
    "### and testing datasets, respectively\n",
    "### labels_train and labels_test are the corresponding item labels\n",
    "features_train, features_test, labels_train, labels_test = preprocess()\n",
    "\n",
    "\n",
    "#########################################################\n",
    "### your code goes here ###\n",
    "from sklearn import svm\n",
    "from sklearn.metrics import accuracy_score\n",
    "\n",
    "t0 = time()\n",
    "clf = svm.SVC(kernel = 'rbf' , C=10000)\n",
    "\"\"\"\n",
    "print len(features_train)\n",
    "print len(labels_train)\n",
    "print \"after\"\n",
    "\"\"\"\n",
    "#features_train = features_train[:len(features_train)/100] \n",
    "#labels_train = labels_train[:len(labels_train)/100] \n",
    "\n",
    "chris = 0\n",
    "\"\"\"\n",
    "###print len(features_train)\n",
    "###print len(labels_train)\n",
    "\"\"\"\n",
    "clf.fit(features_train, labels_train)\n",
    "print \"training time:\", round(time()-t0, 3), \"s\"\n",
    "\n",
    "t1 = time()\n",
    "pred = clf.predict(features_test)\n",
    "print \"testing time:\", round(time()-t1, 3), \"s\"\n",
    "\n",
    "for y in pred:\n",
    "\tif y == 1:\n",
    "\t\tchris = chris + 1\n",
    "\n",
    "print chris\n",
    "#accuracy = accuracy_score(labels_test, pred)\n",
    "#print accuracy\n",
    "\n",
    "#print pred[10]\n",
    "#print pred[26]\n",
    "#print pred[50]\n",
    "#########################################################\n",
    "\n",
    "\n"
   ]
  },
  {
   "cell_type": "markdown",
   "metadata": {},
   "source": [
    "kernel=linear\n",
    "--------------\n",
    "no. of Chris training emails: 7936\n",
    "no. of Sara training emails: 7884\n",
    "training time: 194.42 s\n",
    "testing time: 20.331 s\n",
    "0.984072810011\n",
    "\n",
    "\n",
    "clf = svm.SVC(kernel = 'linear', C = 1000) higher the C, more overfitting\n",
    "------------------------------------------\n",
    "no. of Chris training emails: 7936\n",
    "no. of Sara training emails: 7884\n",
    "training time: 107.262 s\n",
    "testing time: 9.382 s\n",
    "0.994880546075\n",
    "\n",
    "\n",
    "clf = svm.SVC(kernel = 'rbf', C = 1000, gamma = 'auto') higher the gamma, more overfitting\n",
    "-------------------------------------------------------\n",
    "no. of Chris training emails: 7936\n",
    "no. of Sara training emails: 7884\n",
    "training time: 240.676 s\n",
    "testing time: 25.873 s\n",
    "0.982935153584\n",
    "\n",
    "\n",
    "clf = svm.SVC(kernel = 'rbf')\n",
    "-----------------------------\n",
    "training time: 1224.172 s\n",
    "testing time: 198.558 s\n",
    "0.492036405006\n",
    "\n",
    "clf = svm.SVC(kernel = 'rbf' , C=100)\n",
    "--------------------------------------\n",
    "training time: 587.439 s\n",
    "testing time: 75.018 s\n",
    "0.955062571104\n",
    "\n",
    "clf = svm.SVC(kernel = 'rbf' , C=1000)\n",
    "--------------------------------------\n",
    "training time: 240.98 s\n",
    "testing time: 24.999 s\n",
    "0.982935153584\n",
    "\n",
    "clf = svm.SVC(kernel = 'rbf' , C=10000)\n",
    "--------------------------------------\n",
    "training time: 132.915 s\n",
    "testing time: 13.138 s\n",
    "0.990898748578"
   ]
  },
  {
   "cell_type": "code",
   "execution_count": null,
   "metadata": {},
   "outputs": [],
   "source": []
  }
 ],
 "metadata": {
  "kernelspec": {
   "display_name": "Python 3",
   "language": "python",
   "name": "python3"
  },
  "language_info": {
   "codemirror_mode": {
    "name": "ipython",
    "version": 3
   },
   "file_extension": ".py",
   "mimetype": "text/x-python",
   "name": "python",
   "nbconvert_exporter": "python",
   "pygments_lexer": "ipython3",
   "version": "3.6.8"
  }
 },
 "nbformat": 4,
 "nbformat_minor": 2
}
