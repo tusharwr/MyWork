{
 "cells": [
  {
   "cell_type": "markdown",
   "metadata": {},
   "source": [
    "# Background\t\t\t\t\t\t\t\t\t\t\t\t\t\t\t\t\t\t\t\n",
    "\n",
    "- 1\tThe adjacent 3 tabs contain a data dump of search strings used by EXP clients to access relevant content available on Gartner.com for the months of August, September and October in the year 2018. Every row mentions if the EXP client is \"Premium\" or not, Persona (that was used for data extraction for EXP clients from main database), day on which the search string was used and finally the search string. In total there are 68544 rows of data available across all the months.\t\t\t\t\t\t\t\t\t\t\t\t\t\t\t\t\t\t\n",
    "## Task 1\t\t\t\t\t\t\t\t\t\t\t\t\t\t\t\t\t\t\t\n",
    "\n",
    "- 2\tClean the dataset using standard text cleaning steps and process the data to allow for the following analysis.\t\t\t\t\t\t\t\t\t\t\t\t\t\t\t\t\t\t\n",
    "- 3\tIdentify the most popular topics being searched for by EXP clients and plot the top 10 topics by their frequency of occurrence.\t\t\t\t\t\t\t\t\t\t\t\t\t\t\t\t\t\t\n",
    "\n",
    "- 4\tReport on the volume growth of these topics over August, September and October.\t\t\t\t\t\t\t\t\t\t\t\t\t\t\t\t\t\t\n",
    "## Task 2\t\t\t\t\t\t\t\t\t\t\t\t\t\t\t\t\t\t\t\n",
    "\n",
    "- 5\tUsed the cleaned dataset from Step 2 and process your dataset for the following analysis. \t\t\t\t\t\t\t\t\t\t\t\t\t\t\t\t\t\t\n",
    "- 6\tUse the concept of Named Entity Recognition in your code to identify a list of geographies and organizations being mentioned in the search terms.\t\t\t\t\t\t\t\t\t\t\t\t\t\t\t\t\t\t\n",
    "\n",
    "- 7\tPlot the geographies and organizations by their frequency of occurrence (count 1 mention of a geography, if the same geography is mentioned more than once in the same search string). If you can do it for the mention of \"technologies\" such as ai, analytics etc. then it will be a plus. Any useful trends observed in these mentions of geographies, organizations and technologies should be plotted and presented.\t\t\t\t\t\t\t\t\t\t\t\t\t\t\t\t\t\t\n",
    "\n",
    "# Final Output & Next Steps\t\t\t\t\t\t\t\t\t\t\t\t\t\t\t\t\t\t\t\n",
    "\n",
    "- 8\t\"Final output of the exercise should include\n",
    "\n",
    " *1. 3 Code files- 1 used for data cleaning and 2 used for each of the 2 tasks (with data processing and data analysis). Please comment your code appropriately. You will be evaluated for properly structuring your code and for building checks and balances in your analysis- which should be included in your code as well.*\n",
    "\n",
    " *2. If some data visualization tool such as Tableau/PowerBI is used for presentation of the plots in the panel round (if selected) then it will be considered a plus for the candidate. PPT presentation is acceptable though. The following visualizations are required- *\n",
    "\n",
    "**- Please prepare 1-2 slides to explain your data cleaning and processing steps, 1-2 slides to display the results of Task 1 (include the methodology used for completing the task), 1-2 slides to display the result of Task 2 (include the methodology used for completing the task), 1-2 slides on what other analysis is possible on the data set including the expected insights from those (for this you will need to mention the preferred methodology for text analysis). \"**\t\t\t\t\t\t\t\t\t\t\t\t\t\t\t\t\t\t\n",
    "- 9\tYou will be given a time limit of 3 Days from the time this test is given, to prepare the output. The candidates should upload the output docs- Dashboard/PPT & their 3 code files in a G-drive link and send them across to the assigned recruiter.\t\t\t\t\t\t\t\t\t\t\t\t\t\t\t\t\t\t\n",
    "- 10\tIf your output gets selected, you will be asked to present your findings & approach to our panel of experts who would cross question you on your analysis.\t\t\t\t\t\t\t\t\t\t\t\t\t\t\t\t\t\t\n"
   ]
  },
  {
   "cell_type": "code",
   "execution_count": 1,
   "metadata": {},
   "outputs": [
    {
     "name": "stderr",
     "output_type": "stream",
     "text": [
      "C:\\Users\\tshrs\\Anaconda3\\lib\\site-packages\\gensim\\utils.py:1197: UserWarning: detected Windows; aliasing chunkize to chunkize_serial\n",
      "  warnings.warn(\"detected Windows; aliasing chunkize to chunkize_serial\")\n"
     ]
    }
   ],
   "source": [
    "import numpy as np\n",
    "import pandas as pd\n",
    "\n",
    "#for text processing\n",
    "import re\n",
    "import string\n",
    "import nltk \n",
    "from nltk.corpus import stopwords\n",
    "from textblob import Word\n",
    "\n",
    "#calculation of time\n",
    "from time import time\n",
    "\n",
    "##pretty print\n",
    "import pprint\n",
    "\n",
    "# Gensim\n",
    "import gensim\n",
    "import gensim.corpora as corpora\n",
    "from gensim.utils import simple_preprocess\n",
    "from gensim.models import CoherenceModel\n",
    "\n",
    "from gensim.corpora import Dictionary\n",
    "\n",
    "# Build LDA model\n",
    "from gensim.models.ldamulticore import LdaMulticore\n",
    "\n",
    "import warnings\n",
    "warnings.filterwarnings(\"ignore\",category=DeprecationWarning)\n",
    "\n",
    "# spacy \n",
    "import spacy\n",
    "\n",
    "# Plotting tools\n",
    "import pyLDAvis\n",
    "import pyLDAvis.gensim  # don't skip this\n",
    "import matplotlib.pyplot as plt\n",
    "%matplotlib inline\n",
    "\n",
    "pd.set_option('display.max_rows', 500)\n",
    "pd.set_option('display.max_columns', 500)\n",
    "pd.set_option('max_colwidth', -1)"
   ]
  },
  {
   "cell_type": "markdown",
   "metadata": {},
   "source": [
    "#### Merge all 3 sheets"
   ]
  },
  {
   "cell_type": "code",
   "execution_count": 2,
   "metadata": {},
   "outputs": [],
   "source": [
    "# from pandas import ExcelWriter\n",
    "# from pandas import ExcelFile\n",
    "\n",
    "xls = pd.ExcelFile('data.xlsx')\n",
    "df1 = pd.read_excel(xls, sheet_name='Aug')\n",
    "df2 = pd.read_excel(xls, sheet_name='Sept')\n",
    "df3 = pd.read_excel(xls, sheet_name='Oct')"
   ]
  },
  {
   "cell_type": "code",
   "execution_count": 3,
   "metadata": {},
   "outputs": [],
   "source": [
    "df = pd.concat([df1,df2,df3] , ignore_index=True)"
   ]
  },
  {
   "cell_type": "markdown",
   "metadata": {},
   "source": [
    "## Inspect Text field"
   ]
  },
  {
   "cell_type": "code",
   "execution_count": 4,
   "metadata": {},
   "outputs": [
    {
     "data": {
      "text/html": [
       "<div>\n",
       "<style scoped>\n",
       "    .dataframe tbody tr th:only-of-type {\n",
       "        vertical-align: middle;\n",
       "    }\n",
       "\n",
       "    .dataframe tbody tr th {\n",
       "        vertical-align: top;\n",
       "    }\n",
       "\n",
       "    .dataframe thead th {\n",
       "        text-align: right;\n",
       "    }\n",
       "</style>\n",
       "<table border=\"1\" class=\"dataframe\">\n",
       "  <thead>\n",
       "    <tr style=\"text-align: right;\">\n",
       "      <th></th>\n",
       "      <th>Is Premium Client</th>\n",
       "      <th>Persona</th>\n",
       "      <th>Search Day</th>\n",
       "      <th>Query Text</th>\n",
       "    </tr>\n",
       "  </thead>\n",
       "  <tbody>\n",
       "    <tr>\n",
       "      <th>0</th>\n",
       "      <td>N</td>\n",
       "      <td>EXP</td>\n",
       "      <td>2018-08-01</td>\n",
       "      <td>adopt 10 best practices to become a contract negotiation expert for data integration tools</td>\n",
       "    </tr>\n",
       "    <tr>\n",
       "      <th>1</th>\n",
       "      <td>Y</td>\n",
       "      <td>EXP</td>\n",
       "      <td>2018-08-01</td>\n",
       "      <td>\"security gaps\"</td>\n",
       "    </tr>\n",
       "    <tr>\n",
       "      <th>2</th>\n",
       "      <td>Y</td>\n",
       "      <td>EXP</td>\n",
       "      <td>2018-08-01</td>\n",
       "      <td>it service management process maps</td>\n",
       "    </tr>\n",
       "    <tr>\n",
       "      <th>3</th>\n",
       "      <td>Y</td>\n",
       "      <td>EXP</td>\n",
       "      <td>2018-08-01</td>\n",
       "      <td>project managment mission</td>\n",
       "    </tr>\n",
       "    <tr>\n",
       "      <th>4</th>\n",
       "      <td>Y</td>\n",
       "      <td>EXP</td>\n",
       "      <td>2018-08-01</td>\n",
       "      <td>monitor hardware requirements</td>\n",
       "    </tr>\n",
       "  </tbody>\n",
       "</table>\n",
       "</div>"
      ],
      "text/plain": [
       "  Is Premium Client Persona Search Day  \\\n",
       "0  N                 EXP    2018-08-01   \n",
       "1  Y                 EXP    2018-08-01   \n",
       "2  Y                 EXP    2018-08-01   \n",
       "3  Y                 EXP    2018-08-01   \n",
       "4  Y                 EXP    2018-08-01   \n",
       "\n",
       "                                                                                   Query Text  \n",
       "0  adopt 10 best practices to become a contract negotiation expert for data integration tools  \n",
       "1  \"security gaps\"                                                                             \n",
       "2  it service management process maps                                                          \n",
       "3  project managment mission                                                                   \n",
       "4  monitor hardware requirements                                                               "
      ]
     },
     "execution_count": 4,
     "metadata": {},
     "output_type": "execute_result"
    }
   ],
   "source": [
    "df.head()"
   ]
  },
  {
   "cell_type": "code",
   "execution_count": 5,
   "metadata": {},
   "outputs": [
    {
     "name": "stdout",
     "output_type": "stream",
     "text": [
      "<class 'pandas.core.frame.DataFrame'>\n",
      "RangeIndex: 131185 entries, 0 to 131184\n",
      "Data columns (total 4 columns):\n",
      "Is Premium Client    131185 non-null object\n",
      "Persona              131185 non-null object\n",
      "Search Day           131185 non-null datetime64[ns]\n",
      "Query Text           131178 non-null object\n",
      "dtypes: datetime64[ns](1), object(3)\n",
      "memory usage: 4.0+ MB\n"
     ]
    }
   ],
   "source": [
    "df.info()"
   ]
  },
  {
   "cell_type": "code",
   "execution_count": 6,
   "metadata": {},
   "outputs": [
    {
     "data": {
      "text/plain": [
       "Is Premium Client    0\n",
       "Persona              0\n",
       "Search Day           0\n",
       "Query Text           7\n",
       "dtype: int64"
      ]
     },
     "execution_count": 6,
     "metadata": {},
     "output_type": "execute_result"
    }
   ],
   "source": [
    "df.isnull().sum()"
   ]
  },
  {
   "cell_type": "code",
   "execution_count": 7,
   "metadata": {},
   "outputs": [
    {
     "data": {
      "text/html": [
       "<div>\n",
       "<style scoped>\n",
       "    .dataframe tbody tr th:only-of-type {\n",
       "        vertical-align: middle;\n",
       "    }\n",
       "\n",
       "    .dataframe tbody tr th {\n",
       "        vertical-align: top;\n",
       "    }\n",
       "\n",
       "    .dataframe thead th {\n",
       "        text-align: right;\n",
       "    }\n",
       "</style>\n",
       "<table border=\"1\" class=\"dataframe\">\n",
       "  <thead>\n",
       "    <tr style=\"text-align: right;\">\n",
       "      <th></th>\n",
       "      <th>Is Premium Client</th>\n",
       "      <th>Persona</th>\n",
       "      <th>Search Day</th>\n",
       "      <th>Query Text</th>\n",
       "    </tr>\n",
       "  </thead>\n",
       "  <tbody>\n",
       "    <tr>\n",
       "      <th>19280</th>\n",
       "      <td>Y</td>\n",
       "      <td>EXP</td>\n",
       "      <td>2018-08-05</td>\n",
       "      <td>NaN</td>\n",
       "    </tr>\n",
       "    <tr>\n",
       "      <th>20741</th>\n",
       "      <td>Y</td>\n",
       "      <td>EXP</td>\n",
       "      <td>2018-08-28</td>\n",
       "      <td>NaN</td>\n",
       "    </tr>\n",
       "    <tr>\n",
       "      <th>31605</th>\n",
       "      <td>Y</td>\n",
       "      <td>EXP</td>\n",
       "      <td>2018-08-30</td>\n",
       "      <td>NaN</td>\n",
       "    </tr>\n",
       "    <tr>\n",
       "      <th>64864</th>\n",
       "      <td>Y</td>\n",
       "      <td>EXP</td>\n",
       "      <td>2018-09-20</td>\n",
       "      <td>NaN</td>\n",
       "    </tr>\n",
       "    <tr>\n",
       "      <th>79906</th>\n",
       "      <td>Y</td>\n",
       "      <td>EXP</td>\n",
       "      <td>2018-09-26</td>\n",
       "      <td>NaN</td>\n",
       "    </tr>\n",
       "    <tr>\n",
       "      <th>110021</th>\n",
       "      <td>Y</td>\n",
       "      <td>EXP</td>\n",
       "      <td>2018-10-16</td>\n",
       "      <td>NaN</td>\n",
       "    </tr>\n",
       "    <tr>\n",
       "      <th>130664</th>\n",
       "      <td>Y</td>\n",
       "      <td>EXP</td>\n",
       "      <td>2018-10-28</td>\n",
       "      <td>NaN</td>\n",
       "    </tr>\n",
       "  </tbody>\n",
       "</table>\n",
       "</div>"
      ],
      "text/plain": [
       "       Is Premium Client Persona Search Day Query Text\n",
       "19280   Y                 EXP    2018-08-05  NaN      \n",
       "20741   Y                 EXP    2018-08-28  NaN      \n",
       "31605   Y                 EXP    2018-08-30  NaN      \n",
       "64864   Y                 EXP    2018-09-20  NaN      \n",
       "79906   Y                 EXP    2018-09-26  NaN      \n",
       "110021  Y                 EXP    2018-10-16  NaN      \n",
       "130664  Y                 EXP    2018-10-28  NaN      "
      ]
     },
     "execution_count": 7,
     "metadata": {},
     "output_type": "execute_result"
    }
   ],
   "source": [
    "#fetch missing values of a column\n",
    "\n",
    "df[df[\"Query Text\"].isnull()]"
   ]
  },
  {
   "cell_type": "code",
   "execution_count": 8,
   "metadata": {},
   "outputs": [],
   "source": [
    "#drop all the rows which have NaN in Query Text\n",
    "\n",
    "df = df.dropna(how='any',axis=0) "
   ]
  },
  {
   "cell_type": "code",
   "execution_count": 9,
   "metadata": {
    "scrolled": true
   },
   "outputs": [
    {
     "data": {
      "text/plain": [
       "Is Premium Client    0\n",
       "Persona              0\n",
       "Search Day           0\n",
       "Query Text           0\n",
       "dtype: int64"
      ]
     },
     "execution_count": 9,
     "metadata": {},
     "output_type": "execute_result"
    }
   ],
   "source": [
    "df.isnull().sum()"
   ]
  },
  {
   "cell_type": "code",
   "execution_count": 10,
   "metadata": {},
   "outputs": [],
   "source": [
    "df.drop_duplicates(subset =\"Query Text\", \n",
    "                     keep = 'last', inplace = True) "
   ]
  },
  {
   "cell_type": "code",
   "execution_count": 11,
   "metadata": {},
   "outputs": [
    {
     "name": "stdout",
     "output_type": "stream",
     "text": [
      "<class 'pandas.core.frame.DataFrame'>\n",
      "Int64Index: 74819 entries, 0 to 131184\n",
      "Data columns (total 4 columns):\n",
      "Is Premium Client    74819 non-null object\n",
      "Persona              74819 non-null object\n",
      "Search Day           74819 non-null datetime64[ns]\n",
      "Query Text           74819 non-null object\n",
      "dtypes: datetime64[ns](1), object(3)\n",
      "memory usage: 2.9+ MB\n"
     ]
    }
   ],
   "source": [
    "df.info()"
   ]
  },
  {
   "cell_type": "code",
   "execution_count": 12,
   "metadata": {},
   "outputs": [
    {
     "name": "stdout",
     "output_type": "stream",
     "text": [
      "The average number of words in a document is: 3.753351421430385.\n",
      "The minimum number of words in a document is: 1.\n",
      "The maximum number of words in a document is: 65.\n"
     ]
    }
   ],
   "source": [
    "# check the length of documents\n",
    "\n",
    "document_lengths = np.array(list(map(len, df['Query Text'].str.split(' '))))\n",
    "\n",
    "print(\"The average number of words in a document is: {}.\".format(np.mean(document_lengths)))\n",
    "print(\"The minimum number of words in a document is: {}.\".format(min(document_lengths)))\n",
    "print(\"The maximum number of words in a document is: {}.\".format(max(document_lengths)))"
   ]
  },
  {
   "cell_type": "code",
   "execution_count": 13,
   "metadata": {},
   "outputs": [
    {
     "name": "stdout",
     "output_type": "stream",
     "text": [
      "There are 11451 documents with tops 5 words.\n",
      "There are 18623 documents with tops 5 words.\n",
      "There are 17085 documents with tops 5 words.\n",
      "There are 9383 documents with tops 5 words.\n",
      "There are 5105 documents with tops 5 words.\n"
     ]
    }
   ],
   "source": [
    "print(\"There are {} documents with tops 5 words.\".format(sum(document_lengths == 1)))\n",
    "print(\"There are {} documents with tops 5 words.\".format(sum(document_lengths == 2)))\n",
    "print(\"There are {} documents with tops 5 words.\".format(sum(document_lengths == 3)))\n",
    "print(\"There are {} documents with tops 5 words.\".format(sum(document_lengths == 4)))\n",
    "print(\"There are {} documents with tops 5 words.\".format(sum(document_lengths == 5)))"
   ]
  },
  {
   "cell_type": "markdown",
   "metadata": {},
   "source": [
    "## Task 1\n",
    "  \n",
    "### Sub-task 2 : Text pre-processing"
   ]
  },
  {
   "cell_type": "code",
   "execution_count": 14,
   "metadata": {},
   "outputs": [],
   "source": [
    "def text_preprocessing(data):\n",
    "    \n",
    "    #convert text to lower-case\n",
    "    data['processed_text'] = data['Query Text'].apply(lambda x:' '.join(x.lower() for x in x.split()))\n",
    "\n",
    "    #remove punctuations, unwanted characters\n",
    "    data['processed_text_1']= data['processed_text'].apply(lambda x: \"\".join([char for char in x if char not in string.punctuation]))\n",
    "\n",
    "    #remove numbers\n",
    "    data['processed_text_2']= data['processed_text_1'].apply(lambda x: re.sub('[0-9]+', ' ' , x))\n",
    "\n",
    "    #remove stopwords\n",
    "    stop = stopwords.words('english')\n",
    "    data['processed_text_3']= data['processed_text_2'].apply(lambda x:' '.join(x for x in x.split() if not x in stop))\n",
    "\n",
    "    #lemmatization\n",
    "    data['processed_text_4']= data['processed_text_3'].apply(lambda x: \" \".join([Word(word).lemmatize() for word in x.split()]))\n",
    "\n",
    "    # remove all single characters\n",
    "    data['processed_text_5'] = data['processed_text_4'].apply(lambda x: re.sub(r'\\s+[a-zA-Z]\\s+', ' ', x))\n",
    "    \n",
    "    #create a final text field to work on\n",
    "    data['final_text'] = data['processed_text_5']"
   ]
  },
  {
   "cell_type": "code",
   "execution_count": 15,
   "metadata": {
    "scrolled": true
   },
   "outputs": [
    {
     "data": {
      "text/html": [
       "<div>\n",
       "<style scoped>\n",
       "    .dataframe tbody tr th:only-of-type {\n",
       "        vertical-align: middle;\n",
       "    }\n",
       "\n",
       "    .dataframe tbody tr th {\n",
       "        vertical-align: top;\n",
       "    }\n",
       "\n",
       "    .dataframe thead th {\n",
       "        text-align: right;\n",
       "    }\n",
       "</style>\n",
       "<table border=\"1\" class=\"dataframe\">\n",
       "  <thead>\n",
       "    <tr style=\"text-align: right;\">\n",
       "      <th></th>\n",
       "      <th>Is Premium Client</th>\n",
       "      <th>Persona</th>\n",
       "      <th>Search Day</th>\n",
       "      <th>Query Text</th>\n",
       "      <th>processed_text</th>\n",
       "      <th>processed_text_1</th>\n",
       "      <th>processed_text_2</th>\n",
       "      <th>processed_text_3</th>\n",
       "      <th>processed_text_4</th>\n",
       "      <th>processed_text_5</th>\n",
       "      <th>final_text</th>\n",
       "    </tr>\n",
       "  </thead>\n",
       "  <tbody>\n",
       "    <tr>\n",
       "      <th>0</th>\n",
       "      <td>N</td>\n",
       "      <td>EXP</td>\n",
       "      <td>2018-08-01</td>\n",
       "      <td>adopt 10 best practices to become a contract negotiation expert for data integration tools</td>\n",
       "      <td>adopt 10 best practices to become a contract negotiation expert for data integration tools</td>\n",
       "      <td>adopt 10 best practices to become a contract negotiation expert for data integration tools</td>\n",
       "      <td>adopt   best practices to become a contract negotiation expert for data integration tools</td>\n",
       "      <td>adopt best practices become contract negotiation expert data integration tools</td>\n",
       "      <td>adopt best practice become contract negotiation expert data integration tool</td>\n",
       "      <td>adopt best practice become contract negotiation expert data integration tool</td>\n",
       "      <td>adopt best practice become contract negotiation expert data integration tool</td>\n",
       "    </tr>\n",
       "    <tr>\n",
       "      <th>1</th>\n",
       "      <td>Y</td>\n",
       "      <td>EXP</td>\n",
       "      <td>2018-08-01</td>\n",
       "      <td>\"security gaps\"</td>\n",
       "      <td>\"security gaps\"</td>\n",
       "      <td>security gaps</td>\n",
       "      <td>security gaps</td>\n",
       "      <td>security gaps</td>\n",
       "      <td>security gap</td>\n",
       "      <td>security gap</td>\n",
       "      <td>security gap</td>\n",
       "    </tr>\n",
       "    <tr>\n",
       "      <th>2</th>\n",
       "      <td>Y</td>\n",
       "      <td>EXP</td>\n",
       "      <td>2018-08-01</td>\n",
       "      <td>it service management process maps</td>\n",
       "      <td>it service management process maps</td>\n",
       "      <td>it service management process maps</td>\n",
       "      <td>it service management process maps</td>\n",
       "      <td>service management process maps</td>\n",
       "      <td>service management process map</td>\n",
       "      <td>service management process map</td>\n",
       "      <td>service management process map</td>\n",
       "    </tr>\n",
       "    <tr>\n",
       "      <th>3</th>\n",
       "      <td>Y</td>\n",
       "      <td>EXP</td>\n",
       "      <td>2018-08-01</td>\n",
       "      <td>project managment mission</td>\n",
       "      <td>project managment mission</td>\n",
       "      <td>project managment mission</td>\n",
       "      <td>project managment mission</td>\n",
       "      <td>project managment mission</td>\n",
       "      <td>project managment mission</td>\n",
       "      <td>project managment mission</td>\n",
       "      <td>project managment mission</td>\n",
       "    </tr>\n",
       "    <tr>\n",
       "      <th>4</th>\n",
       "      <td>Y</td>\n",
       "      <td>EXP</td>\n",
       "      <td>2018-08-01</td>\n",
       "      <td>monitor hardware requirements</td>\n",
       "      <td>monitor hardware requirements</td>\n",
       "      <td>monitor hardware requirements</td>\n",
       "      <td>monitor hardware requirements</td>\n",
       "      <td>monitor hardware requirements</td>\n",
       "      <td>monitor hardware requirement</td>\n",
       "      <td>monitor hardware requirement</td>\n",
       "      <td>monitor hardware requirement</td>\n",
       "    </tr>\n",
       "  </tbody>\n",
       "</table>\n",
       "</div>"
      ],
      "text/plain": [
       "  Is Premium Client Persona Search Day  \\\n",
       "0  N                 EXP    2018-08-01   \n",
       "1  Y                 EXP    2018-08-01   \n",
       "2  Y                 EXP    2018-08-01   \n",
       "3  Y                 EXP    2018-08-01   \n",
       "4  Y                 EXP    2018-08-01   \n",
       "\n",
       "                                                                                   Query Text  \\\n",
       "0  adopt 10 best practices to become a contract negotiation expert for data integration tools   \n",
       "1  \"security gaps\"                                                                              \n",
       "2  it service management process maps                                                           \n",
       "3  project managment mission                                                                    \n",
       "4  monitor hardware requirements                                                                \n",
       "\n",
       "                                                                               processed_text  \\\n",
       "0  adopt 10 best practices to become a contract negotiation expert for data integration tools   \n",
       "1  \"security gaps\"                                                                              \n",
       "2  it service management process maps                                                           \n",
       "3  project managment mission                                                                    \n",
       "4  monitor hardware requirements                                                                \n",
       "\n",
       "                                                                             processed_text_1  \\\n",
       "0  adopt 10 best practices to become a contract negotiation expert for data integration tools   \n",
       "1  security gaps                                                                                \n",
       "2  it service management process maps                                                           \n",
       "3  project managment mission                                                                    \n",
       "4  monitor hardware requirements                                                                \n",
       "\n",
       "                                                                            processed_text_2  \\\n",
       "0  adopt   best practices to become a contract negotiation expert for data integration tools   \n",
       "1  security gaps                                                                               \n",
       "2  it service management process maps                                                          \n",
       "3  project managment mission                                                                   \n",
       "4  monitor hardware requirements                                                               \n",
       "\n",
       "                                                                 processed_text_3  \\\n",
       "0  adopt best practices become contract negotiation expert data integration tools   \n",
       "1  security gaps                                                                    \n",
       "2  service management process maps                                                  \n",
       "3  project managment mission                                                        \n",
       "4  monitor hardware requirements                                                    \n",
       "\n",
       "                                                               processed_text_4  \\\n",
       "0  adopt best practice become contract negotiation expert data integration tool   \n",
       "1  security gap                                                                   \n",
       "2  service management process map                                                 \n",
       "3  project managment mission                                                      \n",
       "4  monitor hardware requirement                                                   \n",
       "\n",
       "                                                               processed_text_5  \\\n",
       "0  adopt best practice become contract negotiation expert data integration tool   \n",
       "1  security gap                                                                   \n",
       "2  service management process map                                                 \n",
       "3  project managment mission                                                      \n",
       "4  monitor hardware requirement                                                   \n",
       "\n",
       "                                                                     final_text  \n",
       "0  adopt best practice become contract negotiation expert data integration tool  \n",
       "1  security gap                                                                  \n",
       "2  service management process map                                                \n",
       "3  project managment mission                                                     \n",
       "4  monitor hardware requirement                                                  "
      ]
     },
     "execution_count": 15,
     "metadata": {},
     "output_type": "execute_result"
    }
   ],
   "source": [
    "#pre-processing or cleaning data\n",
    "\n",
    "text_preprocessing(df)\n",
    "\n",
    "df.head()"
   ]
  },
  {
   "cell_type": "code",
   "execution_count": 16,
   "metadata": {},
   "outputs": [
    {
     "data": {
      "text/html": [
       "<div>\n",
       "<style scoped>\n",
       "    .dataframe tbody tr th:only-of-type {\n",
       "        vertical-align: middle;\n",
       "    }\n",
       "\n",
       "    .dataframe tbody tr th {\n",
       "        vertical-align: top;\n",
       "    }\n",
       "\n",
       "    .dataframe thead th {\n",
       "        text-align: right;\n",
       "    }\n",
       "</style>\n",
       "<table border=\"1\" class=\"dataframe\">\n",
       "  <thead>\n",
       "    <tr style=\"text-align: right;\">\n",
       "      <th></th>\n",
       "      <th>Is Premium Client</th>\n",
       "      <th>Persona</th>\n",
       "      <th>Search Day</th>\n",
       "      <th>Query Text</th>\n",
       "      <th>processed_text</th>\n",
       "      <th>processed_text_1</th>\n",
       "      <th>processed_text_2</th>\n",
       "      <th>processed_text_3</th>\n",
       "      <th>processed_text_4</th>\n",
       "      <th>processed_text_5</th>\n",
       "      <th>final_text</th>\n",
       "      <th>final_tokenized</th>\n",
       "    </tr>\n",
       "  </thead>\n",
       "  <tbody>\n",
       "    <tr>\n",
       "      <th>0</th>\n",
       "      <td>N</td>\n",
       "      <td>EXP</td>\n",
       "      <td>2018-08-01</td>\n",
       "      <td>adopt 10 best practices to become a contract negotiation expert for data integration tools</td>\n",
       "      <td>adopt 10 best practices to become a contract negotiation expert for data integration tools</td>\n",
       "      <td>adopt 10 best practices to become a contract negotiation expert for data integration tools</td>\n",
       "      <td>adopt   best practices to become a contract negotiation expert for data integration tools</td>\n",
       "      <td>adopt best practices become contract negotiation expert data integration tools</td>\n",
       "      <td>adopt best practice become contract negotiation expert data integration tool</td>\n",
       "      <td>adopt best practice become contract negotiation expert data integration tool</td>\n",
       "      <td>adopt best practice become contract negotiation expert data integration tool</td>\n",
       "      <td>[adopt, best, practice, become, contract, negotiation, expert, data, integration, tool]</td>\n",
       "    </tr>\n",
       "    <tr>\n",
       "      <th>1</th>\n",
       "      <td>Y</td>\n",
       "      <td>EXP</td>\n",
       "      <td>2018-08-01</td>\n",
       "      <td>\"security gaps\"</td>\n",
       "      <td>\"security gaps\"</td>\n",
       "      <td>security gaps</td>\n",
       "      <td>security gaps</td>\n",
       "      <td>security gaps</td>\n",
       "      <td>security gap</td>\n",
       "      <td>security gap</td>\n",
       "      <td>security gap</td>\n",
       "      <td>[security, gap]</td>\n",
       "    </tr>\n",
       "    <tr>\n",
       "      <th>2</th>\n",
       "      <td>Y</td>\n",
       "      <td>EXP</td>\n",
       "      <td>2018-08-01</td>\n",
       "      <td>it service management process maps</td>\n",
       "      <td>it service management process maps</td>\n",
       "      <td>it service management process maps</td>\n",
       "      <td>it service management process maps</td>\n",
       "      <td>service management process maps</td>\n",
       "      <td>service management process map</td>\n",
       "      <td>service management process map</td>\n",
       "      <td>service management process map</td>\n",
       "      <td>[service, management, process, map]</td>\n",
       "    </tr>\n",
       "    <tr>\n",
       "      <th>3</th>\n",
       "      <td>Y</td>\n",
       "      <td>EXP</td>\n",
       "      <td>2018-08-01</td>\n",
       "      <td>project managment mission</td>\n",
       "      <td>project managment mission</td>\n",
       "      <td>project managment mission</td>\n",
       "      <td>project managment mission</td>\n",
       "      <td>project managment mission</td>\n",
       "      <td>project managment mission</td>\n",
       "      <td>project managment mission</td>\n",
       "      <td>project managment mission</td>\n",
       "      <td>[project, managment, mission]</td>\n",
       "    </tr>\n",
       "    <tr>\n",
       "      <th>4</th>\n",
       "      <td>Y</td>\n",
       "      <td>EXP</td>\n",
       "      <td>2018-08-01</td>\n",
       "      <td>monitor hardware requirements</td>\n",
       "      <td>monitor hardware requirements</td>\n",
       "      <td>monitor hardware requirements</td>\n",
       "      <td>monitor hardware requirements</td>\n",
       "      <td>monitor hardware requirements</td>\n",
       "      <td>monitor hardware requirement</td>\n",
       "      <td>monitor hardware requirement</td>\n",
       "      <td>monitor hardware requirement</td>\n",
       "      <td>[monitor, hardware, requirement]</td>\n",
       "    </tr>\n",
       "  </tbody>\n",
       "</table>\n",
       "</div>"
      ],
      "text/plain": [
       "  Is Premium Client Persona Search Day  \\\n",
       "0  N                 EXP    2018-08-01   \n",
       "1  Y                 EXP    2018-08-01   \n",
       "2  Y                 EXP    2018-08-01   \n",
       "3  Y                 EXP    2018-08-01   \n",
       "4  Y                 EXP    2018-08-01   \n",
       "\n",
       "                                                                                   Query Text  \\\n",
       "0  adopt 10 best practices to become a contract negotiation expert for data integration tools   \n",
       "1  \"security gaps\"                                                                              \n",
       "2  it service management process maps                                                           \n",
       "3  project managment mission                                                                    \n",
       "4  monitor hardware requirements                                                                \n",
       "\n",
       "                                                                               processed_text  \\\n",
       "0  adopt 10 best practices to become a contract negotiation expert for data integration tools   \n",
       "1  \"security gaps\"                                                                              \n",
       "2  it service management process maps                                                           \n",
       "3  project managment mission                                                                    \n",
       "4  monitor hardware requirements                                                                \n",
       "\n",
       "                                                                             processed_text_1  \\\n",
       "0  adopt 10 best practices to become a contract negotiation expert for data integration tools   \n",
       "1  security gaps                                                                                \n",
       "2  it service management process maps                                                           \n",
       "3  project managment mission                                                                    \n",
       "4  monitor hardware requirements                                                                \n",
       "\n",
       "                                                                            processed_text_2  \\\n",
       "0  adopt   best practices to become a contract negotiation expert for data integration tools   \n",
       "1  security gaps                                                                               \n",
       "2  it service management process maps                                                          \n",
       "3  project managment mission                                                                   \n",
       "4  monitor hardware requirements                                                               \n",
       "\n",
       "                                                                 processed_text_3  \\\n",
       "0  adopt best practices become contract negotiation expert data integration tools   \n",
       "1  security gaps                                                                    \n",
       "2  service management process maps                                                  \n",
       "3  project managment mission                                                        \n",
       "4  monitor hardware requirements                                                    \n",
       "\n",
       "                                                               processed_text_4  \\\n",
       "0  adopt best practice become contract negotiation expert data integration tool   \n",
       "1  security gap                                                                   \n",
       "2  service management process map                                                 \n",
       "3  project managment mission                                                      \n",
       "4  monitor hardware requirement                                                   \n",
       "\n",
       "                                                               processed_text_5  \\\n",
       "0  adopt best practice become contract negotiation expert data integration tool   \n",
       "1  security gap                                                                   \n",
       "2  service management process map                                                 \n",
       "3  project managment mission                                                      \n",
       "4  monitor hardware requirement                                                   \n",
       "\n",
       "                                                                     final_text  \\\n",
       "0  adopt best practice become contract negotiation expert data integration tool   \n",
       "1  security gap                                                                   \n",
       "2  service management process map                                                 \n",
       "3  project managment mission                                                      \n",
       "4  monitor hardware requirement                                                   \n",
       "\n",
       "                                                                           final_tokenized  \n",
       "0  [adopt, best, practice, become, contract, negotiation, expert, data, integration, tool]  \n",
       "1  [security, gap]                                                                          \n",
       "2  [service, management, process, map]                                                      \n",
       "3  [project, managment, mission]                                                            \n",
       "4  [monitor, hardware, requirement]                                                         "
      ]
     },
     "execution_count": 16,
     "metadata": {},
     "output_type": "execute_result"
    }
   ],
   "source": [
    "#create tokenized data for LDA\n",
    "\n",
    "df['final_tokenized'] = list(map(nltk.word_tokenize, df.final_text))\n",
    "\n",
    "df.head()"
   ]
  },
  {
   "cell_type": "markdown",
   "metadata": {},
   "source": [
    "## LDA training "
   ]
  },
  {
   "cell_type": "code",
   "execution_count": 17,
   "metadata": {},
   "outputs": [
    {
     "name": "stdout",
     "output_type": "stream",
     "text": [
      "[[(0, 1), (1, 1), (2, 1), (3, 1), (4, 1), (5, 1), (6, 1), (7, 1), (8, 1), (9, 1)]]\n"
     ]
    }
   ],
   "source": [
    "# Create Dictionary\n",
    "\n",
    "id2word = corpora.Dictionary(df['final_tokenized'])\n",
    "\n",
    "texts = df['final_tokenized']\n",
    "\n",
    "# Term Document Frequency\n",
    "corpus = [id2word.doc2bow(text) for text in texts]\n",
    "\n",
    "# View\n",
    "print(corpus[:1])"
   ]
  },
  {
   "cell_type": "code",
   "execution_count": 18,
   "metadata": {},
   "outputs": [
    {
     "data": {
      "text/plain": [
       "'adopt'"
      ]
     },
     "execution_count": 18,
     "metadata": {},
     "output_type": "execute_result"
    }
   ],
   "source": [
    "id2word[0]"
   ]
  },
  {
   "cell_type": "code",
   "execution_count": 19,
   "metadata": {},
   "outputs": [
    {
     "data": {
      "text/plain": [
       "[[('adopt', 1),\n",
       "  ('become', 1),\n",
       "  ('best', 1),\n",
       "  ('contract', 1),\n",
       "  ('data', 1),\n",
       "  ('expert', 1),\n",
       "  ('integration', 1),\n",
       "  ('negotiation', 1),\n",
       "  ('practice', 1),\n",
       "  ('tool', 1)]]"
      ]
     },
     "execution_count": 19,
     "metadata": {},
     "output_type": "execute_result"
    }
   ],
   "source": [
    "# Human readable format of corpus (term-frequency)\n",
    "[[(id2word[id], freq) for id, freq in cp] for cp in corpus[:1]]"
   ]
  },
  {
   "cell_type": "code",
   "execution_count": 20,
   "metadata": {},
   "outputs": [],
   "source": [
    "# %%time\n",
    "\n",
    "# num_topics = 10\n",
    "\n",
    "# lda_model = LdaMulticore(corpus=corpus,\n",
    "#                          id2word=id2word,\n",
    "#                          num_topics=num_topics, \n",
    "#                          workers=3,              #CPU cores\n",
    "#                          random_state=100,\n",
    "#                          chunksize=400,         #Number of documents to be used in each training chunk.\n",
    "#                          passes=40,              #Number of passes through the corpus during training.\n",
    "#                          alpha='asymmetric',\n",
    "#                          per_word_topics=True)\n"
   ]
  },
  {
   "cell_type": "code",
   "execution_count": 22,
   "metadata": {
    "scrolled": false
   },
   "outputs": [],
   "source": [
    "# # View the topics in LDA model\n",
    "\n",
    "# pp.pprint(lda_model.print_topics())\n",
    "# doc_lda = lda_model[corpus]"
   ]
  },
  {
   "cell_type": "markdown",
   "metadata": {},
   "source": [
    "#### What is topic coeherence\n",
    "\n",
    "https://rare-technologies.com/what-is-topic-coherence/\n",
    "\n",
    "What exactly is this topic coherence pipeline thing? Why is it even important? Moreover, what is the advantage of having this pipeline at all? In this post I will look to answer those questions in an as non-technical language as possible. This is meant for the general reader as much as a technical one so I will try to engage your imaginations more and your maths skills less.\n",
    "\n",
    "Imagine that you get water from a lot of places. The way you test this water is by providing it to a lot of people and then taking their reviews. If most of the reviews are bad, you say the water is bad and vice-versa. So basically all your evaluations are based on reviews with ratings as bad or good. If someone asks you exactly how good (or bad) the water is, you blend in your personal opinion. But this doesn’t assign a particular number to the quality of water and thus is only a qualitative analysis. Hence it can’t be used to compare two different sources of water in a definitive manner.\n",
    "\n",
    "Since you are a lazy person and strive to assign a quantity to the quality, you install four different pipes at the end of the water source and design a meter which tells you the exact quality of water by assigning a number to it. While doing this you receive help from a lot of wonderful people around you and therefore you are successful in installing it. Hence now you don’t need to go and gather hundred different people to get their opinion on the quality of water. You can get it straight from the meter and this value is always in accordance with the human opinions.\n",
    "\n",
    "The water here is the topics from some topic modelling algorithm. Earlier, the topics coming out from these topic modelling algorithms used to be tested on their human interpretability by presenting them to humans and taking their input on them. This was not quantitative but only qualitative. The meter and the pipes combined (yes you guessed it right) is the topic coherence pipeline. The four pipes are:\n",
    "\n",
    "Segmentation : Where the water is partitioned into several glasses assuming that the quality of water in each glass is different.\n",
    "Probability Estimation : Where the quantity of water in each glass is measured.\n",
    "Confirmation Measure : Where the quality of water (according to a certain metric) in each glass is measured and a number is assigned to each glass wrt it’s quantity.\n",
    "Aggregation : The meter where these quality numbers are combined in a certain way (say arithmetic mean) to come up with one number.\n",
    "And there you have your topic coherence pipeline! There are surely much better analogies than this one but I hope you got the gist of it."
   ]
  },
  {
   "cell_type": "code",
   "execution_count": 23,
   "metadata": {},
   "outputs": [],
   "source": [
    "# %%time \n",
    "\n",
    "# # Compute Perplexity\n",
    "# print('\\nPerplexity: ', lda_model.log_perplexity(corpus))  # a measure of how good the model is. lower the better.\n",
    "\n",
    "# # Compute Coherence Score\n",
    "# coherence_model_lda = CoherenceModel(model=lda_model, texts=df['final_tokenized'], dictionary=id2word, coherence='c_v')\n",
    "# coherence_lda = coherence_model_lda.get_coherence()\n",
    "# print('\\nCoherence Score: ', coherence_lda)"
   ]
  },
  {
   "cell_type": "markdown",
   "metadata": {},
   "source": [
    "## Top 10 topics by frequency of occurence\n",
    "\n"
   ]
  },
  {
   "cell_type": "code",
   "execution_count": 24,
   "metadata": {
    "scrolled": false
   },
   "outputs": [
    {
     "name": "stdout",
     "output_type": "stream",
     "text": [
      "Wall time: 0 ns\n"
     ]
    }
   ],
   "source": [
    "%%time\n",
    "\n",
    "# Visualize the topics\n",
    "\n",
    "# pyLDAvis.enable_notebook()\n",
    "# vis = pyLDAvis.gensim.prepare(lda_model, corpus, id2word)\n",
    "# vis"
   ]
  },
  {
   "cell_type": "markdown",
   "metadata": {},
   "source": [
    "#### How to find the optimal number of topics for LDA?  \n",
    "\n",
    "My approach to finding the optimal number of topics is to build many LDA models with different values of number of topics (k) and pick the one that gives the highest coherence value.\n",
    "\n",
    "Choosing a ‘k’ that marks the end of a rapid growth of topic coherence usually offers meaningful and interpretable topics. Picking an even higher value can sometimes provide more granular sub-topics.\n",
    "\n",
    "If you see the same keywords being repeated in multiple topics, it’s probably a sign that the ‘k’ is too large.\n",
    "\n",
    "The compute_coherence_values() (see below) trains multiple LDA models and provides the models and their corresponding coherence scores."
   ]
  },
  {
   "cell_type": "markdown",
   "metadata": {},
   "source": [
    "If the coherence score seems to keep increasing, it may make better sense to pick the model that gave the highest CV before flattening out. This is exactly the case here.\n",
    "\n",
    "So for further steps I will choose the model with 20 topics itself."
   ]
  },
  {
   "cell_type": "markdown",
   "metadata": {},
   "source": [
    "## Sub-Task2 Named Entity Recognition"
   ]
  },
  {
   "cell_type": "code",
   "execution_count": 25,
   "metadata": {
    "scrolled": true
   },
   "outputs": [
    {
     "data": {
      "image/png": "[encoded data removed]",
      "text/plain": [
       "<IPython.core.display.Image object>"
      ]
     },
     "execution_count": 25,
     "metadata": {},
     "output_type": "execute_result"
    }
   ],
   "source": [
    "from IPython.display import Image\n",
    "Image(\"img/picture.png\")"
   ]
  },
  {
   "cell_type": "code",
   "execution_count": 26,
   "metadata": {},
   "outputs": [
    {
     "name": "stderr",
     "output_type": "stream",
     "text": [
      "C:\\Users\\tshrs\\Anaconda3\\lib\\site-packages\\msgpack_numpy.py:184: DeprecationWarning: encoding is deprecated, Use raw=False instead.\n",
      "  return _unpackb(packed, **kwargs)\n",
      "C:\\Users\\tshrs\\Anaconda3\\lib\\site-packages\\msgpack_numpy.py:184: DeprecationWarning: encoding is deprecated, Use raw=False instead.\n",
      "  return _unpackb(packed, **kwargs)\n",
      "C:\\Users\\tshrs\\Anaconda3\\lib\\site-packages\\msgpack_numpy.py:184: DeprecationWarning: encoding is deprecated, Use raw=False instead.\n",
      "  return _unpackb(packed, **kwargs)\n",
      "C:\\Users\\tshrs\\Anaconda3\\lib\\site-packages\\msgpack_numpy.py:184: DeprecationWarning: encoding is deprecated, Use raw=False instead.\n",
      "  return _unpackb(packed, **kwargs)\n",
      "C:\\Users\\tshrs\\Anaconda3\\lib\\site-packages\\msgpack_numpy.py:184: DeprecationWarning: encoding is deprecated, Use raw=False instead.\n",
      "  return _unpackb(packed, **kwargs)\n",
      "C:\\Users\\tshrs\\Anaconda3\\lib\\site-packages\\msgpack_numpy.py:184: DeprecationWarning: encoding is deprecated, Use raw=False instead.\n",
      "  return _unpackb(packed, **kwargs)\n",
      "C:\\Users\\tshrs\\Anaconda3\\lib\\site-packages\\msgpack_numpy.py:184: DeprecationWarning: encoding is deprecated, Use raw=False instead.\n",
      "  return _unpackb(packed, **kwargs)\n",
      "C:\\Users\\tshrs\\Anaconda3\\lib\\site-packages\\msgpack_numpy.py:184: DeprecationWarning: encoding is deprecated, Use raw=False instead.\n",
      "  return _unpackb(packed, **kwargs)\n"
     ]
    }
   ],
   "source": [
    "import spacy\n",
    "from spacy import displacy\n",
    "from collections import Counter\n",
    "import en_core_web_sm\n",
    "\n",
    "nlp = en_core_web_sm.load()"
   ]
  },
  {
   "cell_type": "code",
   "execution_count": 75,
   "metadata": {},
   "outputs": [
    {
     "name": "stdout",
     "output_type": "stream",
     "text": [
      "Number of Query Text:  63080\n"
     ]
    }
   ],
   "source": [
    "#removing duplicates\n",
    "\n",
    "final_text = df['final_text'].unique()\n",
    "\n",
    "print('Number of Query Text: ', len(final_text))"
   ]
  },
  {
   "cell_type": "code",
   "execution_count": 72,
   "metadata": {},
   "outputs": [],
   "source": [
    "corpus = list(nlp.pipe(final_text))\n"
   ]
  },
  {
   "cell_type": "code",
   "execution_count": 74,
   "metadata": {},
   "outputs": [
    {
     "name": "stdout",
     "output_type": "stream",
     "text": [
      "it key metrics data to optimize it costs\n",
      "\n"
     ]
    }
   ],
   "source": [
    "# doc = corpus[2071]\n",
    "# print(doc)\n",
    "# print()\n",
    "# for ent in doc.ents:\n",
    "#     print(ent.text,ent.label_)"
   ]
  },
  {
   "cell_type": "code",
   "execution_count": 53,
   "metadata": {},
   "outputs": [],
   "source": [
    "# corpus"
   ]
  },
  {
   "cell_type": "code",
   "execution_count": 29,
   "metadata": {
    "scrolled": true
   },
   "outputs": [
    {
     "name": "stdout",
     "output_type": "stream",
     "text": [
      "Number of distinct entities:  127\n"
     ]
    }
   ],
   "source": [
    "# Looking at number of times each ent appears in the total corpus\n",
    "# nb. ents all appear as Spacy tokens, hence needing to cast as str\n",
    "\n",
    "from collections import defaultdict\n",
    "\n",
    "all_ents = defaultdict(int)\n",
    "\n",
    "for i, doc in enumerate(corpus):\n",
    "    #print(i,doc)\n",
    "    for ent in doc.ents:\n",
    "        all_ents[str(ent)] += 1\n",
    "        #print(ent)\n",
    "        \n",
    "print('Number of distinct entities: ', len(all_ents))"
   ]
  },
  {
   "cell_type": "code",
   "execution_count": 54,
   "metadata": {},
   "outputs": [
    {
     "name": "stdout",
     "output_type": "stream",
     "text": [
      "Unique labels for entities :  Counter({'CARDINAL': 750, 'DATE': 324, 'GPE': 317, 'ORDINAL': 99, 'NORP': 24, 'TIME': 12, 'QUANTITY': 3, 'ORG': 2})\n",
      "Top 3 frequent tokens     :  [('china', 269), ('five', 150), ('three', 126)]\n"
     ]
    }
   ],
   "source": [
    "# labels = [x.label_ for x in corpus.ents]\n",
    "# Counter(labels)\n",
    "\n",
    "ent_label = []\n",
    "ent_common = []\n",
    "\n",
    "for i, doc in enumerate(corpus):\n",
    "    for ent in doc.ents:\n",
    "        ent_label.append(ent.label_)\n",
    "        ent_common.append(ent.text)\n",
    "        \n",
    "print(\"Unique labels for entities : \", Counter(ent_label))\n",
    "print(\"Top 3 frequent tokens     : \", Counter(ent_common).most_common(3))"
   ]
  },
  {
   "cell_type": "code",
   "execution_count": 31,
   "metadata": {},
   "outputs": [
    {
     "name": "stdout",
     "output_type": "stream",
     "text": [
      "adopt best practice become contract negotiation expert data integration tool\n"
     ]
    }
   ],
   "source": [
    "sentences = []\n",
    "\n",
    "for i, doc in enumerate(corpus):\n",
    "    for ent in doc.sents:\n",
    "        sentences.append(ent)\n",
    "\n",
    "print(sentences[0])"
   ]
  },
  {
   "cell_type": "code",
   "execution_count": 32,
   "metadata": {},
   "outputs": [
    {
     "data": {
      "text/plain": [
       "[('china', 269),\n",
       " ('five', 150),\n",
       " ('three', 126),\n",
       " ('four', 121),\n",
       " ('six', 61),\n",
       " ('one', 58),\n",
       " ('first', 58),\n",
       " ('eight', 49),\n",
       " ('seven', 46),\n",
       " ('first day', 43),\n",
       " ('ten', 36),\n",
       " ('two', 33),\n",
       " ('third', 32),\n",
       " ('multiyear', 32),\n",
       " ('india', 31),\n",
       " ('current year', 30),\n",
       " ('annual', 28),\n",
       " ('today', 18),\n",
       " ('nine', 17),\n",
       " ('july', 15),\n",
       " ('chinese', 14),\n",
       " ('zero', 14),\n",
       " ('october', 11),\n",
       " ('iot', 11),\n",
       " ('year', 10),\n",
       " ('five nine', 9),\n",
       " ('second', 8),\n",
       " ('day', 7),\n",
       " ('september', 7),\n",
       " ('next year', 7)]"
      ]
     },
     "execution_count": 32,
     "metadata": {},
     "output_type": "execute_result"
    }
   ],
   "source": [
    "# Most popular ents\n",
    "\n",
    "import operator\n",
    "\n",
    "sorted_ents = sorted(all_ents.items(), key=operator.itemgetter(1), reverse=True)\n",
    "sorted_ents[:30]\n"
   ]
  },
  {
   "cell_type": "markdown",
   "metadata": {},
   "source": [
    "### List of geographies and organizations being mentioned in the search terms.\t\t\t\t\t\t\t\t\t\t\t\t\t\t\t\t\t\t\t\t\t\t\t\t\t"
   ]
  },
  {
   "cell_type": "code",
   "execution_count": 37,
   "metadata": {},
   "outputs": [
    {
     "name": "stdout",
     "output_type": "stream",
     "text": [
      "442 china 0 5 GPE\n",
      "570 china 0 5 GPE\n",
      "729 china 0 5 GPE\n",
      "904 china 15 20 GPE\n",
      "943 china 0 5 GPE\n",
      "960 china 0 5 GPE\n",
      "977 china 0 5 GPE\n",
      "1433 china 0 5 GPE\n",
      "1783 china 0 5 GPE\n",
      "1934 china 0 5 GPE\n",
      "2002 china 0 5 GPE\n",
      "2008 china 0 5 GPE\n",
      "2071 china 61 66 GPE\n",
      "2071 india 74 79 GPE\n",
      "2102 china 0 5 GPE\n",
      "2102 china 75 80 GPE\n",
      "2728 china 0 5 GPE\n",
      "2772 china 0 5 GPE\n",
      "2812 china 0 5 GPE\n",
      "3248 china 0 5 GPE\n",
      "3254 china 0 5 GPE\n",
      "3399 india 8 13 GPE\n",
      "3446 china 0 5 GPE\n",
      "3479 china 0 5 GPE\n",
      "3492 china 0 5 GPE\n",
      "4320 china 0 5 GPE\n",
      "4326 china 0 5 GPE\n",
      "4372 china 0 5 GPE\n",
      "4750 china 0 5 GPE\n",
      "4837 china 0 5 GPE\n",
      "5011 china 15 20 GPE\n",
      "5112 china 0 5 GPE\n",
      "5324 china 15 20 GPE\n",
      "5683 china 0 5 GPE\n",
      "5700 china 0 5 GPE\n",
      "5920 china 0 5 GPE\n",
      "6101 china 0 5 GPE\n",
      "6244 china 0 5 GPE\n",
      "6560 japan 0 5 GPE\n",
      "6809 china 0 5 GPE\n",
      "7186 china 0 5 GPE\n",
      "7276 california 0 10 GPE\n",
      "7295 china 0 5 GPE\n",
      "7425 china 0 5 GPE\n",
      "7458 china 15 20 GPE\n",
      "7529 china 15 20 GPE\n",
      "7588 china 15 20 GPE\n",
      "7769 china 0 5 GPE\n",
      "7939 india 0 5 GPE\n",
      "8108 china 0 5 GPE\n",
      "8196 china 0 5 GPE\n",
      "8217 china 0 5 GPE\n",
      "8283 china 0 5 GPE\n",
      "8518 china 0 5 GPE\n",
      "8781 china 0 5 GPE\n",
      "8844 vietnam 41 48 GPE\n",
      "8931 china 0 5 GPE\n",
      "9283 china 0 5 GPE\n",
      "9448 china 13 18 GPE\n",
      "9608 china 0 5 GPE\n",
      "9810 india 0 5 GPE\n",
      "9874 india 0 5 GPE\n",
      "9958 china 0 5 GPE\n",
      "9958 china 37 42 GPE\n",
      "9971 china 0 5 GPE\n",
      "10031 china 0 5 GPE\n",
      "10127 china 0 5 GPE\n",
      "10213 india 9 14 GPE\n",
      "10276 china 0 5 GPE\n",
      "10528 mid 6 9 ORG\n",
      "10589 china 0 5 GPE\n",
      "10609 china 0 5 GPE\n",
      "10670 china 0 5 GPE\n",
      "11038 china 0 5 GPE\n",
      "11076 china 0 5 GPE\n",
      "11157 china 0 5 GPE\n",
      "11211 china 0 5 GPE\n",
      "11441 china 0 5 GPE\n",
      "11916 china 0 5 GPE\n",
      "11941 china 0 5 GPE\n",
      "12034 china 0 5 GPE\n",
      "12175 china 15 20 GPE\n",
      "12203 china 0 5 GPE\n",
      "12968 china 0 5 GPE\n",
      "12994 china 0 5 GPE\n",
      "13031 china 0 5 GPE\n",
      "13055 china 0 5 GPE\n",
      "13105 china 0 5 GPE\n",
      "13220 china 0 5 GPE\n",
      "13244 china 0 5 GPE\n",
      "13377 china 0 5 GPE\n",
      "13532 china 0 5 GPE\n",
      "13963 china 0 5 GPE\n",
      "13996 china 0 5 GPE\n",
      "14084 china 0 5 GPE\n",
      "14430 china 0 5 GPE\n",
      "14517 china 0 5 GPE\n",
      "14556 india 0 5 GPE\n",
      "14683 china 0 5 GPE\n",
      "15061 china 0 5 GPE\n",
      "15083 china 0 5 GPE\n",
      "15226 china 0 5 GPE\n",
      "15249 china 0 5 GPE\n",
      "15267 china 0 5 GPE\n",
      "15342 china 0 5 GPE\n",
      "15405 china 0 5 GPE\n",
      "15421 china 0 5 GPE\n",
      "15455 china 0 5 GPE\n",
      "15473 china 0 5 GPE\n",
      "15511 china 0 5 GPE\n",
      "15571 china 0 5 GPE\n",
      "15889 china 0 5 GPE\n",
      "15979 florida 0 7 GPE\n",
      "16400 china 0 5 GPE\n",
      "16552 china 0 5 GPE\n",
      "16692 china 0 5 GPE\n",
      "16829 china 0 5 GPE\n",
      "16865 china 0 5 GPE\n",
      "16939 india 0 5 GPE\n",
      "16955 china 0 5 GPE\n",
      "17237 china 0 5 GPE\n",
      "17624 china 0 5 GPE\n",
      "17635 china 0 5 GPE\n",
      "17883 china 0 5 GPE\n",
      "17922 china 0 5 GPE\n",
      "17974 china 0 5 GPE\n",
      "18021 china 0 5 GPE\n",
      "18137 china 0 5 GPE\n",
      "18140 china 0 5 GPE\n",
      "18187 china 0 5 GPE\n",
      "18260 china 0 5 GPE\n",
      "18532 china 0 5 GPE\n",
      "18582 china 0 5 GPE\n",
      "18591 china 0 5 GPE\n",
      "18744 india 8 13 GPE\n",
      "18747 india 42 47 GPE\n",
      "18762 japan 0 5 GPE\n",
      "18954 china 0 5 GPE\n",
      "18957 china 0 5 GPE\n",
      "19003 china 0 5 GPE\n",
      "19042 china 0 5 GPE\n",
      "19699 china 40 45 GPE\n",
      "20009 india 17 22 GPE\n",
      "20024 china 79 84 GPE\n",
      "20553 china 0 5 GPE\n",
      "20638 china 0 5 GPE\n",
      "22124 china 0 5 GPE\n",
      "22138 china 0 5 GPE\n",
      "22859 china 0 5 GPE\n",
      "24033 china 0 5 GPE\n",
      "24054 india 14 19 GPE\n",
      "24072 india 22 27 GPE\n",
      "24214 china 0 5 GPE\n",
      "24274 india 28 33 GPE\n",
      "24274 india 34 39 GPE\n",
      "24430 china 0 5 GPE\n",
      "24487 china 15 20 GPE\n",
      "24536 china 0 5 GPE\n",
      "24807 china 0 5 GPE\n",
      "25122 china 0 5 GPE\n",
      "25190 china 0 5 GPE\n",
      "26271 india 23 28 GPE\n",
      "26441 china 0 5 GPE\n",
      "26464 china 30 35 GPE\n",
      "26620 china 0 5 GPE\n",
      "26871 china 0 5 GPE\n",
      "26938 china 0 5 GPE\n",
      "27474 china 0 5 GPE\n",
      "27643 california 0 10 GPE\n",
      "27846 mm 17 19 ORG\n",
      "28433 china 0 5 GPE\n",
      "28688 japan 0 5 GPE\n",
      "28884 china 0 5 GPE\n",
      "28960 china 0 5 GPE\n",
      "29124 china 0 5 GPE\n",
      "29150 china 0 5 GPE\n",
      "29168 china 0 5 GPE\n",
      "29169 china 0 5 GPE\n",
      "29195 china 0 5 GPE\n",
      "29201 china 0 5 GPE\n",
      "29206 china 0 5 GPE\n",
      "29240 china 0 5 GPE\n",
      "29254 china 0 5 GPE\n",
      "30007 japan 0 5 GPE\n",
      "30068 japan 11 16 GPE\n",
      "30733 china 0 5 GPE\n",
      "30733 china 76 81 GPE\n",
      "30734 china 0 5 GPE\n",
      "31459 india 25 30 GPE\n",
      "31589 california 0 10 GPE\n",
      "31935 india 7 12 GPE\n",
      "32325 india 77 82 GPE\n",
      "32448 japan 0 5 GPE\n",
      "33063 china 0 5 GPE\n",
      "33264 china 0 5 GPE\n",
      "33411 china 52 57 GPE\n",
      "33432 india 27 32 GPE\n",
      "33480 china 0 5 GPE\n",
      "33657 china 0 5 GPE\n",
      "33806 china 0 5 GPE\n",
      "34923 china 0 5 GPE\n",
      "34928 china 0 5 GPE\n",
      "34950 china 0 5 GPE\n",
      "35039 china 44 49 GPE\n",
      "35490 china 0 5 GPE\n",
      "35525 china 0 5 GPE\n",
      "35686 tokyo 13 18 GPE\n",
      "35909 china 16 21 GPE\n",
      "35994 china 0 5 GPE\n",
      "36029 china 0 5 GPE\n",
      "36067 india 20 25 GPE\n",
      "36085 india 0 5 GPE\n",
      "36106 china 11 16 GPE\n",
      "36268 china 0 5 GPE\n",
      "37081 california 0 10 GPE\n",
      "38012 japan 39 44 GPE\n",
      "38056 china 0 5 GPE\n",
      "38230 china 0 5 GPE\n",
      "38917 china 10 15 GPE\n",
      "39006 india 8 13 GPE\n",
      "39271 china 0 5 GPE\n",
      "39336 china 0 5 GPE\n",
      "39346 china 0 5 GPE\n",
      "39748 india 33 38 GPE\n",
      "39782 china 0 5 GPE\n",
      "40369 china 0 5 GPE\n",
      "40376 china 0 5 GPE\n",
      "40382 china 0 5 GPE\n",
      "40406 china 0 5 GPE\n",
      "40501 china 0 5 GPE\n",
      "40509 china 0 5 GPE\n",
      "40581 china 0 5 GPE\n",
      "40678 china 0 5 GPE\n",
      "41241 china 0 5 GPE\n",
      "41454 china 0 5 GPE\n",
      "41623 china 0 5 GPE\n",
      "41994 china 0 5 GPE\n",
      "42195 china 0 5 GPE\n",
      "42735 china 0 5 GPE\n",
      "42999 china 0 5 GPE\n",
      "43186 india 15 20 GPE\n",
      "43226 china 0 5 GPE\n",
      "43348 china 7 12 GPE\n",
      "43366 china 0 5 GPE\n",
      "43523 china 0 5 GPE\n",
      "43540 china 0 5 GPE\n",
      "43588 china 0 5 GPE\n",
      "44424 china 0 5 GPE\n",
      "44780 china 0 5 GPE\n",
      "45426 china 0 5 GPE\n",
      "46118 china 13 18 GPE\n",
      "46236 china 0 5 GPE\n",
      "46261 china 0 5 GPE\n",
      "46766 china 0 5 GPE\n",
      "46766 china 41 46 GPE\n",
      "46769 china 0 5 GPE\n",
      "46816 china 62 67 GPE\n",
      "47672 china 0 5 GPE\n",
      "47823 china 0 5 GPE\n",
      "47873 china 0 5 GPE\n",
      "48047 china 0 5 GPE\n",
      "48120 china 0 5 GPE\n",
      "48587 china 0 5 GPE\n",
      "49301 india 15 20 GPE\n",
      "49591 china 0 5 GPE\n",
      "49650 china 0 5 GPE\n",
      "49796 china 0 5 GPE\n",
      "49911 china 0 5 GPE\n",
      "49980 china 0 5 GPE\n",
      "50187 florida 21 28 GPE\n",
      "50606 china 0 5 GPE\n",
      "50634 china 0 5 GPE\n",
      "50739 india 0 5 GPE\n",
      "50941 china 0 5 GPE\n",
      "51021 china 0 5 GPE\n",
      "51466 china 0 5 GPE\n",
      "51884 china 0 5 GPE\n",
      "52311 china 14 19 GPE\n",
      "52367 china 14 19 GPE\n",
      "52526 china 0 5 GPE\n",
      "52862 china 0 5 GPE\n",
      "53020 china 0 5 GPE\n",
      "53041 india 19 24 GPE\n",
      "53524 india 3 8 GPE\n",
      "53528 china 0 5 GPE\n",
      "53775 china 0 5 GPE\n",
      "53937 china 0 5 GPE\n",
      "54124 china 0 5 GPE\n",
      "54576 california 0 10 GPE\n",
      "55008 china 0 5 GPE\n",
      "55081 china 0 5 GPE\n",
      "55195 india 11 16 GPE\n",
      "55857 china 0 5 GPE\n",
      "56123 china 0 5 GPE\n",
      "56137 china 0 5 GPE\n",
      "56698 china 0 5 GPE\n",
      "56965 china 0 5 GPE\n",
      "57169 china 0 5 GPE\n",
      "57238 china 0 5 GPE\n",
      "57361 china 0 5 GPE\n",
      "57362 china 0 5 GPE\n",
      "57740 tokyo 27 32 GPE\n",
      "59158 china 0 5 GPE\n",
      "59317 china 0 5 GPE\n",
      "59519 china 0 5 GPE\n",
      "59639 china 0 5 GPE\n",
      "60514 china 0 5 GPE\n",
      "60543 china 0 5 GPE\n",
      "60582 china 0 5 GPE\n",
      "60606 china 0 5 GPE\n",
      "60665 china 0 5 GPE\n",
      "60692 china 0 5 GPE\n",
      "60878 china 0 5 GPE\n",
      "60956 china 0 5 GPE\n",
      "61543 china 0 5 GPE\n",
      "61563 china 0 5 GPE\n",
      "61989 india 25 30 GPE\n",
      "62728 china 14 19 GPE\n",
      "62948 china 0 5 GPE\n"
     ]
    }
   ],
   "source": [
    "for i, doc in enumerate(corpus):\n",
    "    for ent in doc.ents:\n",
    "        if ent.label_ == 'ORG' or ent.label_ == 'GPE':\n",
    "            print(i, ent.text, ent.start_char, ent.end_char, ent.label_)"
   ]
  }
 ],
 "metadata": {
  "kernelspec": {
   "display_name": "Python 3",
   "language": "python",
   "name": "python3"
  },
  "language_info": {
   "codemirror_mode": {
    "name": "ipython",
    "version": 3
   },
   "file_extension": ".py",
   "mimetype": "text/x-python",
   "name": "python",
   "nbconvert_exporter": "python",
   "pygments_lexer": "ipython3",
   "version": "3.6.8"
  }
 },
 "nbformat": 4,
 "nbformat_minor": 2
}
