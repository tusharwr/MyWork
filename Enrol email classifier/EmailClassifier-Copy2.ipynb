{
 "cells": [
  {
   "cell_type": "code",
   "execution_count": 1,
   "metadata": {},
   "outputs": [],
   "source": [
    "import numpy as np\n",
    "import pandas as pd\n",
    "\n",
    "pd.set_option('display.max_rows', 500)\n",
    "pd.set_option('display.max_columns', 500)\n",
    "pd.set_option('max_colwidth', -1)\n",
    "\n",
    "import matplotlib.pyplot as plt\n",
    "import seaborn as sns\n",
    "\n",
    "#for text processing\n",
    "import re\n",
    "import string\n",
    "import nltk \n",
    "from nltk.corpus import stopwords\n",
    "from textblob import Word\n",
    "\n",
    "#calculation of time\n",
    "from time import time\n",
    "\n",
    "#model for vectorizer\n",
    "from sklearn.feature_extraction.text import TfidfVectorizer\n",
    "\n",
    "#dimensionality reduction\n",
    "from sklearn.decomposition import PCA\n",
    "\n",
    "#model for splitting of data\n",
    "from sklearn.model_selection import train_test_split\n",
    "\n",
    "#logistic regression algo\n",
    "from sklearn.linear_model import LogisticRegression\n",
    "\n",
    "#naive bayes\n",
    "from sklearn.naive_bayes import MultinomialNB\n",
    "\n",
    "from sklearn.ensemble import RandomForestClassifier\n",
    "\n",
    "#for k-fold cross validation\n",
    "from sklearn import model_selection\n",
    "\n",
    "#svm algo \n",
    "from sklearn import svm\n",
    "\n",
    "# Import two metrics from sklearn - fbeta_score and accuracy_score\n",
    "from sklearn.metrics import fbeta_score, accuracy_score\n",
    "from sklearn.metrics import classification_report\n",
    "\n",
    "# hyperparameter training imports\n",
    "from sklearn.model_selection import GridSearchCV\n",
    "\n",
    "\n",
    "##pretty print\n",
    "import pprint as pp\n",
    "\n",
    "#SMOTE\n",
    "from imblearn.over_sampling import SMOTE"
   ]
  },
  {
   "cell_type": "code",
   "execution_count": 2,
   "metadata": {
    "scrolled": true
   },
   "outputs": [
    {
     "data": {
      "text/plain": [
       "file    object\n",
       "body    object\n",
       "dtype: object"
      ]
     },
     "execution_count": 2,
     "metadata": {},
     "output_type": "execute_result"
    }
   ],
   "source": [
    "df = pd.read_csv('enron_cleaned_sent_emails.csv')\n",
    "df.dtypes"
   ]
  },
  {
   "cell_type": "code",
   "execution_count": 3,
   "metadata": {},
   "outputs": [
    {
     "data": {
      "text/plain": [
       "(126846, 2)"
      ]
     },
     "execution_count": 3,
     "metadata": {},
     "output_type": "execute_result"
    }
   ],
   "source": [
    "df.shape"
   ]
  },
  {
   "cell_type": "code",
   "execution_count": 4,
   "metadata": {
    "scrolled": false
   },
   "outputs": [
    {
     "data": {
      "text/html": [
       "<div>\n",
       "<style scoped>\n",
       "    .dataframe tbody tr th:only-of-type {\n",
       "        vertical-align: middle;\n",
       "    }\n",
       "\n",
       "    .dataframe tbody tr th {\n",
       "        vertical-align: top;\n",
       "    }\n",
       "\n",
       "    .dataframe thead th {\n",
       "        text-align: right;\n",
       "    }\n",
       "</style>\n",
       "<table border=\"1\" class=\"dataframe\">\n",
       "  <thead>\n",
       "    <tr style=\"text-align: right;\">\n",
       "      <th></th>\n",
       "      <th>file</th>\n",
       "      <th>body</th>\n",
       "    </tr>\n",
       "  </thead>\n",
       "  <tbody>\n",
       "    <tr>\n",
       "      <th>0</th>\n",
       "      <td>allen-p/_sent_mail/1.</td>\n",
       "      <td>Here is our forecast\\n\\n</td>\n",
       "    </tr>\n",
       "    <tr>\n",
       "      <th>1</th>\n",
       "      <td>allen-p/_sent_mail/10.</td>\n",
       "      <td>Traveling to have a business meeting takes the fun out of the trip.  Especially if you have to prepare a presentation.  I would suggest holding the business plan meetings here then take a trip without any formal business meetings.  I would even try and get some honest opinions on whether a trip is even desired or necessary.\\n\\nAs far as the business meetings, I think it would be more productive to try and stimulate discussions across the different groups about what is working and what is not.  Too often the presenter speaks and the others are quiet just waiting for their turn.   The meetings might be better if held in a round table discussion format.  \\n\\nMy suggestion for where to go is Austin.  Play golf and rent a ski boat and jet ski's.  Flying somewhere takes too much time.\\n</td>\n",
       "    </tr>\n",
       "    <tr>\n",
       "      <th>2</th>\n",
       "      <td>allen-p/_sent_mail/100.</td>\n",
       "      <td>test successful.  way to go!!!</td>\n",
       "    </tr>\n",
       "    <tr>\n",
       "      <th>3</th>\n",
       "      <td>allen-p/_sent_mail/1000.</td>\n",
       "      <td>Randy,\\n\\n Can you send me a schedule of the salary and level of everyone in the \\nscheduling group.  Plus your thoughts on any changes that need to be made.  \\n(Patti S for example)\\n\\nPhillip</td>\n",
       "    </tr>\n",
       "    <tr>\n",
       "      <th>4</th>\n",
       "      <td>allen-p/_sent_mail/1001.</td>\n",
       "      <td>Let's shoot for Tuesday at 11:45.</td>\n",
       "    </tr>\n",
       "  </tbody>\n",
       "</table>\n",
       "</div>"
      ],
      "text/plain": [
       "                       file  \\\n",
       "0  allen-p/_sent_mail/1.      \n",
       "1  allen-p/_sent_mail/10.     \n",
       "2  allen-p/_sent_mail/100.    \n",
       "3  allen-p/_sent_mail/1000.   \n",
       "4  allen-p/_sent_mail/1001.   \n",
       "\n",
       "                                                                                                                                                                                                                                                                                                                                                                                                                                                                                                                                                                                                                                                                                                                                                                                                                      body  \n",
       "0  Here is our forecast\\n\\n                                                                                                                                                                                                                                                                                                                                                                                                                                                                                                                                                                                                                                                                                                                                                                                                 \n",
       "1  Traveling to have a business meeting takes the fun out of the trip.  Especially if you have to prepare a presentation.  I would suggest holding the business plan meetings here then take a trip without any formal business meetings.  I would even try and get some honest opinions on whether a trip is even desired or necessary.\\n\\nAs far as the business meetings, I think it would be more productive to try and stimulate discussions across the different groups about what is working and what is not.  Too often the presenter speaks and the others are quiet just waiting for their turn.   The meetings might be better if held in a round table discussion format.  \\n\\nMy suggestion for where to go is Austin.  Play golf and rent a ski boat and jet ski's.  Flying somewhere takes too much time.\\n  \n",
       "2  test successful.  way to go!!!                                                                                                                                                                                                                                                                                                                                                                                                                                                                                                                                                                                                                                                                                                                                                                                           \n",
       "3  Randy,\\n\\n Can you send me a schedule of the salary and level of everyone in the \\nscheduling group.  Plus your thoughts on any changes that need to be made.  \\n(Patti S for example)\\n\\nPhillip                                                                                                                                                                                                                                                                                                                                                                                                                                                                                                                                                                                                                        \n",
       "4  Let's shoot for Tuesday at 11:45.                                                                                                                                                                                                                                                                                                                                                                                                                                                                                                                                                                                                                                                                                                                                                                                        "
      ]
     },
     "execution_count": 4,
     "metadata": {},
     "output_type": "execute_result"
    }
   ],
   "source": [
    "df.head()"
   ]
  },
  {
   "cell_type": "code",
   "execution_count": 5,
   "metadata": {},
   "outputs": [
    {
     "data": {
      "text/plain": [
       "file    0\n",
       "body    0\n",
       "dtype: int64"
      ]
     },
     "execution_count": 5,
     "metadata": {},
     "output_type": "execute_result"
    }
   ],
   "source": [
    "df.isnull().sum()"
   ]
  },
  {
   "cell_type": "markdown",
   "metadata": {},
   "source": [
    "### Text Cleanup"
   ]
  },
  {
   "cell_type": "code",
   "execution_count": 6,
   "metadata": {},
   "outputs": [],
   "source": [
    "def text_preprocessing(data):\n",
    "    \n",
    "    #convert text to lower-case\n",
    "    data['tokenized_text'] = data['body'].apply(lambda x:' '.join(x.lower() for x in x.split()))\n",
    "\n",
    "    #remove punctuations, unwanted characters\n",
    "    data['tokenized_text_1']= data['tokenized_text'].apply(lambda x: \"\".join([char for char in x if char not in string.punctuation]))\n",
    "\n",
    "    #remove numbers\n",
    "    data['tokenized_text_2']= data['tokenized_text_1'].apply(lambda x: re.sub('[0-9]+', ' ' , x))\n",
    "\n",
    "    #remove stopwords\n",
    "    stop = stopwords.words('english')\n",
    "    data['tokenized_text_3']= data['tokenized_text_2'].apply(lambda x:' '.join(x for x in x.split() if not x in stop))\n",
    "\n",
    "    #lemmatization\n",
    "    data['tokenized_text_4']= data['tokenized_text_3'].apply(lambda x: \" \".join([Word(word).lemmatize() for word in x.split()]))\n",
    "\n",
    "    # remove all single characters\n",
    "    data['tokenized_text_5'] = data['tokenized_text_4'].apply(lambda x: re.sub(r'\\s+[a-zA-Z]\\s+', ' ', x))\n",
    "    \n",
    "    #create a final text field to work on\n",
    "    data['final_text'] = data['tokenized_text_5']"
   ]
  },
  {
   "cell_type": "code",
   "execution_count": 7,
   "metadata": {
    "scrolled": true
   },
   "outputs": [
    {
     "data": {
      "text/html": [
       "<div>\n",
       "<style scoped>\n",
       "    .dataframe tbody tr th:only-of-type {\n",
       "        vertical-align: middle;\n",
       "    }\n",
       "\n",
       "    .dataframe tbody tr th {\n",
       "        vertical-align: top;\n",
       "    }\n",
       "\n",
       "    .dataframe thead th {\n",
       "        text-align: right;\n",
       "    }\n",
       "</style>\n",
       "<table border=\"1\" class=\"dataframe\">\n",
       "  <thead>\n",
       "    <tr style=\"text-align: right;\">\n",
       "      <th></th>\n",
       "      <th>file</th>\n",
       "      <th>body</th>\n",
       "      <th>tokenized_text</th>\n",
       "      <th>tokenized_text_1</th>\n",
       "      <th>tokenized_text_2</th>\n",
       "      <th>tokenized_text_3</th>\n",
       "      <th>tokenized_text_4</th>\n",
       "      <th>tokenized_text_5</th>\n",
       "      <th>final_text</th>\n",
       "    </tr>\n",
       "  </thead>\n",
       "  <tbody>\n",
       "    <tr>\n",
       "      <th>0</th>\n",
       "      <td>allen-p/_sent_mail/1.</td>\n",
       "      <td>Here is our forecast\\n\\n</td>\n",
       "      <td>here is our forecast</td>\n",
       "      <td>here is our forecast</td>\n",
       "      <td>here is our forecast</td>\n",
       "      <td>forecast</td>\n",
       "      <td>forecast</td>\n",
       "      <td>forecast</td>\n",
       "      <td>forecast</td>\n",
       "    </tr>\n",
       "    <tr>\n",
       "      <th>1</th>\n",
       "      <td>allen-p/_sent_mail/10.</td>\n",
       "      <td>Traveling to have a business meeting takes the fun out of the trip.  Especially if you have to prepare a presentation.  I would suggest holding the business plan meetings here then take a trip without any formal business meetings.  I would even try and get some honest opinions on whether a trip is even desired or necessary.\\n\\nAs far as the business meetings, I think it would be more productive to try and stimulate discussions across the different groups about what is working and what is not.  Too often the presenter speaks and the others are quiet just waiting for their turn.   The meetings might be better if held in a round table discussion format.  \\n\\nMy suggestion for where to go is Austin.  Play golf and rent a ski boat and jet ski's.  Flying somewhere takes too much time.\\n</td>\n",
       "      <td>traveling to have a business meeting takes the fun out of the trip. especially if you have to prepare a presentation. i would suggest holding the business plan meetings here then take a trip without any formal business meetings. i would even try and get some honest opinions on whether a trip is even desired or necessary. as far as the business meetings, i think it would be more productive to try and stimulate discussions across the different groups about what is working and what is not. too often the presenter speaks and the others are quiet just waiting for their turn. the meetings might be better if held in a round table discussion format. my suggestion for where to go is austin. play golf and rent a ski boat and jet ski's. flying somewhere takes too much time.</td>\n",
       "      <td>traveling to have a business meeting takes the fun out of the trip especially if you have to prepare a presentation i would suggest holding the business plan meetings here then take a trip without any formal business meetings i would even try and get some honest opinions on whether a trip is even desired or necessary as far as the business meetings i think it would be more productive to try and stimulate discussions across the different groups about what is working and what is not too often the presenter speaks and the others are quiet just waiting for their turn the meetings might be better if held in a round table discussion format my suggestion for where to go is austin play golf and rent a ski boat and jet skis flying somewhere takes too much time</td>\n",
       "      <td>traveling to have a business meeting takes the fun out of the trip especially if you have to prepare a presentation i would suggest holding the business plan meetings here then take a trip without any formal business meetings i would even try and get some honest opinions on whether a trip is even desired or necessary as far as the business meetings i think it would be more productive to try and stimulate discussions across the different groups about what is working and what is not too often the presenter speaks and the others are quiet just waiting for their turn the meetings might be better if held in a round table discussion format my suggestion for where to go is austin play golf and rent a ski boat and jet skis flying somewhere takes too much time</td>\n",
       "      <td>traveling business meeting takes fun trip especially prepare presentation would suggest holding business plan meetings take trip without formal business meetings would even try get honest opinions whether trip even desired necessary far business meetings think would productive try stimulate discussions across different groups working often presenter speaks others quiet waiting turn meetings might better held round table discussion format suggestion go austin play golf rent ski boat jet skis flying somewhere takes much time</td>\n",
       "      <td>traveling business meeting take fun trip especially prepare presentation would suggest holding business plan meeting take trip without formal business meeting would even try get honest opinion whether trip even desired necessary far business meeting think would productive try stimulate discussion across different group working often presenter speaks others quiet waiting turn meeting might better held round table discussion format suggestion go austin play golf rent ski boat jet ski flying somewhere take much time</td>\n",
       "      <td>traveling business meeting take fun trip especially prepare presentation would suggest holding business plan meeting take trip without formal business meeting would even try get honest opinion whether trip even desired necessary far business meeting think would productive try stimulate discussion across different group working often presenter speaks others quiet waiting turn meeting might better held round table discussion format suggestion go austin play golf rent ski boat jet ski flying somewhere take much time</td>\n",
       "      <td>traveling business meeting take fun trip especially prepare presentation would suggest holding business plan meeting take trip without formal business meeting would even try get honest opinion whether trip even desired necessary far business meeting think would productive try stimulate discussion across different group working often presenter speaks others quiet waiting turn meeting might better held round table discussion format suggestion go austin play golf rent ski boat jet ski flying somewhere take much time</td>\n",
       "    </tr>\n",
       "    <tr>\n",
       "      <th>2</th>\n",
       "      <td>allen-p/_sent_mail/100.</td>\n",
       "      <td>test successful.  way to go!!!</td>\n",
       "      <td>test successful. way to go!!!</td>\n",
       "      <td>test successful way to go</td>\n",
       "      <td>test successful way to go</td>\n",
       "      <td>test successful way go</td>\n",
       "      <td>test successful way go</td>\n",
       "      <td>test successful way go</td>\n",
       "      <td>test successful way go</td>\n",
       "    </tr>\n",
       "    <tr>\n",
       "      <th>3</th>\n",
       "      <td>allen-p/_sent_mail/1000.</td>\n",
       "      <td>Randy,\\n\\n Can you send me a schedule of the salary and level of everyone in the \\nscheduling group.  Plus your thoughts on any changes that need to be made.  \\n(Patti S for example)\\n\\nPhillip</td>\n",
       "      <td>randy, can you send me a schedule of the salary and level of everyone in the scheduling group. plus your thoughts on any changes that need to be made. (patti s for example) phillip</td>\n",
       "      <td>randy can you send me a schedule of the salary and level of everyone in the scheduling group plus your thoughts on any changes that need to be made patti s for example phillip</td>\n",
       "      <td>randy can you send me a schedule of the salary and level of everyone in the scheduling group plus your thoughts on any changes that need to be made patti s for example phillip</td>\n",
       "      <td>randy send schedule salary level everyone scheduling group plus thoughts changes need made patti example phillip</td>\n",
       "      <td>randy send schedule salary level everyone scheduling group plus thought change need made patti example phillip</td>\n",
       "      <td>randy send schedule salary level everyone scheduling group plus thought change need made patti example phillip</td>\n",
       "      <td>randy send schedule salary level everyone scheduling group plus thought change need made patti example phillip</td>\n",
       "    </tr>\n",
       "    <tr>\n",
       "      <th>4</th>\n",
       "      <td>allen-p/_sent_mail/1001.</td>\n",
       "      <td>Let's shoot for Tuesday at 11:45.</td>\n",
       "      <td>let's shoot for tuesday at 11:45.</td>\n",
       "      <td>lets shoot for tuesday at 1145</td>\n",
       "      <td>lets shoot for tuesday at</td>\n",
       "      <td>lets shoot tuesday</td>\n",
       "      <td>let shoot tuesday</td>\n",
       "      <td>let shoot tuesday</td>\n",
       "      <td>let shoot tuesday</td>\n",
       "    </tr>\n",
       "  </tbody>\n",
       "</table>\n",
       "</div>"
      ],
      "text/plain": [
       "                       file  \\\n",
       "0  allen-p/_sent_mail/1.      \n",
       "1  allen-p/_sent_mail/10.     \n",
       "2  allen-p/_sent_mail/100.    \n",
       "3  allen-p/_sent_mail/1000.   \n",
       "4  allen-p/_sent_mail/1001.   \n",
       "\n",
       "                                                                                                                                                                                                                                                                                                                                                                                                                                                                                                                                                                                                                                                                                                                                                                                                                      body  \\\n",
       "0  Here is our forecast\\n\\n                                                                                                                                                                                                                                                                                                                                                                                                                                                                                                                                                                                                                                                                                                                                                                                                  \n",
       "1  Traveling to have a business meeting takes the fun out of the trip.  Especially if you have to prepare a presentation.  I would suggest holding the business plan meetings here then take a trip without any formal business meetings.  I would even try and get some honest opinions on whether a trip is even desired or necessary.\\n\\nAs far as the business meetings, I think it would be more productive to try and stimulate discussions across the different groups about what is working and what is not.  Too often the presenter speaks and the others are quiet just waiting for their turn.   The meetings might be better if held in a round table discussion format.  \\n\\nMy suggestion for where to go is Austin.  Play golf and rent a ski boat and jet ski's.  Flying somewhere takes too much time.\\n   \n",
       "2  test successful.  way to go!!!                                                                                                                                                                                                                                                                                                                                                                                                                                                                                                                                                                                                                                                                                                                                                                                            \n",
       "3  Randy,\\n\\n Can you send me a schedule of the salary and level of everyone in the \\nscheduling group.  Plus your thoughts on any changes that need to be made.  \\n(Patti S for example)\\n\\nPhillip                                                                                                                                                                                                                                                                                                                                                                                                                                                                                                                                                                                                                         \n",
       "4  Let's shoot for Tuesday at 11:45.                                                                                                                                                                                                                                                                                                                                                                                                                                                                                                                                                                                                                                                                                                                                                                                         \n",
       "\n",
       "                                                                                                                                                                                                                                                                                                                                                                                                                                                                                                                                                                                                                                                                                                                                                                                          tokenized_text  \\\n",
       "0  here is our forecast                                                                                                                                                                                                                                                                                                                                                                                                                                                                                                                                                                                                                                                                                                                                                                                    \n",
       "1  traveling to have a business meeting takes the fun out of the trip. especially if you have to prepare a presentation. i would suggest holding the business plan meetings here then take a trip without any formal business meetings. i would even try and get some honest opinions on whether a trip is even desired or necessary. as far as the business meetings, i think it would be more productive to try and stimulate discussions across the different groups about what is working and what is not. too often the presenter speaks and the others are quiet just waiting for their turn. the meetings might be better if held in a round table discussion format. my suggestion for where to go is austin. play golf and rent a ski boat and jet ski's. flying somewhere takes too much time.   \n",
       "2  test successful. way to go!!!                                                                                                                                                                                                                                                                                                                                                                                                                                                                                                                                                                                                                                                                                                                                                                           \n",
       "3  randy, can you send me a schedule of the salary and level of everyone in the scheduling group. plus your thoughts on any changes that need to be made. (patti s for example) phillip                                                                                                                                                                                                                                                                                                                                                                                                                                                                                                                                                                                                                    \n",
       "4  let's shoot for tuesday at 11:45.                                                                                                                                                                                                                                                                                                                                                                                                                                                                                                                                                                                                                                                                                                                                                                       \n",
       "\n",
       "                                                                                                                                                                                                                                                                                                                                                                                                                                                                                                                                                                                                                                                                                                                                                                            tokenized_text_1  \\\n",
       "0  here is our forecast                                                                                                                                                                                                                                                                                                                                                                                                                                                                                                                                                                                                                                                                                                                                                                        \n",
       "1  traveling to have a business meeting takes the fun out of the trip especially if you have to prepare a presentation i would suggest holding the business plan meetings here then take a trip without any formal business meetings i would even try and get some honest opinions on whether a trip is even desired or necessary as far as the business meetings i think it would be more productive to try and stimulate discussions across the different groups about what is working and what is not too often the presenter speaks and the others are quiet just waiting for their turn the meetings might be better if held in a round table discussion format my suggestion for where to go is austin play golf and rent a ski boat and jet skis flying somewhere takes too much time   \n",
       "2  test successful way to go                                                                                                                                                                                                                                                                                                                                                                                                                                                                                                                                                                                                                                                                                                                                                                   \n",
       "3  randy can you send me a schedule of the salary and level of everyone in the scheduling group plus your thoughts on any changes that need to be made patti s for example phillip                                                                                                                                                                                                                                                                                                                                                                                                                                                                                                                                                                                                             \n",
       "4  lets shoot for tuesday at 1145                                                                                                                                                                                                                                                                                                                                                                                                                                                                                                                                                                                                                                                                                                                                                              \n",
       "\n",
       "                                                                                                                                                                                                                                                                                                                                                                                                                                                                                                                                                                                                                                                                                                                                                                            tokenized_text_2  \\\n",
       "0  here is our forecast                                                                                                                                                                                                                                                                                                                                                                                                                                                                                                                                                                                                                                                                                                                                                                        \n",
       "1  traveling to have a business meeting takes the fun out of the trip especially if you have to prepare a presentation i would suggest holding the business plan meetings here then take a trip without any formal business meetings i would even try and get some honest opinions on whether a trip is even desired or necessary as far as the business meetings i think it would be more productive to try and stimulate discussions across the different groups about what is working and what is not too often the presenter speaks and the others are quiet just waiting for their turn the meetings might be better if held in a round table discussion format my suggestion for where to go is austin play golf and rent a ski boat and jet skis flying somewhere takes too much time   \n",
       "2  test successful way to go                                                                                                                                                                                                                                                                                                                                                                                                                                                                                                                                                                                                                                                                                                                                                                   \n",
       "3  randy can you send me a schedule of the salary and level of everyone in the scheduling group plus your thoughts on any changes that need to be made patti s for example phillip                                                                                                                                                                                                                                                                                                                                                                                                                                                                                                                                                                                                             \n",
       "4  lets shoot for tuesday at                                                                                                                                                                                                                                                                                                                                                                                                                                                                                                                                                                                                                                                                                                                                                                   \n",
       "\n",
       "                                                                                                                                                                                                                                                                                                                                                                                                                                                                                                                                   tokenized_text_3  \\\n",
       "0  forecast                                                                                                                                                                                                                                                                                                                                                                                                                                                                                                                                           \n",
       "1  traveling business meeting takes fun trip especially prepare presentation would suggest holding business plan meetings take trip without formal business meetings would even try get honest opinions whether trip even desired necessary far business meetings think would productive try stimulate discussions across different groups working often presenter speaks others quiet waiting turn meetings might better held round table discussion format suggestion go austin play golf rent ski boat jet skis flying somewhere takes much time   \n",
       "2  test successful way go                                                                                                                                                                                                                                                                                                                                                                                                                                                                                                                             \n",
       "3  randy send schedule salary level everyone scheduling group plus thoughts changes need made patti example phillip                                                                                                                                                                                                                                                                                                                                                                                                                                   \n",
       "4  lets shoot tuesday                                                                                                                                                                                                                                                                                                                                                                                                                                                                                                                                 \n",
       "\n",
       "                                                                                                                                                                                                                                                                                                                                                                                                                                                                                                                         tokenized_text_4  \\\n",
       "0  forecast                                                                                                                                                                                                                                                                                                                                                                                                                                                                                                                                 \n",
       "1  traveling business meeting take fun trip especially prepare presentation would suggest holding business plan meeting take trip without formal business meeting would even try get honest opinion whether trip even desired necessary far business meeting think would productive try stimulate discussion across different group working often presenter speaks others quiet waiting turn meeting might better held round table discussion format suggestion go austin play golf rent ski boat jet ski flying somewhere take much time   \n",
       "2  test successful way go                                                                                                                                                                                                                                                                                                                                                                                                                                                                                                                   \n",
       "3  randy send schedule salary level everyone scheduling group plus thought change need made patti example phillip                                                                                                                                                                                                                                                                                                                                                                                                                           \n",
       "4  let shoot tuesday                                                                                                                                                                                                                                                                                                                                                                                                                                                                                                                        \n",
       "\n",
       "                                                                                                                                                                                                                                                                                                                                                                                                                                                                                                                         tokenized_text_5  \\\n",
       "0  forecast                                                                                                                                                                                                                                                                                                                                                                                                                                                                                                                                 \n",
       "1  traveling business meeting take fun trip especially prepare presentation would suggest holding business plan meeting take trip without formal business meeting would even try get honest opinion whether trip even desired necessary far business meeting think would productive try stimulate discussion across different group working often presenter speaks others quiet waiting turn meeting might better held round table discussion format suggestion go austin play golf rent ski boat jet ski flying somewhere take much time   \n",
       "2  test successful way go                                                                                                                                                                                                                                                                                                                                                                                                                                                                                                                   \n",
       "3  randy send schedule salary level everyone scheduling group plus thought change need made patti example phillip                                                                                                                                                                                                                                                                                                                                                                                                                           \n",
       "4  let shoot tuesday                                                                                                                                                                                                                                                                                                                                                                                                                                                                                                                        \n",
       "\n",
       "                                                                                                                                                                                                                                                                                                                                                                                                                                                                                                                               final_text  \n",
       "0  forecast                                                                                                                                                                                                                                                                                                                                                                                                                                                                                                                                \n",
       "1  traveling business meeting take fun trip especially prepare presentation would suggest holding business plan meeting take trip without formal business meeting would even try get honest opinion whether trip even desired necessary far business meeting think would productive try stimulate discussion across different group working often presenter speaks others quiet waiting turn meeting might better held round table discussion format suggestion go austin play golf rent ski boat jet ski flying somewhere take much time  \n",
       "2  test successful way go                                                                                                                                                                                                                                                                                                                                                                                                                                                                                                                  \n",
       "3  randy send schedule salary level everyone scheduling group plus thought change need made patti example phillip                                                                                                                                                                                                                                                                                                                                                                                                                          \n",
       "4  let shoot tuesday                                                                                                                                                                                                                                                                                                                                                                                                                                                                                                                       "
      ]
     },
     "execution_count": 7,
     "metadata": {},
     "output_type": "execute_result"
    }
   ],
   "source": [
    "#pre-processing or cleaning data\n",
    "\n",
    "text_preprocessing(df)\n",
    "\n",
    "df.head()"
   ]
  },
  {
   "cell_type": "markdown",
   "metadata": {},
   "source": [
    "### Extracting names of senders"
   ]
  },
  {
   "cell_type": "code",
   "execution_count": 8,
   "metadata": {
    "scrolled": true
   },
   "outputs": [],
   "source": [
    "df['name'] = df['file'].str.split('/').str[0]\n",
    "#df.head()"
   ]
  },
  {
   "cell_type": "code",
   "execution_count": 9,
   "metadata": {},
   "outputs": [],
   "source": [
    "sender_names = df['name'].value_counts().sort_values(ascending=False)"
   ]
  },
  {
   "cell_type": "markdown",
   "metadata": {},
   "source": [
    "### Top 10 email senders"
   ]
  },
  {
   "cell_type": "code",
   "execution_count": 10,
   "metadata": {
    "scrolled": true
   },
   "outputs": [
    {
     "data": {
      "text/plain": [
       "mann-k          8926\n",
       "kaminski-v      8644\n",
       "dasovich-j      5366\n",
       "germany-c       5128\n",
       "shackleton-s    4407\n",
       "jones-t         4123\n",
       "bass-e          3030\n",
       "lenhart-m       2759\n",
       "beck-s          2674\n",
       "symes-k         2649\n",
       "Name: name, dtype: int64"
      ]
     },
     "execution_count": 10,
     "metadata": {},
     "output_type": "execute_result"
    }
   ],
   "source": [
    "top10_sender_names = sender_names.nlargest(10)\n",
    "top10_sender_names"
   ]
  },
  {
   "cell_type": "code",
   "execution_count": 11,
   "metadata": {},
   "outputs": [],
   "source": [
    "top50_sender_names = sender_names.nlargest(50)"
   ]
  },
  {
   "cell_type": "code",
   "execution_count": 12,
   "metadata": {
    "scrolled": false
   },
   "outputs": [
    {
     "data": {
      "text/plain": [
       "Text(0.5, 1.0, 'Email sent by senders')"
      ]
     },
     "execution_count": 12,
     "metadata": {},
     "output_type": "execute_result"
    },
    {
     "data": {
      "image/png": "[encoded data removed]",
      "text/plain": [
       "<Figure size 1080x432 with 1 Axes>"
      ]
     },
     "metadata": {
      "needs_background": "light"
     },
     "output_type": "display_data"
    }
   ],
   "source": [
    "#visualization\n",
    "f, ax = plt.subplots(figsize=(15, 6))\n",
    "plt.xticks(rotation='90')\n",
    "sns.barplot(x=top50_sender_names.index, y=top50_sender_names)\n",
    "plt.xlabel('Senders', fontsize=15)\n",
    "plt.ylabel('Email count', fontsize=15)\n",
    "plt.title('Email sent by senders', fontsize=15)"
   ]
  },
  {
   "cell_type": "code",
   "execution_count": 13,
   "metadata": {
    "scrolled": false
   },
   "outputs": [
    {
     "data": {
      "text/plain": [
       "merriss-s         3 \n",
       "phanis-s          4 \n",
       "linder-e          6 \n",
       "meyers-a          11\n",
       "motley-m          13\n",
       "shapiro-r         13\n",
       "bailey-s          14\n",
       "gilbertsmith-d    15\n",
       "king-j            19\n",
       "panus-s           26\n",
       "benson-r          32\n",
       "ermis-f           34\n",
       "holst-k           36\n",
       "saibi-e           39\n",
       "griffith-j        40\n",
       "south-s           42\n",
       "dean-c            44\n",
       "slinger-r         48\n",
       "ring-r            51\n",
       "donohoe-t         52\n",
       "Name: name, dtype: int64"
      ]
     },
     "execution_count": 13,
     "metadata": {},
     "output_type": "execute_result"
    }
   ],
   "source": [
    "smallest20_sender_names = sender_names.nsmallest(20)\n",
    "smallest20_sender_names"
   ]
  },
  {
   "cell_type": "code",
   "execution_count": 14,
   "metadata": {},
   "outputs": [],
   "source": [
    "def vectorization(data):\n",
    "\n",
    "#     tf=TfidfVectorizer( min_df=10 \n",
    "#                        , max_df=0.7\n",
    "#                        , lowercase=True \n",
    "#                        , ngram_range=(0, 2) )\n",
    "    t0 = time()\n",
    "    tf=TfidfVectorizer( min_df=.01 , max_df=0.50 , ngram_range=(0, 3))\n",
    "    tfidf_dtm = tf.fit_transform(data)\n",
    "    print(\"done in %0.3fs\" % (time() - t0))\n",
    "    return tfidf_dtm, tf"
   ]
  },
  {
   "cell_type": "code",
   "execution_count": 15,
   "metadata": {},
   "outputs": [
    {
     "name": "stdout",
     "output_type": "stream",
     "text": [
      "done in 83.075s\n",
      "Shape of document term matrix :  (126846, 1562)\n"
     ]
    }
   ],
   "source": [
    "#build a vector from the txt data\n",
    "\n",
    "tfidf_dtm , tf = vectorization(df['final_text'])\n",
    "\n",
    "tfidf_dtm = tfidf_dtm.toarray()\n",
    "print('Shape of document term matrix : ', tfidf_dtm.shape)"
   ]
  },
  {
   "cell_type": "code",
   "execution_count": 16,
   "metadata": {},
   "outputs": [],
   "source": [
    "# df['tfidf'] = list(tfidf_dtm)"
   ]
  },
  {
   "cell_type": "markdown",
   "metadata": {},
   "source": [
    "### PCA"
   ]
  },
  {
   "cell_type": "code",
   "execution_count": 17,
   "metadata": {},
   "outputs": [],
   "source": [
    "from sklearn.decomposition import PCA\n",
    "\n",
    "pca = PCA(n_components=50)\n",
    "pca_dtm = pca.fit_transform(tfidf_dtm)\n",
    "# X_test = pca.transform(X_test)"
   ]
  },
  {
   "cell_type": "code",
   "execution_count": 18,
   "metadata": {},
   "outputs": [
    {
     "data": {
      "text/plain": [
       "(126846, 50)"
      ]
     },
     "execution_count": 18,
     "metadata": {},
     "output_type": "execute_result"
    }
   ],
   "source": [
    "pca_dtm.shape"
   ]
  },
  {
   "cell_type": "code",
   "execution_count": 19,
   "metadata": {},
   "outputs": [],
   "source": [
    "df['pca'] = list(pca_dtm)"
   ]
  },
  {
   "cell_type": "code",
   "execution_count": 20,
   "metadata": {},
   "outputs": [
    {
     "data": {
      "text/html": [
       "<div>\n",
       "<style scoped>\n",
       "    .dataframe tbody tr th:only-of-type {\n",
       "        vertical-align: middle;\n",
       "    }\n",
       "\n",
       "    .dataframe tbody tr th {\n",
       "        vertical-align: top;\n",
       "    }\n",
       "\n",
       "    .dataframe thead th {\n",
       "        text-align: right;\n",
       "    }\n",
       "</style>\n",
       "<table border=\"1\" class=\"dataframe\">\n",
       "  <thead>\n",
       "    <tr style=\"text-align: right;\">\n",
       "      <th></th>\n",
       "      <th>file</th>\n",
       "      <th>body</th>\n",
       "      <th>tokenized_text</th>\n",
       "      <th>tokenized_text_1</th>\n",
       "      <th>tokenized_text_2</th>\n",
       "      <th>tokenized_text_3</th>\n",
       "      <th>tokenized_text_4</th>\n",
       "      <th>tokenized_text_5</th>\n",
       "      <th>final_text</th>\n",
       "      <th>name</th>\n",
       "      <th>pca</th>\n",
       "    </tr>\n",
       "  </thead>\n",
       "  <tbody>\n",
       "    <tr>\n",
       "      <th>0</th>\n",
       "      <td>allen-p/_sent_mail/1.</td>\n",
       "      <td>Here is our forecast\\n\\n</td>\n",
       "      <td>here is our forecast</td>\n",
       "      <td>here is our forecast</td>\n",
       "      <td>here is our forecast</td>\n",
       "      <td>forecast</td>\n",
       "      <td>forecast</td>\n",
       "      <td>forecast</td>\n",
       "      <td>forecast</td>\n",
       "      <td>allen-p</td>\n",
       "      <td>[0.00773993032305268, -0.051222287483423806, -0.02141581394682431, 0.003703724760825261, 0.006407716988075604, -0.01712667378906348, -0.05537584942860532, -0.12876271011165097, -0.017023998616968242, -0.008933291860998643, 0.003505645083965422, -0.03195525466069875, -0.012412609840863172, -0.011747577736143633, -0.003908520646197675, -0.015221413530081626, -0.06129690158008125, 0.005063334977019782, -0.005407083453184575, 0.004238351568001142, 0.0006787083890343313, 0.013004384535705587, 0.025996858274670884, 0.013540317077700002, 0.013328450977094253, 0.009401884808056888, -0.012053827465694649, 0.007800553480623032, -0.014017626505497885, -0.0018229789551612874, -0.008550576384633801, -0.015001100568448082, 0.0029622156662290683, -0.012111397280347626, -0.010500249528671285, -0.010289923298720647, -0.0012810852124745995, 0.0023575643155862333, -0.0036875702636947547, -0.006159880203656851, 0.0001262404132382247, -0.015423200853725644, -0.007198943177551116, -0.013680432863407116, -0.009721473565757217, -0.006792690033864189, 0.0021477258031954824, 0.0017547116431218895, -0.000453881067332907, -0.0010616689383420534]</td>\n",
       "    </tr>\n",
       "    <tr>\n",
       "      <th>1</th>\n",
       "      <td>allen-p/_sent_mail/10.</td>\n",
       "      <td>Traveling to have a business meeting takes the fun out of the trip.  Especially if you have to prepare a presentation.  I would suggest holding the business plan meetings here then take a trip without any formal business meetings.  I would even try and get some honest opinions on whether a trip is even desired or necessary.\\n\\nAs far as the business meetings, I think it would be more productive to try and stimulate discussions across the different groups about what is working and what is not.  Too often the presenter speaks and the others are quiet just waiting for their turn.   The meetings might be better if held in a round table discussion format.  \\n\\nMy suggestion for where to go is Austin.  Play golf and rent a ski boat and jet ski's.  Flying somewhere takes too much time.\\n</td>\n",
       "      <td>traveling to have a business meeting takes the fun out of the trip. especially if you have to prepare a presentation. i would suggest holding the business plan meetings here then take a trip without any formal business meetings. i would even try and get some honest opinions on whether a trip is even desired or necessary. as far as the business meetings, i think it would be more productive to try and stimulate discussions across the different groups about what is working and what is not. too often the presenter speaks and the others are quiet just waiting for their turn. the meetings might be better if held in a round table discussion format. my suggestion for where to go is austin. play golf and rent a ski boat and jet ski's. flying somewhere takes too much time.</td>\n",
       "      <td>traveling to have a business meeting takes the fun out of the trip especially if you have to prepare a presentation i would suggest holding the business plan meetings here then take a trip without any formal business meetings i would even try and get some honest opinions on whether a trip is even desired or necessary as far as the business meetings i think it would be more productive to try and stimulate discussions across the different groups about what is working and what is not too often the presenter speaks and the others are quiet just waiting for their turn the meetings might be better if held in a round table discussion format my suggestion for where to go is austin play golf and rent a ski boat and jet skis flying somewhere takes too much time</td>\n",
       "      <td>traveling to have a business meeting takes the fun out of the trip especially if you have to prepare a presentation i would suggest holding the business plan meetings here then take a trip without any formal business meetings i would even try and get some honest opinions on whether a trip is even desired or necessary as far as the business meetings i think it would be more productive to try and stimulate discussions across the different groups about what is working and what is not too often the presenter speaks and the others are quiet just waiting for their turn the meetings might be better if held in a round table discussion format my suggestion for where to go is austin play golf and rent a ski boat and jet skis flying somewhere takes too much time</td>\n",
       "      <td>traveling business meeting takes fun trip especially prepare presentation would suggest holding business plan meetings take trip without formal business meetings would even try get honest opinions whether trip even desired necessary far business meetings think would productive try stimulate discussions across different groups working often presenter speaks others quiet waiting turn meetings might better held round table discussion format suggestion go austin play golf rent ski boat jet skis flying somewhere takes much time</td>\n",
       "      <td>traveling business meeting take fun trip especially prepare presentation would suggest holding business plan meeting take trip without formal business meeting would even try get honest opinion whether trip even desired necessary far business meeting think would productive try stimulate discussion across different group working often presenter speaks others quiet waiting turn meeting might better held round table discussion format suggestion go austin play golf rent ski boat jet ski flying somewhere take much time</td>\n",
       "      <td>traveling business meeting take fun trip especially prepare presentation would suggest holding business plan meeting take trip without formal business meeting would even try get honest opinion whether trip even desired necessary far business meeting think would productive try stimulate discussion across different group working often presenter speaks others quiet waiting turn meeting might better held round table discussion format suggestion go austin play golf rent ski boat jet ski flying somewhere take much time</td>\n",
       "      <td>traveling business meeting take fun trip especially prepare presentation would suggest holding business plan meeting take trip without formal business meeting would even try get honest opinion whether trip even desired necessary far business meeting think would productive try stimulate discussion across different group working often presenter speaks others quiet waiting turn meeting might better held round table discussion format suggestion go austin play golf rent ski boat jet ski flying somewhere take much time</td>\n",
       "      <td>allen-p</td>\n",
       "      <td>[-0.04504139659282613, -0.061750849195010914, -0.0540447256867982, 0.11345946869850922, -0.08579813377483737, -0.01117906070865922, 0.08766075000716204, 0.03278110153973106, 0.031866512359369346, -0.004308815300236753, -0.11272826173558684, -0.005842777771687333, 0.1379504123652227, -0.029773158485364354, -0.027685805580671304, -0.10562262185801842, -0.08937168454145417, -0.09839576052177107, -0.0911742113182823, -0.01204981173218987, -0.12771195030057847, 0.012887506082750258, 0.026602508842645783, 0.07786137731238062, -0.05324211355854488, -0.042318317470970916, -0.05930896129802385, -0.06203436090055445, -0.09400217271957342, 0.12084440573461598, -0.034419240275983684, 0.019249000270750823, -0.017284112139405155, 0.03560070345273908, -0.01814588899304745, -0.0444861500609854, -0.005297013829295605, -0.06297503767990412, 0.034564445551767554, -0.017672767413449485, -0.02933623438916249, 0.00548182749545095, 0.013342523306975027, 0.034191012472594, 0.010151955461478799, -0.014796212063336093, -0.0582060548650764, -0.021470064789654967, -0.0298102256098386, -0.03134664087142798]</td>\n",
       "    </tr>\n",
       "    <tr>\n",
       "      <th>2</th>\n",
       "      <td>allen-p/_sent_mail/100.</td>\n",
       "      <td>test successful.  way to go!!!</td>\n",
       "      <td>test successful. way to go!!!</td>\n",
       "      <td>test successful way to go</td>\n",
       "      <td>test successful way to go</td>\n",
       "      <td>test successful way go</td>\n",
       "      <td>test successful way go</td>\n",
       "      <td>test successful way go</td>\n",
       "      <td>test successful way go</td>\n",
       "      <td>allen-p</td>\n",
       "      <td>[-0.01527215564862108, -0.05755693975350933, -0.07349131372974475, 0.04195595719115024, -0.03198921797797891, -0.011222737975323168, -0.06631111497014053, -0.09976712183848299, 0.01561764333022685, -0.019197776093065447, 0.03793832633384859, -0.02190437016702573, -0.03709576672759171, -0.013624176672369152, -0.020957272218123997, -0.01606360234719227, -0.0531695713888124, -0.0017397321818894901, 0.004178517933253316, 0.009973553890417352, -0.005641794318151482, -0.005303652515050103, 0.01985723784031771, 0.02986861228706301, 0.02385485211393587, 0.0005897667352177985, 0.016565554435535732, 0.00390808053437054, -0.054048964946857125, 0.03294862426932232, -0.023960108484087608, -0.005156374427046727, 0.01985903706026982, -0.010935460735946782, 0.01713155701337745, 0.005799713877046555, -0.010246584696478643, -0.01732329127594343, 0.06751283439137032, -0.012803728627594605, -0.0999067051715088, -0.002725789863120301, 0.04438584986155001, 0.05391379609245725, 0.014873569279903501, -0.04805670534488974, -0.07365438528819719, 0.01567023269268597, 0.011707208056217538, -0.048943423788781484]</td>\n",
       "    </tr>\n",
       "    <tr>\n",
       "      <th>3</th>\n",
       "      <td>allen-p/_sent_mail/1000.</td>\n",
       "      <td>Randy,\\n\\n Can you send me a schedule of the salary and level of everyone in the \\nscheduling group.  Plus your thoughts on any changes that need to be made.  \\n(Patti S for example)\\n\\nPhillip</td>\n",
       "      <td>randy, can you send me a schedule of the salary and level of everyone in the scheduling group. plus your thoughts on any changes that need to be made. (patti s for example) phillip</td>\n",
       "      <td>randy can you send me a schedule of the salary and level of everyone in the scheduling group plus your thoughts on any changes that need to be made patti s for example phillip</td>\n",
       "      <td>randy can you send me a schedule of the salary and level of everyone in the scheduling group plus your thoughts on any changes that need to be made patti s for example phillip</td>\n",
       "      <td>randy send schedule salary level everyone scheduling group plus thoughts changes need made patti example phillip</td>\n",
       "      <td>randy send schedule salary level everyone scheduling group plus thought change need made patti example phillip</td>\n",
       "      <td>randy send schedule salary level everyone scheduling group plus thought change need made patti example phillip</td>\n",
       "      <td>randy send schedule salary level everyone scheduling group plus thought change need made patti example phillip</td>\n",
       "      <td>allen-p</td>\n",
       "      <td>[-0.011342158840084639, -0.05778514694848771, -0.01790654725779986, -0.004993802755113803, -0.013709883193696194, -0.015045559167105892, 0.014493616869349015, -0.07803052532980954, -0.026930739559327684, -0.004967099168370756, -0.010881340704144298, -0.020817242303709682, -0.025233846146011523, 0.021661753863238466, -0.019910982499926518, -0.02629380336191755, -0.030074634953355515, -0.032170943634642964, -0.018214472177246564, 0.04352923562430001, 0.008676169693110237, -0.03620096140192987, 0.06898637342804928, 0.024967084665230503, -0.05507691566370825, -0.04976154180865983, 0.05574674240197432, -0.02171818302364354, 0.024491003903290485, -0.025282802520139622, 0.01791081564778786, 0.03592402906214627, 0.009797399385810247, 0.028138454852320596, 0.006923421445815651, 0.02674739258167408, -0.00579628285805898, -0.04195745644682356, 0.020762936813710216, -0.0664568313078339, 0.01435026233343188, 0.005347622773705713, 0.02889446758352176, -0.03621580613310695, 0.027519908157478363, -0.04191125825491435, -0.04174548076662855, -0.0272853550840343, 0.08830923116193516, 0.003674252299517175]</td>\n",
       "    </tr>\n",
       "    <tr>\n",
       "      <th>4</th>\n",
       "      <td>allen-p/_sent_mail/1001.</td>\n",
       "      <td>Let's shoot for Tuesday at 11:45.</td>\n",
       "      <td>let's shoot for tuesday at 11:45.</td>\n",
       "      <td>lets shoot for tuesday at 1145</td>\n",
       "      <td>lets shoot for tuesday at</td>\n",
       "      <td>lets shoot tuesday</td>\n",
       "      <td>let shoot tuesday</td>\n",
       "      <td>let shoot tuesday</td>\n",
       "      <td>let shoot tuesday</td>\n",
       "      <td>allen-p</td>\n",
       "      <td>[-0.03799946406098509, 0.009294446642952509, -0.07561172621972487, 0.026926015151652924, 0.045442896296021815, -0.034875265033194026, -0.052087180773250065, 0.0657057005083749, -0.13964254619085936, 0.13413783590938588, 0.010141998044861189, -0.0760925808740126, -0.08145459760175389, -0.04807993966054905, 0.0026282447540976546, -0.010202017262393202, -0.1598145113693391, 0.05400975325725362, 0.0019180092589992188, -0.028034250370413214, 0.011853602943648327, 0.015516268983170566, 0.007306666858097131, 0.02356889074513577, 0.021835898487752355, 0.016685448254142105, -0.04094575775120231, 0.019555881003648145, 0.0106337523223395, 0.008229991405277366, -0.007422671845782953, -0.07065585324424783, 0.0033808346081012205, 0.0018436299695930411, 6.23205214385946e-05, -0.03840124840045465, -0.07107730347174634, 0.016367842071011354, -0.044114419077605986, 0.0743315527910237, 0.11552957114316824, -0.12349382010934415, -0.08493865934511234, 0.11660692366561735, 0.09201449116284675, -0.08998497347279917, -0.10397971627456189, -0.09212705153538077, -0.06946733908613614, -0.024427558221878105]</td>\n",
       "    </tr>\n",
       "  </tbody>\n",
       "</table>\n",
       "</div>"
      ],
      "text/plain": [
       "                       file  \\\n",
       "0  allen-p/_sent_mail/1.      \n",
       "1  allen-p/_sent_mail/10.     \n",
       "2  allen-p/_sent_mail/100.    \n",
       "3  allen-p/_sent_mail/1000.   \n",
       "4  allen-p/_sent_mail/1001.   \n",
       "\n",
       "                                                                                                                                                                                                                                                                                                                                                                                                                                                                                                                                                                                                                                                                                                                                                                                                                      body  \\\n",
       "0  Here is our forecast\\n\\n                                                                                                                                                                                                                                                                                                                                                                                                                                                                                                                                                                                                                                                                                                                                                                                                  \n",
       "1  Traveling to have a business meeting takes the fun out of the trip.  Especially if you have to prepare a presentation.  I would suggest holding the business plan meetings here then take a trip without any formal business meetings.  I would even try and get some honest opinions on whether a trip is even desired or necessary.\\n\\nAs far as the business meetings, I think it would be more productive to try and stimulate discussions across the different groups about what is working and what is not.  Too often the presenter speaks and the others are quiet just waiting for their turn.   The meetings might be better if held in a round table discussion format.  \\n\\nMy suggestion for where to go is Austin.  Play golf and rent a ski boat and jet ski's.  Flying somewhere takes too much time.\\n   \n",
       "2  test successful.  way to go!!!                                                                                                                                                                                                                                                                                                                                                                                                                                                                                                                                                                                                                                                                                                                                                                                            \n",
       "3  Randy,\\n\\n Can you send me a schedule of the salary and level of everyone in the \\nscheduling group.  Plus your thoughts on any changes that need to be made.  \\n(Patti S for example)\\n\\nPhillip                                                                                                                                                                                                                                                                                                                                                                                                                                                                                                                                                                                                                         \n",
       "4  Let's shoot for Tuesday at 11:45.                                                                                                                                                                                                                                                                                                                                                                                                                                                                                                                                                                                                                                                                                                                                                                                         \n",
       "\n",
       "                                                                                                                                                                                                                                                                                                                                                                                                                                                                                                                                                                                                                                                                                                                                                                                          tokenized_text  \\\n",
       "0  here is our forecast                                                                                                                                                                                                                                                                                                                                                                                                                                                                                                                                                                                                                                                                                                                                                                                    \n",
       "1  traveling to have a business meeting takes the fun out of the trip. especially if you have to prepare a presentation. i would suggest holding the business plan meetings here then take a trip without any formal business meetings. i would even try and get some honest opinions on whether a trip is even desired or necessary. as far as the business meetings, i think it would be more productive to try and stimulate discussions across the different groups about what is working and what is not. too often the presenter speaks and the others are quiet just waiting for their turn. the meetings might be better if held in a round table discussion format. my suggestion for where to go is austin. play golf and rent a ski boat and jet ski's. flying somewhere takes too much time.   \n",
       "2  test successful. way to go!!!                                                                                                                                                                                                                                                                                                                                                                                                                                                                                                                                                                                                                                                                                                                                                                           \n",
       "3  randy, can you send me a schedule of the salary and level of everyone in the scheduling group. plus your thoughts on any changes that need to be made. (patti s for example) phillip                                                                                                                                                                                                                                                                                                                                                                                                                                                                                                                                                                                                                    \n",
       "4  let's shoot for tuesday at 11:45.                                                                                                                                                                                                                                                                                                                                                                                                                                                                                                                                                                                                                                                                                                                                                                       \n",
       "\n",
       "                                                                                                                                                                                                                                                                                                                                                                                                                                                                                                                                                                                                                                                                                                                                                                            tokenized_text_1  \\\n",
       "0  here is our forecast                                                                                                                                                                                                                                                                                                                                                                                                                                                                                                                                                                                                                                                                                                                                                                        \n",
       "1  traveling to have a business meeting takes the fun out of the trip especially if you have to prepare a presentation i would suggest holding the business plan meetings here then take a trip without any formal business meetings i would even try and get some honest opinions on whether a trip is even desired or necessary as far as the business meetings i think it would be more productive to try and stimulate discussions across the different groups about what is working and what is not too often the presenter speaks and the others are quiet just waiting for their turn the meetings might be better if held in a round table discussion format my suggestion for where to go is austin play golf and rent a ski boat and jet skis flying somewhere takes too much time   \n",
       "2  test successful way to go                                                                                                                                                                                                                                                                                                                                                                                                                                                                                                                                                                                                                                                                                                                                                                   \n",
       "3  randy can you send me a schedule of the salary and level of everyone in the scheduling group plus your thoughts on any changes that need to be made patti s for example phillip                                                                                                                                                                                                                                                                                                                                                                                                                                                                                                                                                                                                             \n",
       "4  lets shoot for tuesday at 1145                                                                                                                                                                                                                                                                                                                                                                                                                                                                                                                                                                                                                                                                                                                                                              \n",
       "\n",
       "                                                                                                                                                                                                                                                                                                                                                                                                                                                                                                                                                                                                                                                                                                                                                                            tokenized_text_2  \\\n",
       "0  here is our forecast                                                                                                                                                                                                                                                                                                                                                                                                                                                                                                                                                                                                                                                                                                                                                                        \n",
       "1  traveling to have a business meeting takes the fun out of the trip especially if you have to prepare a presentation i would suggest holding the business plan meetings here then take a trip without any formal business meetings i would even try and get some honest opinions on whether a trip is even desired or necessary as far as the business meetings i think it would be more productive to try and stimulate discussions across the different groups about what is working and what is not too often the presenter speaks and the others are quiet just waiting for their turn the meetings might be better if held in a round table discussion format my suggestion for where to go is austin play golf and rent a ski boat and jet skis flying somewhere takes too much time   \n",
       "2  test successful way to go                                                                                                                                                                                                                                                                                                                                                                                                                                                                                                                                                                                                                                                                                                                                                                   \n",
       "3  randy can you send me a schedule of the salary and level of everyone in the scheduling group plus your thoughts on any changes that need to be made patti s for example phillip                                                                                                                                                                                                                                                                                                                                                                                                                                                                                                                                                                                                             \n",
       "4  lets shoot for tuesday at                                                                                                                                                                                                                                                                                                                                                                                                                                                                                                                                                                                                                                                                                                                                                                   \n",
       "\n",
       "                                                                                                                                                                                                                                                                                                                                                                                                                                                                                                                                   tokenized_text_3  \\\n",
       "0  forecast                                                                                                                                                                                                                                                                                                                                                                                                                                                                                                                                           \n",
       "1  traveling business meeting takes fun trip especially prepare presentation would suggest holding business plan meetings take trip without formal business meetings would even try get honest opinions whether trip even desired necessary far business meetings think would productive try stimulate discussions across different groups working often presenter speaks others quiet waiting turn meetings might better held round table discussion format suggestion go austin play golf rent ski boat jet skis flying somewhere takes much time   \n",
       "2  test successful way go                                                                                                                                                                                                                                                                                                                                                                                                                                                                                                                             \n",
       "3  randy send schedule salary level everyone scheduling group plus thoughts changes need made patti example phillip                                                                                                                                                                                                                                                                                                                                                                                                                                   \n",
       "4  lets shoot tuesday                                                                                                                                                                                                                                                                                                                                                                                                                                                                                                                                 \n",
       "\n",
       "                                                                                                                                                                                                                                                                                                                                                                                                                                                                                                                         tokenized_text_4  \\\n",
       "0  forecast                                                                                                                                                                                                                                                                                                                                                                                                                                                                                                                                 \n",
       "1  traveling business meeting take fun trip especially prepare presentation would suggest holding business plan meeting take trip without formal business meeting would even try get honest opinion whether trip even desired necessary far business meeting think would productive try stimulate discussion across different group working often presenter speaks others quiet waiting turn meeting might better held round table discussion format suggestion go austin play golf rent ski boat jet ski flying somewhere take much time   \n",
       "2  test successful way go                                                                                                                                                                                                                                                                                                                                                                                                                                                                                                                   \n",
       "3  randy send schedule salary level everyone scheduling group plus thought change need made patti example phillip                                                                                                                                                                                                                                                                                                                                                                                                                           \n",
       "4  let shoot tuesday                                                                                                                                                                                                                                                                                                                                                                                                                                                                                                                        \n",
       "\n",
       "                                                                                                                                                                                                                                                                                                                                                                                                                                                                                                                         tokenized_text_5  \\\n",
       "0  forecast                                                                                                                                                                                                                                                                                                                                                                                                                                                                                                                                 \n",
       "1  traveling business meeting take fun trip especially prepare presentation would suggest holding business plan meeting take trip without formal business meeting would even try get honest opinion whether trip even desired necessary far business meeting think would productive try stimulate discussion across different group working often presenter speaks others quiet waiting turn meeting might better held round table discussion format suggestion go austin play golf rent ski boat jet ski flying somewhere take much time   \n",
       "2  test successful way go                                                                                                                                                                                                                                                                                                                                                                                                                                                                                                                   \n",
       "3  randy send schedule salary level everyone scheduling group plus thought change need made patti example phillip                                                                                                                                                                                                                                                                                                                                                                                                                           \n",
       "4  let shoot tuesday                                                                                                                                                                                                                                                                                                                                                                                                                                                                                                                        \n",
       "\n",
       "                                                                                                                                                                                                                                                                                                                                                                                                                                                                                                                               final_text  \\\n",
       "0  forecast                                                                                                                                                                                                                                                                                                                                                                                                                                                                                                                                 \n",
       "1  traveling business meeting take fun trip especially prepare presentation would suggest holding business plan meeting take trip without formal business meeting would even try get honest opinion whether trip even desired necessary far business meeting think would productive try stimulate discussion across different group working often presenter speaks others quiet waiting turn meeting might better held round table discussion format suggestion go austin play golf rent ski boat jet ski flying somewhere take much time   \n",
       "2  test successful way go                                                                                                                                                                                                                                                                                                                                                                                                                                                                                                                   \n",
       "3  randy send schedule salary level everyone scheduling group plus thought change need made patti example phillip                                                                                                                                                                                                                                                                                                                                                                                                                           \n",
       "4  let shoot tuesday                                                                                                                                                                                                                                                                                                                                                                                                                                                                                                                        \n",
       "\n",
       "      name  \\\n",
       "0  allen-p   \n",
       "1  allen-p   \n",
       "2  allen-p   \n",
       "3  allen-p   \n",
       "4  allen-p   \n",
       "\n",
       "                                                                                                                                                                                                                                                                                                                                                                                                                                                                                                                                                                                                                                                                                                                                                                                                                                                                                                                                                                                                                                                                                                                                                                               pca  \n",
       "0  [0.00773993032305268, -0.051222287483423806, -0.02141581394682431, 0.003703724760825261, 0.006407716988075604, -0.01712667378906348, -0.05537584942860532, -0.12876271011165097, -0.017023998616968242, -0.008933291860998643, 0.003505645083965422, -0.03195525466069875, -0.012412609840863172, -0.011747577736143633, -0.003908520646197675, -0.015221413530081626, -0.06129690158008125, 0.005063334977019782, -0.005407083453184575, 0.004238351568001142, 0.0006787083890343313, 0.013004384535705587, 0.025996858274670884, 0.013540317077700002, 0.013328450977094253, 0.009401884808056888, -0.012053827465694649, 0.007800553480623032, -0.014017626505497885, -0.0018229789551612874, -0.008550576384633801, -0.015001100568448082, 0.0029622156662290683, -0.012111397280347626, -0.010500249528671285, -0.010289923298720647, -0.0012810852124745995, 0.0023575643155862333, -0.0036875702636947547, -0.006159880203656851, 0.0001262404132382247, -0.015423200853725644, -0.007198943177551116, -0.013680432863407116, -0.009721473565757217, -0.006792690033864189, 0.0021477258031954824, 0.0017547116431218895, -0.000453881067332907, -0.0010616689383420534]  \n",
       "1  [-0.04504139659282613, -0.061750849195010914, -0.0540447256867982, 0.11345946869850922, -0.08579813377483737, -0.01117906070865922, 0.08766075000716204, 0.03278110153973106, 0.031866512359369346, -0.004308815300236753, -0.11272826173558684, -0.005842777771687333, 0.1379504123652227, -0.029773158485364354, -0.027685805580671304, -0.10562262185801842, -0.08937168454145417, -0.09839576052177107, -0.0911742113182823, -0.01204981173218987, -0.12771195030057847, 0.012887506082750258, 0.026602508842645783, 0.07786137731238062, -0.05324211355854488, -0.042318317470970916, -0.05930896129802385, -0.06203436090055445, -0.09400217271957342, 0.12084440573461598, -0.034419240275983684, 0.019249000270750823, -0.017284112139405155, 0.03560070345273908, -0.01814588899304745, -0.0444861500609854, -0.005297013829295605, -0.06297503767990412, 0.034564445551767554, -0.017672767413449485, -0.02933623438916249, 0.00548182749545095, 0.013342523306975027, 0.034191012472594, 0.010151955461478799, -0.014796212063336093, -0.0582060548650764, -0.021470064789654967, -0.0298102256098386, -0.03134664087142798]                                          \n",
       "2  [-0.01527215564862108, -0.05755693975350933, -0.07349131372974475, 0.04195595719115024, -0.03198921797797891, -0.011222737975323168, -0.06631111497014053, -0.09976712183848299, 0.01561764333022685, -0.019197776093065447, 0.03793832633384859, -0.02190437016702573, -0.03709576672759171, -0.013624176672369152, -0.020957272218123997, -0.01606360234719227, -0.0531695713888124, -0.0017397321818894901, 0.004178517933253316, 0.009973553890417352, -0.005641794318151482, -0.005303652515050103, 0.01985723784031771, 0.02986861228706301, 0.02385485211393587, 0.0005897667352177985, 0.016565554435535732, 0.00390808053437054, -0.054048964946857125, 0.03294862426932232, -0.023960108484087608, -0.005156374427046727, 0.01985903706026982, -0.010935460735946782, 0.01713155701337745, 0.005799713877046555, -0.010246584696478643, -0.01732329127594343, 0.06751283439137032, -0.012803728627594605, -0.0999067051715088, -0.002725789863120301, 0.04438584986155001, 0.05391379609245725, 0.014873569279903501, -0.04805670534488974, -0.07365438528819719, 0.01567023269268597, 0.011707208056217538, -0.048943423788781484]                                    \n",
       "3  [-0.011342158840084639, -0.05778514694848771, -0.01790654725779986, -0.004993802755113803, -0.013709883193696194, -0.015045559167105892, 0.014493616869349015, -0.07803052532980954, -0.026930739559327684, -0.004967099168370756, -0.010881340704144298, -0.020817242303709682, -0.025233846146011523, 0.021661753863238466, -0.019910982499926518, -0.02629380336191755, -0.030074634953355515, -0.032170943634642964, -0.018214472177246564, 0.04352923562430001, 0.008676169693110237, -0.03620096140192987, 0.06898637342804928, 0.024967084665230503, -0.05507691566370825, -0.04976154180865983, 0.05574674240197432, -0.02171818302364354, 0.024491003903290485, -0.025282802520139622, 0.01791081564778786, 0.03592402906214627, 0.009797399385810247, 0.028138454852320596, 0.006923421445815651, 0.02674739258167408, -0.00579628285805898, -0.04195745644682356, 0.020762936813710216, -0.0664568313078339, 0.01435026233343188, 0.005347622773705713, 0.02889446758352176, -0.03621580613310695, 0.027519908157478363, -0.04191125825491435, -0.04174548076662855, -0.0272853550840343, 0.08830923116193516, 0.003674252299517175]                                  \n",
       "4  [-0.03799946406098509, 0.009294446642952509, -0.07561172621972487, 0.026926015151652924, 0.045442896296021815, -0.034875265033194026, -0.052087180773250065, 0.0657057005083749, -0.13964254619085936, 0.13413783590938588, 0.010141998044861189, -0.0760925808740126, -0.08145459760175389, -0.04807993966054905, 0.0026282447540976546, -0.010202017262393202, -0.1598145113693391, 0.05400975325725362, 0.0019180092589992188, -0.028034250370413214, 0.011853602943648327, 0.015516268983170566, 0.007306666858097131, 0.02356889074513577, 0.021835898487752355, 0.016685448254142105, -0.04094575775120231, 0.019555881003648145, 0.0106337523223395, 0.008229991405277366, -0.007422671845782953, -0.07065585324424783, 0.0033808346081012205, 0.0018436299695930411, 6.23205214385946e-05, -0.03840124840045465, -0.07107730347174634, 0.016367842071011354, -0.044114419077605986, 0.0743315527910237, 0.11552957114316824, -0.12349382010934415, -0.08493865934511234, 0.11660692366561735, 0.09201449116284675, -0.08998497347279917, -0.10397971627456189, -0.09212705153538077, -0.06946733908613614, -0.024427558221878105]                                        "
      ]
     },
     "execution_count": 20,
     "metadata": {},
     "output_type": "execute_result"
    }
   ],
   "source": [
    "df.head()"
   ]
  },
  {
   "cell_type": "markdown",
   "metadata": {},
   "source": [
    "### Split data"
   ]
  },
  {
   "cell_type": "code",
   "execution_count": 21,
   "metadata": {},
   "outputs": [],
   "source": [
    "def split_data(data, label, test_size):\n",
    "    \n",
    "    X = np.array(list(map(np.array, data)))\n",
    "    y = label\n",
    "\n",
    "    X_train, X_test, y_train, y_test = train_test_split(X, y,  test_size=test_size , random_state=42)\n",
    "\n",
    "    print(X_train.shape)\n",
    "    print(y_train.shape)\n",
    "    print(X_test.shape)\n",
    "    print(y_test.shape)\n",
    "    \n",
    "    return X_train, X_test, y_train, y_test"
   ]
  },
  {
   "cell_type": "code",
   "execution_count": 22,
   "metadata": {
    "scrolled": false
   },
   "outputs": [
    {
     "name": "stdout",
     "output_type": "stream",
     "text": [
      "(88792, 50)\n",
      "(88792,)\n",
      "(38054, 50)\n",
      "(38054,)\n"
     ]
    }
   ],
   "source": [
    "X_train, X_test, y_train, y_test  = split_data(df['pca'] , df['name'] , test_size=0.3)"
   ]
  },
  {
   "cell_type": "markdown",
   "metadata": {},
   "source": [
    "# SMOTE  \n",
    "Always split into test and train sets BEFORE trying oversampling techniques! Oversampling before splitting the data can allow the exact same observations to be present in both the test and train sets. This can allow our model to simply memorize specific data points and cause overfitting and poor generalization to the test data."
   ]
  },
  {
   "cell_type": "code",
   "execution_count": 23,
   "metadata": {},
   "outputs": [],
   "source": [
    "\n",
    "# from imblearn.over_sampling import SVMSMOTE\n",
    "\n",
    "# # print(\"Before OverSampling, counts of label '2': {}\".format(sum(y_train==2)))\n",
    "# # print(\"Before OverSampling, counts of label '1': {}\".format(sum(y_train==1)))\n",
    "# # print(\"Before OverSampling, counts of label '0': {} \\n\".format(sum(y_train==0)))\n",
    "\n",
    "# sm = SVMSMOTE(random_state=42)\n",
    "# X_train_res, y_train_res = sm.fit_sample(X_train, y_train)\n",
    "\n",
    "# print('After OverSampling, the shape of train_X: {}'.format(X_train_res.shape))\n",
    "# print('After OverSampling, the shape of train_y: {} \\n'.format(y_train_res.shape))\n",
    "\n",
    "# # print(\"After OverSampling, counts of label '1': {}\".format(sum(y_train_res==2)))\n",
    "# # print(\"After OverSampling, counts of label '1': {}\".format(sum(y_train_res==1)))\n",
    "# # print(\"After OverSampling, counts of label '0': {}\".format(sum(y_train_res==0)))\n"
   ]
  },
  {
   "cell_type": "markdown",
   "metadata": {},
   "source": [
    "### Sampling of data"
   ]
  },
  {
   "cell_type": "code",
   "execution_count": 24,
   "metadata": {
    "scrolled": true
   },
   "outputs": [],
   "source": [
    "# initiaize supervised learning models\n",
    "\n",
    "def data_sampling(y_train):\n",
    "    \n",
    "    #  Calculate the number of samples for 1%, 10%, and 100% of the training data\n",
    "    #  samples_100 is the entire training set i.e. len(y_train)\n",
    "    #  samples_10 is 10% of samples_100\n",
    "    #  samples_1 is 1% of samples_100 \n",
    "    \n",
    "    samples = {}\n",
    "    \n",
    "    samples['samples_1']   = int(len(y_train)/100)\n",
    "    samples['samples_10']  = int(len(y_train)*10/100)\n",
    "    samples['samples_100'] = len(y_train)\n",
    "    \n",
    "\n",
    "    print('samples_1   : ', samples['samples_1'])\n",
    "    print('samples_10  : ', samples['samples_10'])\n",
    "    print('samples_100 : ', samples['samples_100'])\n",
    "   \n",
    "    return samples\n",
    "          "
   ]
  },
  {
   "cell_type": "markdown",
   "metadata": {},
   "source": [
    "### Train, Predict and Evaluate Metrics"
   ]
  },
  {
   "cell_type": "code",
   "execution_count": 25,
   "metadata": {},
   "outputs": [],
   "source": [
    "def train_predict(learner, sample_size, X_train, y_train, X_val, y_val): \n",
    "    '''\n",
    "    inputs:\n",
    "       - learner: the learning algorithm to be trained and predicted on\n",
    "       - sample_size: the size of samples (number) to be drawn from training set\n",
    "       - X_train: features training set\n",
    "       - y_train: income training set\n",
    "       - X_val: features validation set\n",
    "       - y_val: income validation set\n",
    "    '''\n",
    "    \n",
    "    results = {}\n",
    "    \n",
    "    # Fit the learner to the training data using slicing with 'sample_size' using .fit(training_features[:], training_labels[:])\n",
    "    start = time() # Get start time\n",
    "    learner.fit(X_train[:sample_size],y_train[:sample_size])\n",
    "    end = time() # Get end time\n",
    "    \n",
    "    # Calculate the training time\n",
    "    results['train_time'] = end-start\n",
    "        \n",
    "    # Get the predictions on the validation set(X_val),\n",
    "    start = time() # Get start time\n",
    "    predictions_val = learner.predict(X_val)\n",
    "    \n",
    "    end = time() # Get end time\n",
    "    \n",
    "    # Calculate the total prediction time\n",
    "    results['pred_time'] = end-start\n",
    "        \n",
    "    #Compute accuracy on test set using accuracy_score()\n",
    "    results['acc_test'] = accuracy_score(y_val,predictions_val)\n",
    "    \n",
    "    #classification report for precision, relcall, f1-score\n",
    "#     results['f_val'] = classification_report(y_val, predictions_val, target_names=target_names)\n",
    "    results['f_val'] = classification_report(y_val, predictions_val)\n",
    "               \n",
    "    # Success\n",
    "    print(\"{} trained on {} samples in {}s time with prediction time {}s .\".format(learner.__class__.__name__\n",
    "                                                                                , sample_size,results['train_time'] \n",
    "                                                                                , results['pred_time'] ))\n",
    "    print()\n",
    "    print(\"{} Classification Report \".format(learner.__class__.__name__) )\n",
    "    print()\n",
    "    print(results['f_val'] )\n",
    "    print(\"Accuracy : \", results['acc_test'])\n",
    "    print(\"******************************************************************************************************************\")\n",
    "        \n",
    "    # Return the results\n",
    "    return results"
   ]
  },
  {
   "cell_type": "markdown",
   "metadata": {},
   "source": [
    "### Sampling"
   ]
  },
  {
   "cell_type": "code",
   "execution_count": 26,
   "metadata": {
    "scrolled": false
   },
   "outputs": [
    {
     "name": "stdout",
     "output_type": "stream",
     "text": [
      "samples_1   :  887\n",
      "samples_10  :  8879\n",
      "samples_100 :  88792\n",
      "\n",
      "{'samples_1': 887, 'samples_10': 8879, 'samples_100': 88792}\n"
     ]
    }
   ],
   "source": [
    "# X_train = X_train_res\n",
    "# y_train = y_train_res\n",
    "\n",
    "samples = {}\n",
    "\n",
    "samples = data_sampling(y_train)\n",
    "\n",
    "print()\n",
    "print(samples)"
   ]
  },
  {
   "cell_type": "markdown",
   "metadata": {},
   "source": [
    "### Target unique values"
   ]
  },
  {
   "cell_type": "code",
   "execution_count": 27,
   "metadata": {},
   "outputs": [
    {
     "name": "stdout",
     "output_type": "stream",
     "text": [
      "149\n"
     ]
    }
   ],
   "source": [
    "target_names = list( df['name']\n",
    "                   .unique())\n",
    "#pp.pprint(target_names)\n",
    "pp.pprint(len(target_names))"
   ]
  },
  {
   "cell_type": "markdown",
   "metadata": {},
   "source": [
    "### Classifiers"
   ]
  },
  {
   "cell_type": "code",
   "execution_count": 28,
   "metadata": {
    "scrolled": true
   },
   "outputs": [
    {
     "name": "stdout",
     "output_type": "stream",
     "text": [
      "\n",
      "SVC(C=1.0, cache_size=200, class_weight=None, coef0=0.0,\n",
      "    decision_function_shape='ovr', degree=3, gamma='auto_deprecated',\n",
      "    kernel='linear', max_iter=-1, probability=False, random_state=None,\n",
      "    shrinking=True, tol=0.001, verbose=False)\n",
      "\n",
      "LogisticRegression(C=1.0, class_weight=None, dual=False, fit_intercept=True,\n",
      "                   intercept_scaling=1, l1_ratio=None, max_iter=100,\n",
      "                   multi_class='auto', n_jobs=None, penalty='l2',\n",
      "                   random_state=42, solver='warn', tol=0.0001, verbose=0,\n",
      "                   warm_start=False)\n",
      "\n",
      "MultinomialNB(alpha=1.0, class_prior=None, fit_prior=True)\n"
     ]
    }
   ],
   "source": [
    "clf_A = svm.SVC(kernel='linear' )\n",
    "clf_B = LogisticRegression(multi_class='auto' , random_state=42)\n",
    "clf_C = MultinomialNB(alpha=1.0) #does not run on negative\n",
    "clf_D = RandomForestClassifier(n_estimators=100, max_depth=2,\n",
    "                             random_state=0)\n",
    "\n",
    "print()\n",
    "pp.pprint(clf_A)\n",
    "print()\n",
    "pp.pprint(clf_B)\n",
    "print()\n",
    "pp.pprint(clf_C)\n"
   ]
  },
  {
   "cell_type": "markdown",
   "metadata": {},
   "source": [
    "## Ensembling Methods"
   ]
  },
  {
   "cell_type": "markdown",
   "metadata": {},
   "source": [
    "### Stratified Ensembling"
   ]
  },
  {
   "cell_type": "code",
   "execution_count": 29,
   "metadata": {},
   "outputs": [],
   "source": [
    "from sklearn.model_selection import KFold, StratifiedKFold"
   ]
  },
  {
   "cell_type": "code",
   "execution_count": 50,
   "metadata": {},
   "outputs": [],
   "source": [
    "def Stacking(model,train,y,test,n_fold):\n",
    "    \n",
    "    folds=StratifiedKFold(n_splits=n_fold,random_state=42, shuffle=True)\n",
    "#    print(folds.get_n_splits(train, y))  - prints 10\n",
    "\n",
    "    test_pred=np.empty((test.shape[0],1),float)\n",
    "    train_pred=np.empty((0,1),float)\n",
    "    \n",
    "    for train_indices,test_indices in folds.split(train,y):\n",
    "        \n",
    "        print(\"TRAIN:\", len(train_indices), \"TEST:\", len(test_indices)) \n",
    "        \n",
    "        x_train = train[train_indices]\n",
    "        x_val   = train[test_indices]  \n",
    "        y_train =     y[train_indices]\n",
    "        y_val   =     y[test_indices]\n",
    "        \n",
    "#         model.fit(X=x_train,y=y_train)\n",
    "        \n",
    "#         train_pred=np.append(train_pred,model.predict(x_val))\n",
    "#         test_pred=np.append(test_pred,model.predict(test))\n",
    "    \n",
    "#     return test_pred.reshape(-1,1),train_pred\n",
    "    return 1,1"
   ]
  },
  {
   "cell_type": "code",
   "execution_count": 51,
   "metadata": {},
   "outputs": [
    {
     "name": "stderr",
     "output_type": "stream",
     "text": [
      "C:\\Users\\tshrs\\Anaconda3\\lib\\site-packages\\sklearn\\model_selection\\_split.py:657: Warning: The least populated class in y has only 1 members, which is too few. The minimum number of members in any class cannot be less than n_splits=10.\n",
      "  % (min_groups, self.n_splits)), Warning)\n"
     ]
    },
    {
     "name": "stdout",
     "output_type": "stream",
     "text": [
      "TRAIN: 79843 TEST: 8949\n",
      "TRAIN: 79858 TEST: 8934\n",
      "TRAIN: 79870 TEST: 8922\n",
      "TRAIN: 79891 TEST: 8901\n",
      "TRAIN: 79907 TEST: 8885\n",
      "TRAIN: 79923 TEST: 8869\n",
      "TRAIN: 79935 TEST: 8857\n"
     ]
    },
    {
     "name": "stderr",
     "output_type": "stream",
     "text": [
      "C:\\Users\\tshrs\\Anaconda3\\lib\\site-packages\\pandas\\core\\series.py:942: FutureWarning: \n",
      "Passing list-likes to .loc or [] with any missing label will raise\n",
      "KeyError in the future, you can use .reindex() as an alternative.\n",
      "\n",
      "See the documentation here:\n",
      "https://pandas.pydata.org/pandas-docs/stable/indexing.html#deprecate-loc-reindex-listlike\n",
      "  return self.loc[key]\n"
     ]
    },
    {
     "name": "stdout",
     "output_type": "stream",
     "text": [
      "TRAIN: 79953 TEST: 8839\n",
      "TRAIN: 79967 TEST: 8825\n",
      "TRAIN: 79981 TEST: 8811\n"
     ]
    },
    {
     "ename": "ValueError",
     "evalue": "DataFrame constructor not properly called!",
     "output_type": "error",
     "traceback": [
      "\u001b[1;31m---------------------------------------------------------------------------\u001b[0m",
      "\u001b[1;31mValueError\u001b[0m                                Traceback (most recent call last)",
      "\u001b[1;32m<timed exec>\u001b[0m in \u001b[0;36m<module>\u001b[1;34m\u001b[0m\n",
      "\u001b[1;32m~\\Anaconda3\\lib\\site-packages\\pandas\\core\\frame.py\u001b[0m in \u001b[0;36m__init__\u001b[1;34m(self, data, index, columns, dtype, copy)\u001b[0m\n\u001b[0;32m    466\u001b[0m                                    dtype=values.dtype, copy=False)\n\u001b[0;32m    467\u001b[0m             \u001b[1;32melse\u001b[0m\u001b[1;33m:\u001b[0m\u001b[1;33m\u001b[0m\u001b[1;33m\u001b[0m\u001b[0m\n\u001b[1;32m--> 468\u001b[1;33m                 \u001b[1;32mraise\u001b[0m \u001b[0mValueError\u001b[0m\u001b[1;33m(\u001b[0m\u001b[1;34m'DataFrame constructor not properly called!'\u001b[0m\u001b[1;33m)\u001b[0m\u001b[1;33m\u001b[0m\u001b[1;33m\u001b[0m\u001b[0m\n\u001b[0m\u001b[0;32m    469\u001b[0m \u001b[1;33m\u001b[0m\u001b[0m\n\u001b[0;32m    470\u001b[0m         \u001b[0mNDFrame\u001b[0m\u001b[1;33m.\u001b[0m\u001b[0m__init__\u001b[0m\u001b[1;33m(\u001b[0m\u001b[0mself\u001b[0m\u001b[1;33m,\u001b[0m \u001b[0mmgr\u001b[0m\u001b[1;33m,\u001b[0m \u001b[0mfastpath\u001b[0m\u001b[1;33m=\u001b[0m\u001b[1;32mTrue\u001b[0m\u001b[1;33m)\u001b[0m\u001b[1;33m\u001b[0m\u001b[1;33m\u001b[0m\u001b[0m\n",
      "\u001b[1;31mValueError\u001b[0m: DataFrame constructor not properly called!"
     ]
    }
   ],
   "source": [
    "%%time\n",
    "\n",
    "##SVM classifier\n",
    "\n",
    "test_pred1 ,train_pred1=Stacking(model=clf_A,n_fold=10, train=X_train,test=X_test,y=y_train)\n",
    "\n",
    "train_pred1=pd.DataFrame(train_pred1)\n",
    "test_pred1=pd.DataFrame(test_pred1)"
   ]
  },
  {
   "cell_type": "code",
   "execution_count": null,
   "metadata": {},
   "outputs": [],
   "source": [
    "%%time\n",
    "\n",
    "model2 = KNeighborsClassifier()\n",
    "\n",
    "test_pred2 ,train_pred2=Stacking(model=model2,n_fold=10,train=x_train,test=x_test,y=y_train)\n",
    "\n",
    "train_pred2=pd.DataFrame(train_pred2)\n",
    "test_pred2=pd.DataFrame(test_pred2)"
   ]
  },
  {
   "cell_type": "code",
   "execution_count": null,
   "metadata": {},
   "outputs": [],
   "source": [
    "df = pd.concat([train_pred1, train_pred2], axis=1)\n",
    "df_test = pd.concat([test_pred1, test_pred2], axis=1)\n",
    "\n",
    "model = LogisticRegression(random_state=1)\n",
    "model.fit(df,y_train)\n",
    "model.score(df_test, y_test)"
   ]
  }
 ],
 "metadata": {
  "kernelspec": {
   "display_name": "Python 3",
   "language": "python",
   "name": "python3"
  },
  "language_info": {
   "codemirror_mode": {
    "name": "ipython",
    "version": 3
   },
   "file_extension": ".py",
   "mimetype": "text/x-python",
   "name": "python",
   "nbconvert_exporter": "python",
   "pygments_lexer": "ipython3",
   "version": "3.6.8"
  }
 },
 "nbformat": 4,
 "nbformat_minor": 2
}
